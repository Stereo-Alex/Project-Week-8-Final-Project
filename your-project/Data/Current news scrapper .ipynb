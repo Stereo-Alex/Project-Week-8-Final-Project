{
 "cells": [
  {
   "cell_type": "code",
   "execution_count": 30,
   "id": "plain-piano",
   "metadata": {
    "ExecuteTime": {
     "end_time": "2021-03-04T16:20:16.258651Z",
     "start_time": "2021-03-04T16:20:16.254848Z"
    }
   },
   "outputs": [],
   "source": [
    "import nltk \n",
    "import newspaper \n",
    "import pandas as pd"
   ]
  },
  {
   "cell_type": "code",
   "execution_count": 126,
   "id": "loaded-minimum",
   "metadata": {
    "ExecuteTime": {
     "end_time": "2021-03-04T18:01:15.556219Z",
     "start_time": "2021-03-04T18:01:12.580332Z"
    }
   },
   "outputs": [],
   "source": [
    "paper = newspaper.build(\"https://www.nytimes.com/\")\n"
   ]
  },
  {
   "cell_type": "code",
   "execution_count": 128,
   "id": "bizarre-topic",
   "metadata": {
    "ExecuteTime": {
     "end_time": "2021-03-04T18:01:18.639882Z",
     "start_time": "2021-03-04T18:01:18.633502Z"
    },
    "code_folding": []
   },
   "outputs": [
    {
     "name": "stdout",
     "output_type": "stream",
     "text": [
      "article added, count1\n",
      "article added, count2\n",
      "article added, count3\n",
      "article added, count4\n",
      "article added, count5\n",
      "article added, count6\n",
      "article added, count7\n",
      "7\n"
     ]
    }
   ],
   "source": [
    "urls_list = []\n",
    "count = 0 \n",
    "for article in paper.articles:\n",
    "    if count != 50:\n",
    "        url = article.url\n",
    "        urls_list.append(url)\n",
    "        count = count+1\n",
    "        print(f\"article added, count{count}\")\n",
    "    else:\n",
    "        break\n",
    "print(len(urls_list))"
   ]
  },
  {
   "cell_type": "code",
   "execution_count": 129,
   "id": "recorded-rubber",
   "metadata": {
    "ExecuteTime": {
     "end_time": "2021-03-04T18:01:21.328811Z",
     "start_time": "2021-03-04T18:01:21.318804Z"
    }
   },
   "outputs": [],
   "source": [
    "from newspaper import Article\n",
    "\n",
    "\n",
    "def article_compiler(url_list):\n",
    "    '''\n",
    "    Creating a data frame with all the texts, key words and authors of the articles \n",
    "    '''\n",
    "    a_authors = []\n",
    "    a_text = []\n",
    "    a_keywords = []\n",
    "    a_date = []\n",
    "    count = 0 \n",
    "    #getting the urls \n",
    "    for url in url_list:\n",
    "        \n",
    "        url_comp = f\"{url}\"\n",
    "        article = Article(url_comp)\n",
    "        article.download()\n",
    "        article.parse()\n",
    "    \n",
    "        #getting the authors\n",
    "    \n",
    "        author1 = article.authors\n",
    "        a_authors.append(author1)\n",
    "        \n",
    "        \n",
    "        # getting the text \n",
    "        text1 = article.text\n",
    "        a_text.append(text1)\n",
    "        \n",
    "        date1 = article.publish_date\n",
    "        a_date.append(date1)\n",
    "        \n",
    "        #getting keywords \n",
    "        article.nlp()\n",
    "        \n",
    "        key1 = article.keywords\n",
    "        a_keywords.append(key1)\n",
    "        count = count + 1 \n",
    "        \n",
    "        print(f\"ran{count}\")\n",
    "    \n",
    "    \n",
    "\n",
    "    #compiling it all into a data frame \n",
    "    df = pd.DataFrame({\"Authors\" : a_authors, \"Body\" :a_text,\"Keywords\":  a_keywords, \"Date\": a_date})\n",
    "    \n",
    "    return df\n",
    "    \n",
    "    \n",
    "    "
   ]
  },
  {
   "cell_type": "code",
   "execution_count": 130,
   "id": "southwest-aging",
   "metadata": {
    "ExecuteTime": {
     "end_time": "2021-03-04T18:01:24.020465Z",
     "start_time": "2021-03-04T18:01:21.731417Z"
    }
   },
   "outputs": [
    {
     "name": "stdout",
     "output_type": "stream",
     "text": [
      "ran1\n",
      "ran2\n",
      "ran3\n",
      "ran4\n",
      "ran5\n",
      "ran6\n",
      "ran7\n"
     ]
    }
   ],
   "source": [
    "df = article_compiler(urls_list)"
   ]
  },
  {
   "cell_type": "code",
   "execution_count": 131,
   "id": "brazilian-crowd",
   "metadata": {
    "ExecuteTime": {
     "end_time": "2021-03-04T18:01:26.473691Z",
     "start_time": "2021-03-04T18:01:26.446370Z"
    }
   },
   "outputs": [
    {
     "data": {
      "text/html": [
       "<div>\n",
       "<style scoped>\n",
       "    .dataframe tbody tr th:only-of-type {\n",
       "        vertical-align: middle;\n",
       "    }\n",
       "\n",
       "    .dataframe tbody tr th {\n",
       "        vertical-align: top;\n",
       "    }\n",
       "\n",
       "    .dataframe thead th {\n",
       "        text-align: right;\n",
       "    }\n",
       "</style>\n",
       "<table border=\"1\" class=\"dataframe\">\n",
       "  <thead>\n",
       "    <tr style=\"text-align: right;\">\n",
       "      <th></th>\n",
       "      <th>Authors</th>\n",
       "      <th>Body</th>\n",
       "      <th>Keywords</th>\n",
       "      <th>Date</th>\n",
       "    </tr>\n",
       "  </thead>\n",
       "  <tbody>\n",
       "    <tr>\n",
       "      <th>0</th>\n",
       "      <td>[Nelson D. Schwartz]</td>\n",
       "      <td>Live Updated March 4, 2021, 12:42 p.m. ET Marc...</td>\n",
       "      <td>[live, rise, pandemics, claims, disney, showin...</td>\n",
       "      <td>2021-03-04</td>\n",
       "    </tr>\n",
       "    <tr>\n",
       "      <th>1</th>\n",
       "      <td>[Dionne Searcey, Benjamin Rasmussen]</td>\n",
       "      <td>The pandemic, which has driven down the price ...</td>\n",
       "      <td>[county, coal, wind, desert, knows, state, raw...</td>\n",
       "      <td>2021-03-03</td>\n",
       "    </tr>\n",
       "    <tr>\n",
       "      <th>2</th>\n",
       "      <td>[Frank Decaro]</td>\n",
       "      <td>With names like Vigor Mortis, Spikey Van Dykey...</td>\n",
       "      <td>[rule, ready, thats, takes, york, mr, performe...</td>\n",
       "      <td>2021-03-04</td>\n",
       "    </tr>\n",
       "    <tr>\n",
       "      <th>3</th>\n",
       "      <td>[Anthony Tommasini]</td>\n",
       "      <td>One of his tricks involved playing “Fisher’s H...</td>\n",
       "      <td>[bethune, wonder, born, stardom, yearsthough, ...</td>\n",
       "      <td>2021-03-03</td>\n",
       "    </tr>\n",
       "    <tr>\n",
       "      <th>4</th>\n",
       "      <td>[Jessica Winter]</td>\n",
       "      <td>When Grace Hopper, the trailblazing computer s...</td>\n",
       "      <td>[clock, clocks, wall, grace, alarm, zoom, bed,...</td>\n",
       "      <td>2021-03-03</td>\n",
       "    </tr>\n",
       "    <tr>\n",
       "      <th>5</th>\n",
       "      <td>[Joyce Cohen]</td>\n",
       "      <td>For a dozen years, Ryan Michele Woods and Jeff...</td>\n",
       "      <td>[choose, wanted, ms, house, terrace, mr, growi...</td>\n",
       "      <td>2021-03-04</td>\n",
       "    </tr>\n",
       "    <tr>\n",
       "      <th>6</th>\n",
       "      <td>[Claire Cain Miller]</td>\n",
       "      <td>The pandemic has been distinctly difficult for...</td>\n",
       "      <td>[job, burdens, shouldering, work, mothers, reg...</td>\n",
       "      <td>2021-03-04</td>\n",
       "    </tr>\n",
       "  </tbody>\n",
       "</table>\n",
       "</div>"
      ],
      "text/plain": [
       "                                Authors  \\\n",
       "0                  [Nelson D. Schwartz]   \n",
       "1  [Dionne Searcey, Benjamin Rasmussen]   \n",
       "2                        [Frank Decaro]   \n",
       "3                   [Anthony Tommasini]   \n",
       "4                      [Jessica Winter]   \n",
       "5                         [Joyce Cohen]   \n",
       "6                  [Claire Cain Miller]   \n",
       "\n",
       "                                                Body  \\\n",
       "0  Live Updated March 4, 2021, 12:42 p.m. ET Marc...   \n",
       "1  The pandemic, which has driven down the price ...   \n",
       "2  With names like Vigor Mortis, Spikey Van Dykey...   \n",
       "3  One of his tricks involved playing “Fisher’s H...   \n",
       "4  When Grace Hopper, the trailblazing computer s...   \n",
       "5  For a dozen years, Ryan Michele Woods and Jeff...   \n",
       "6  The pandemic has been distinctly difficult for...   \n",
       "\n",
       "                                            Keywords       Date  \n",
       "0  [live, rise, pandemics, claims, disney, showin... 2021-03-04  \n",
       "1  [county, coal, wind, desert, knows, state, raw... 2021-03-03  \n",
       "2  [rule, ready, thats, takes, york, mr, performe... 2021-03-04  \n",
       "3  [bethune, wonder, born, stardom, yearsthough, ... 2021-03-03  \n",
       "4  [clock, clocks, wall, grace, alarm, zoom, bed,... 2021-03-03  \n",
       "5  [choose, wanted, ms, house, terrace, mr, growi... 2021-03-04  \n",
       "6  [job, burdens, shouldering, work, mothers, reg... 2021-03-04  "
      ]
     },
     "execution_count": 131,
     "metadata": {},
     "output_type": "execute_result"
    }
   ],
   "source": [
    "df"
   ]
  },
  {
   "cell_type": "code",
   "execution_count": 132,
   "id": "further-death",
   "metadata": {
    "ExecuteTime": {
     "end_time": "2021-03-04T18:01:40.919336Z",
     "start_time": "2021-03-04T18:01:40.911948Z"
    }
   },
   "outputs": [],
   "source": [
    "df.to_csv(\"ny_times_Mar_4.csv\")"
   ]
  },
  {
   "cell_type": "code",
   "execution_count": null,
   "id": "weekly-mission",
   "metadata": {
    "ExecuteTime": {
     "end_time": "2021-03-04T18:01:41.933041Z",
     "start_time": "2021-03-04T18:01:41.889326Z"
    }
   },
   "outputs": [],
   "source": []
  },
  {
   "cell_type": "code",
   "execution_count": null,
   "id": "wrapped-cleanup",
   "metadata": {
    "ExecuteTime": {
     "end_time": "2021-03-04T16:21:24.466040Z",
     "start_time": "2021-03-04T16:21:24.453248Z"
    }
   },
   "outputs": [],
   "source": []
  },
  {
   "cell_type": "code",
   "execution_count": null,
   "id": "invalid-hartford",
   "metadata": {},
   "outputs": [],
   "source": []
  }
 ],
 "metadata": {
  "kernelspec": {
   "display_name": "tensor",
   "language": "python",
   "name": "tensor"
  },
  "language_info": {
   "codemirror_mode": {
    "name": "ipython",
    "version": 3
   },
   "file_extension": ".py",
   "mimetype": "text/x-python",
   "name": "python",
   "nbconvert_exporter": "python",
   "pygments_lexer": "ipython3",
   "version": "3.8.2"
  },
  "toc": {
   "base_numbering": 1,
   "nav_menu": {},
   "number_sections": true,
   "sideBar": true,
   "skip_h1_title": false,
   "title_cell": "Table of Contents",
   "title_sidebar": "Contents",
   "toc_cell": false,
   "toc_position": {},
   "toc_section_display": true,
   "toc_window_display": false
  }
 },
 "nbformat": 4,
 "nbformat_minor": 5
}
