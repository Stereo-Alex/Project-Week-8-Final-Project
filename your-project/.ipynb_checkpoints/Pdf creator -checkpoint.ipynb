{
 "cells": [
  {
   "cell_type": "code",
   "execution_count": 1,
   "id": "dressed-hughes",
   "metadata": {
    "ExecuteTime": {
     "end_time": "2021-03-08T17:46:28.090554Z",
     "start_time": "2021-03-08T17:46:28.046719Z"
    }
   },
   "outputs": [],
   "source": [
    "from fpdf import FPDF"
   ]
  },
  {
   "cell_type": "code",
   "execution_count": 10,
   "id": "blessed-maple",
   "metadata": {
    "ExecuteTime": {
     "end_time": "2021-03-08T17:48:58.991934Z",
     "start_time": "2021-03-08T17:48:58.987765Z"
    }
   },
   "outputs": [],
   "source": [
    "class PDF(FPDF):\n",
    "    pass"
   ]
  },
  {
   "cell_type": "code",
   "execution_count": 3,
   "id": "academic-acceptance",
   "metadata": {
    "ExecuteTime": {
     "end_time": "2021-03-08T17:47:08.278940Z",
     "start_time": "2021-03-08T17:47:08.274665Z"
    }
   },
   "outputs": [],
   "source": [
    "pdf = PDF()#pdf object"
   ]
  },
  {
   "cell_type": "code",
   "execution_count": 5,
   "id": "atlantic-perfume",
   "metadata": {
    "ExecuteTime": {
     "end_time": "2021-03-08T17:47:19.874585Z",
     "start_time": "2021-03-08T17:47:19.869643Z"
    }
   },
   "outputs": [],
   "source": [
    "pdf=PDF(orientation='L')"
   ]
  },
  {
   "cell_type": "code",
   "execution_count": 6,
   "id": "brave-warrant",
   "metadata": {
    "ExecuteTime": {
     "end_time": "2021-03-08T17:47:31.972945Z",
     "start_time": "2021-03-08T17:47:31.967916Z"
    }
   },
   "outputs": [],
   "source": [
    "pdf=PDF(unit='mm') #unit of measurement"
   ]
  },
  {
   "cell_type": "code",
   "execution_count": 7,
   "id": "republican-welcome",
   "metadata": {
    "ExecuteTime": {
     "end_time": "2021-03-08T17:47:52.615029Z",
     "start_time": "2021-03-08T17:47:52.608202Z"
    }
   },
   "outputs": [
    {
     "ename": "SyntaxError",
     "evalue": "invalid syntax (<ipython-input-7-cdf4ea3d2c85>, line 3)",
     "output_type": "error",
     "traceback": [
      "\u001b[0;36m  File \u001b[0;32m\"<ipython-input-7-cdf4ea3d2c85>\"\u001b[0;36m, line \u001b[0;32m3\u001b[0m\n\u001b[0;31m    PDF(orientation={'P'(def.) or 'L'}, measure{'mm'(def.),'cm','pt','in'}, format{'A4'(def.),'A3','A5','Letter','Legal')\u001b[0m\n\u001b[0m                         ^\u001b[0m\n\u001b[0;31mSyntaxError\u001b[0m\u001b[0;31m:\u001b[0m invalid syntax\n"
     ]
    }
   ],
   "source": [
    "pdf=PDF(format='A4') #page format. A4 is the default value of the format, you don't have to specify it.\n",
    "# full syntax\n",
    "#default"
   ]
  },
  {
   "cell_type": "code",
   "execution_count": 11,
   "id": "hawaiian-weight",
   "metadata": {
    "ExecuteTime": {
     "end_time": "2021-03-08T17:49:24.729062Z",
     "start_time": "2021-03-08T17:49:24.724106Z"
    }
   },
   "outputs": [],
   "source": [
    "pdf = PDF(orientation='P', unit='mm', format='A4')\n"
   ]
  },
  {
   "cell_type": "code",
   "execution_count": 13,
   "id": "affecting-bishop",
   "metadata": {
    "ExecuteTime": {
     "end_time": "2021-03-08T17:49:36.728762Z",
     "start_time": "2021-03-08T17:49:36.718740Z"
    }
   },
   "outputs": [
    {
     "data": {
      "text/plain": [
       "''"
      ]
     },
     "execution_count": 13,
     "metadata": {},
     "output_type": "execute_result"
    }
   ],
   "source": [
    "pdf.add_page()\n",
    "pdf.output('test.pdf','F')"
   ]
  },
  {
   "cell_type": "code",
   "execution_count": null,
   "id": "corresponding-pride",
   "metadata": {},
   "outputs": [],
   "source": []
  }
 ],
 "metadata": {
  "kernelspec": {
   "display_name": "tensor",
   "language": "python",
   "name": "tensor"
  },
  "language_info": {
   "codemirror_mode": {
    "name": "ipython",
    "version": 3
   },
   "file_extension": ".py",
   "mimetype": "text/x-python",
   "name": "python",
   "nbconvert_exporter": "python",
   "pygments_lexer": "ipython3",
   "version": "3.8.2"
  },
  "toc": {
   "base_numbering": 1,
   "nav_menu": {},
   "number_sections": true,
   "sideBar": true,
   "skip_h1_title": false,
   "title_cell": "Table of Contents",
   "title_sidebar": "Contents",
   "toc_cell": false,
   "toc_position": {},
   "toc_section_display": true,
   "toc_window_display": false
  }
 },
 "nbformat": 4,
 "nbformat_minor": 5
}
