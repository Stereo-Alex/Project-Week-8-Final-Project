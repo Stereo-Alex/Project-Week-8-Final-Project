{
 "cells": [
  {
   "cell_type": "code",
   "execution_count": 2,
   "metadata": {
    "colab": {
     "base_uri": "https://localhost:8080/"
    },
    "id": "q-YbjCkzw0yU",
    "outputId": "09c2bb72-81da-4709-bd53-2e3e90740770"
   },
   "outputs": [
    {
     "name": "stdout",
     "output_type": "stream",
     "text": [
      "\u001b[?25l\r",
      "\u001b[K     |                                | 10kB 31.3MB/s eta 0:00:01\r",
      "\u001b[K     |▏                               | 20kB 32.7MB/s eta 0:00:01\r",
      "\u001b[K     |▎                               | 30kB 20.6MB/s eta 0:00:01\r",
      "\u001b[K     |▍                               | 40kB 24.3MB/s eta 0:00:01\r",
      "\u001b[K     |▌                               | 51kB 25.3MB/s eta 0:00:01\r",
      "\u001b[K     |▋                               | 61kB 28.0MB/s eta 0:00:01\r",
      "\u001b[K     |▊                               | 71kB 18.8MB/s eta 0:00:01\r",
      "\u001b[K     |▉                               | 81kB 20.2MB/s eta 0:00:01\r",
      "\u001b[K     |▉                               | 92kB 18.6MB/s eta 0:00:01\r",
      "\u001b[K     |█                               | 102kB 18.4MB/s eta 0:00:01\r",
      "\u001b[K     |█                               | 112kB 18.4MB/s eta 0:00:01\r",
      "\u001b[K     |█▏                              | 122kB 18.4MB/s eta 0:00:01\r",
      "\u001b[K     |█▎                              | 133kB 18.4MB/s eta 0:00:01\r",
      "\u001b[K     |█▍                              | 143kB 18.4MB/s eta 0:00:01\r",
      "\u001b[K     |█▌                              | 153kB 18.4MB/s eta 0:00:01\r",
      "\u001b[K     |█▋                              | 163kB 18.4MB/s eta 0:00:01\r",
      "\u001b[K     |█▋                              | 174kB 18.4MB/s eta 0:00:01\r",
      "\u001b[K     |█▊                              | 184kB 18.4MB/s eta 0:00:01\r",
      "\u001b[K     |█▉                              | 194kB 18.4MB/s eta 0:00:01\r",
      "\u001b[K     |██                              | 204kB 18.4MB/s eta 0:00:01\r",
      "\u001b[K     |██                              | 215kB 18.4MB/s eta 0:00:01\r",
      "\u001b[K     |██▏                             | 225kB 18.4MB/s eta 0:00:01\r",
      "\u001b[K     |██▎                             | 235kB 18.4MB/s eta 0:00:01\r",
      "\u001b[K     |██▍                             | 245kB 18.4MB/s eta 0:00:01\r",
      "\u001b[K     |██▍                             | 256kB 18.4MB/s eta 0:00:01\r",
      "\u001b[K     |██▌                             | 266kB 18.4MB/s eta 0:00:01\r",
      "\u001b[K     |██▋                             | 276kB 18.4MB/s eta 0:00:01\r",
      "\u001b[K     |██▊                             | 286kB 18.4MB/s eta 0:00:01\r",
      "\u001b[K     |██▉                             | 296kB 18.4MB/s eta 0:00:01\r",
      "\u001b[K     |███                             | 307kB 18.4MB/s eta 0:00:01\r",
      "\u001b[K     |███                             | 317kB 18.4MB/s eta 0:00:01\r",
      "\u001b[K     |███▏                            | 327kB 18.4MB/s eta 0:00:01\r",
      "\u001b[K     |███▏                            | 337kB 18.4MB/s eta 0:00:01\r",
      "\u001b[K     |███▎                            | 348kB 18.4MB/s eta 0:00:01\r",
      "\u001b[K     |███▍                            | 358kB 18.4MB/s eta 0:00:01\r",
      "\u001b[K     |███▌                            | 368kB 18.4MB/s eta 0:00:01\r",
      "\u001b[K     |███▋                            | 378kB 18.4MB/s eta 0:00:01\r",
      "\u001b[K     |███▊                            | 389kB 18.4MB/s eta 0:00:01\r",
      "\u001b[K     |███▉                            | 399kB 18.4MB/s eta 0:00:01\r",
      "\u001b[K     |████                            | 409kB 18.4MB/s eta 0:00:01\r",
      "\u001b[K     |████                            | 419kB 18.4MB/s eta 0:00:01\r",
      "\u001b[K     |████                            | 430kB 18.4MB/s eta 0:00:01\r",
      "\u001b[K     |████▏                           | 440kB 18.4MB/s eta 0:00:01\r",
      "\u001b[K     |████▎                           | 450kB 18.4MB/s eta 0:00:01\r",
      "\u001b[K     |████▍                           | 460kB 18.4MB/s eta 0:00:01\r",
      "\u001b[K     |████▌                           | 471kB 18.4MB/s eta 0:00:01\r",
      "\u001b[K     |████▋                           | 481kB 18.4MB/s eta 0:00:01\r",
      "\u001b[K     |████▊                           | 491kB 18.4MB/s eta 0:00:01\r",
      "\u001b[K     |████▊                           | 501kB 18.4MB/s eta 0:00:01\r",
      "\u001b[K     |████▉                           | 512kB 18.4MB/s eta 0:00:01\r",
      "\u001b[K     |█████                           | 522kB 18.4MB/s eta 0:00:01\r",
      "\u001b[K     |█████                           | 532kB 18.4MB/s eta 0:00:01\r",
      "\u001b[K     |█████▏                          | 542kB 18.4MB/s eta 0:00:01\r",
      "\u001b[K     |█████▎                          | 552kB 18.4MB/s eta 0:00:01\r",
      "\u001b[K     |█████▍                          | 563kB 18.4MB/s eta 0:00:01\r",
      "\u001b[K     |█████▌                          | 573kB 18.4MB/s eta 0:00:01\r",
      "\u001b[K     |█████▌                          | 583kB 18.4MB/s eta 0:00:01\r",
      "\u001b[K     |█████▋                          | 593kB 18.4MB/s eta 0:00:01\r",
      "\u001b[K     |█████▊                          | 604kB 18.4MB/s eta 0:00:01\r",
      "\u001b[K     |█████▉                          | 614kB 18.4MB/s eta 0:00:01\r",
      "\u001b[K     |██████                          | 624kB 18.4MB/s eta 0:00:01\r",
      "\u001b[K     |██████                          | 634kB 18.4MB/s eta 0:00:01\r",
      "\u001b[K     |██████▏                         | 645kB 18.4MB/s eta 0:00:01\r",
      "\u001b[K     |██████▎                         | 655kB 18.4MB/s eta 0:00:01\r",
      "\u001b[K     |██████▎                         | 665kB 18.4MB/s eta 0:00:01\r",
      "\u001b[K     |██████▍                         | 675kB 18.4MB/s eta 0:00:01\r",
      "\u001b[K     |██████▌                         | 686kB 18.4MB/s eta 0:00:01\r",
      "\u001b[K     |██████▋                         | 696kB 18.4MB/s eta 0:00:01\r",
      "\u001b[K     |██████▊                         | 706kB 18.4MB/s eta 0:00:01\r",
      "\u001b[K     |██████▉                         | 716kB 18.4MB/s eta 0:00:01\r",
      "\u001b[K     |███████                         | 727kB 18.4MB/s eta 0:00:01\r",
      "\u001b[K     |███████                         | 737kB 18.4MB/s eta 0:00:01\r",
      "\u001b[K     |███████                         | 747kB 18.4MB/s eta 0:00:01\r",
      "\u001b[K     |███████▏                        | 757kB 18.4MB/s eta 0:00:01\r",
      "\u001b[K     |███████▎                        | 768kB 18.4MB/s eta 0:00:01\r",
      "\u001b[K     |███████▍                        | 778kB 18.4MB/s eta 0:00:01\r",
      "\u001b[K     |███████▌                        | 788kB 18.4MB/s eta 0:00:01\r",
      "\u001b[K     |███████▋                        | 798kB 18.4MB/s eta 0:00:01\r",
      "\u001b[K     |███████▊                        | 808kB 18.4MB/s eta 0:00:01\r",
      "\u001b[K     |███████▉                        | 819kB 18.4MB/s eta 0:00:01\r",
      "\u001b[K     |███████▉                        | 829kB 18.4MB/s eta 0:00:01\r",
      "\u001b[K     |████████                        | 839kB 18.4MB/s eta 0:00:01\r",
      "\u001b[K     |████████                        | 849kB 18.4MB/s eta 0:00:01\r",
      "\u001b[K     |████████▏                       | 860kB 18.4MB/s eta 0:00:01\r",
      "\u001b[K     |████████▎                       | 870kB 18.4MB/s eta 0:00:01\r",
      "\u001b[K     |████████▍                       | 880kB 18.4MB/s eta 0:00:01\r",
      "\u001b[K     |████████▌                       | 890kB 18.4MB/s eta 0:00:01\r",
      "\u001b[K     |████████▋                       | 901kB 18.4MB/s eta 0:00:01\r",
      "\u001b[K     |████████▋                       | 911kB 18.4MB/s eta 0:00:01\r",
      "\u001b[K     |████████▊                       | 921kB 18.4MB/s eta 0:00:01\r",
      "\u001b[K     |████████▉                       | 931kB 18.4MB/s eta 0:00:01\r",
      "\u001b[K     |█████████                       | 942kB 18.4MB/s eta 0:00:01\r",
      "\u001b[K     |█████████                       | 952kB 18.4MB/s eta 0:00:01\r",
      "\u001b[K     |█████████▏                      | 962kB 18.4MB/s eta 0:00:01\r",
      "\u001b[K     |█████████▎                      | 972kB 18.4MB/s eta 0:00:01\r",
      "\u001b[K     |█████████▍                      | 983kB 18.4MB/s eta 0:00:01\r",
      "\u001b[K     |█████████▌                      | 993kB 18.4MB/s eta 0:00:01\r",
      "\u001b[K     |█████████▌                      | 1.0MB 18.4MB/s eta 0:00:01\r",
      "\u001b[K     |█████████▋                      | 1.0MB 18.4MB/s eta 0:00:01\r",
      "\u001b[K     |█████████▊                      | 1.0MB 18.4MB/s eta 0:00:01\r",
      "\u001b[K     |█████████▉                      | 1.0MB 18.4MB/s eta 0:00:01\r",
      "\u001b[K     |██████████                      | 1.0MB 18.4MB/s eta 0:00:01\r",
      "\u001b[K     |██████████                      | 1.1MB 18.4MB/s eta 0:00:01\r",
      "\u001b[K     |██████████▏                     | 1.1MB 18.4MB/s eta 0:00:01\r",
      "\u001b[K     |██████████▎                     | 1.1MB 18.4MB/s eta 0:00:01\r",
      "\u001b[K     |██████████▎                     | 1.1MB 18.4MB/s eta 0:00:01\r",
      "\u001b[K     |██████████▍                     | 1.1MB 18.4MB/s eta 0:00:01\r",
      "\u001b[K     |██████████▌                     | 1.1MB 18.4MB/s eta 0:00:01\r",
      "\u001b[K     |██████████▋                     | 1.1MB 18.4MB/s eta 0:00:01\r",
      "\u001b[K     |██████████▊                     | 1.1MB 18.4MB/s eta 0:00:01\r",
      "\u001b[K     |██████████▉                     | 1.1MB 18.4MB/s eta 0:00:01\r",
      "\u001b[K     |███████████                     | 1.1MB 18.4MB/s eta 0:00:01\r",
      "\u001b[K     |███████████                     | 1.2MB 18.4MB/s eta 0:00:01\r",
      "\u001b[K     |███████████                     | 1.2MB 18.4MB/s eta 0:00:01\r",
      "\u001b[K     |███████████▏                    | 1.2MB 18.4MB/s eta 0:00:01\r",
      "\u001b[K     |███████████▎                    | 1.2MB 18.4MB/s eta 0:00:01\r",
      "\u001b[K     |███████████▍                    | 1.2MB 18.4MB/s eta 0:00:01\r",
      "\u001b[K     |███████████▌                    | 1.2MB 18.4MB/s eta 0:00:01\r",
      "\u001b[K     |███████████▋                    | 1.2MB 18.4MB/s eta 0:00:01\r",
      "\u001b[K     |███████████▊                    | 1.2MB 18.4MB/s eta 0:00:01\r",
      "\u001b[K     |███████████▉                    | 1.2MB 18.4MB/s eta 0:00:01\r",
      "\u001b[K     |███████████▉                    | 1.2MB 18.4MB/s eta 0:00:01\r",
      "\u001b[K     |████████████                    | 1.3MB 18.4MB/s eta 0:00:01\r",
      "\u001b[K     |████████████                    | 1.3MB 18.4MB/s eta 0:00:01\r",
      "\u001b[K     |████████████▏                   | 1.3MB 18.4MB/s eta 0:00:01\r",
      "\u001b[K     |████████████▎                   | 1.3MB 18.4MB/s eta 0:00:01\r",
      "\u001b[K     |████████████▍                   | 1.3MB 18.4MB/s eta 0:00:01\r",
      "\u001b[K     |████████████▌                   | 1.3MB 18.4MB/s eta 0:00:01\r",
      "\u001b[K     |████████████▋                   | 1.3MB 18.4MB/s eta 0:00:01\r",
      "\u001b[K     |████████████▋                   | 1.3MB 18.4MB/s eta 0:00:01\r",
      "\u001b[K     |████████████▊                   | 1.3MB 18.4MB/s eta 0:00:01\r",
      "\u001b[K     |████████████▉                   | 1.4MB 18.4MB/s eta 0:00:01\r",
      "\u001b[K     |█████████████                   | 1.4MB 18.4MB/s eta 0:00:01\r",
      "\u001b[K     |█████████████                   | 1.4MB 18.4MB/s eta 0:00:01\r",
      "\u001b[K     |█████████████▏                  | 1.4MB 18.4MB/s eta 0:00:01\r",
      "\u001b[K     |█████████████▎                  | 1.4MB 18.4MB/s eta 0:00:01\r",
      "\u001b[K     |█████████████▍                  | 1.4MB 18.4MB/s eta 0:00:01\r",
      "\u001b[K     |█████████████▍                  | 1.4MB 18.4MB/s eta 0:00:01\r",
      "\u001b[K     |█████████████▌                  | 1.4MB 18.4MB/s eta 0:00:01\r",
      "\u001b[K     |█████████████▋                  | 1.4MB 18.4MB/s eta 0:00:01\r",
      "\u001b[K     |█████████████▊                  | 1.4MB 18.4MB/s eta 0:00:01\r",
      "\u001b[K     |█████████████▉                  | 1.5MB 18.4MB/s eta 0:00:01\r",
      "\u001b[K     |██████████████                  | 1.5MB 18.4MB/s eta 0:00:01\r",
      "\u001b[K     |██████████████                  | 1.5MB 18.4MB/s eta 0:00:01\r",
      "\u001b[K     |██████████████▏                 | 1.5MB 18.4MB/s eta 0:00:01\r",
      "\u001b[K     |██████████████▏                 | 1.5MB 18.4MB/s eta 0:00:01\r",
      "\u001b[K     |██████████████▎                 | 1.5MB 18.4MB/s eta 0:00:01\r",
      "\u001b[K     |██████████████▍                 | 1.5MB 18.4MB/s eta 0:00:01\r",
      "\u001b[K     |██████████████▌                 | 1.5MB 18.4MB/s eta 0:00:01\r",
      "\u001b[K     |██████████████▋                 | 1.5MB 18.4MB/s eta 0:00:01\r",
      "\u001b[K     |██████████████▊                 | 1.5MB 18.4MB/s eta 0:00:01\r",
      "\u001b[K     |██████████████▉                 | 1.6MB 18.4MB/s eta 0:00:01\r",
      "\u001b[K     |███████████████                 | 1.6MB 18.4MB/s eta 0:00:01\r",
      "\u001b[K     |███████████████                 | 1.6MB 18.4MB/s eta 0:00:01\r",
      "\u001b[K     |███████████████                 | 1.6MB 18.4MB/s eta 0:00:01\r",
      "\u001b[K     |███████████████▏                | 1.6MB 18.4MB/s eta 0:00:01\r",
      "\u001b[K     |███████████████▎                | 1.6MB 18.4MB/s eta 0:00:01\r",
      "\u001b[K     |███████████████▍                | 1.6MB 18.4MB/s eta 0:00:01\r",
      "\u001b[K     |███████████████▌                | 1.6MB 18.4MB/s eta 0:00:01\r",
      "\u001b[K     |███████████████▋                | 1.6MB 18.4MB/s eta 0:00:01\r",
      "\u001b[K     |███████████████▊                | 1.6MB 18.4MB/s eta 0:00:01\r",
      "\u001b[K     |███████████████▊                | 1.7MB 18.4MB/s eta 0:00:01\r",
      "\u001b[K     |███████████████▉                | 1.7MB 18.4MB/s eta 0:00:01\r",
      "\u001b[K     |████████████████                | 1.7MB 18.4MB/s eta 0:00:01\r",
      "\u001b[K     |████████████████                | 1.7MB 18.4MB/s eta 0:00:01\r",
      "\u001b[K     |████████████████▏               | 1.7MB 18.4MB/s eta 0:00:01\r",
      "\u001b[K     |████████████████▎               | 1.7MB 18.4MB/s eta 0:00:01\r",
      "\u001b[K     |████████████████▍               | 1.7MB 18.4MB/s eta 0:00:01\r",
      "\u001b[K     |████████████████▌               | 1.7MB 18.4MB/s eta 0:00:01\r",
      "\u001b[K     |████████████████▌               | 1.7MB 18.4MB/s eta 0:00:01\r",
      "\u001b[K     |████████████████▋               | 1.8MB 18.4MB/s eta 0:00:01\r",
      "\u001b[K     |████████████████▊               | 1.8MB 18.4MB/s eta 0:00:01\r",
      "\u001b[K     |████████████████▉               | 1.8MB 18.4MB/s eta 0:00:01\r",
      "\u001b[K     |█████████████████               | 1.8MB 18.4MB/s eta 0:00:01\r",
      "\u001b[K     |█████████████████               | 1.8MB 18.4MB/s eta 0:00:01\r",
      "\u001b[K     |█████████████████▏              | 1.8MB 18.4MB/s eta 0:00:01\r",
      "\u001b[K     |█████████████████▎              | 1.8MB 18.4MB/s eta 0:00:01\r",
      "\u001b[K     |█████████████████▎              | 1.8MB 18.4MB/s eta 0:00:01\r",
      "\u001b[K     |█████████████████▍              | 1.8MB 18.4MB/s eta 0:00:01\r",
      "\u001b[K     |█████████████████▌              | 1.8MB 18.4MB/s eta 0:00:01\r",
      "\u001b[K     |█████████████████▋              | 1.9MB 18.4MB/s eta 0:00:01\r",
      "\u001b[K     |█████████████████▊              | 1.9MB 18.4MB/s eta 0:00:01\r",
      "\u001b[K     |█████████████████▉              | 1.9MB 18.4MB/s eta 0:00:01\r",
      "\u001b[K     |██████████████████              | 1.9MB 18.4MB/s eta 0:00:01\r",
      "\u001b[K     |██████████████████              | 1.9MB 18.4MB/s eta 0:00:01\r",
      "\u001b[K     |██████████████████              | 1.9MB 18.4MB/s eta 0:00:01\r",
      "\u001b[K     |██████████████████▏             | 1.9MB 18.4MB/s eta 0:00:01\r",
      "\u001b[K     |██████████████████▎             | 1.9MB 18.4MB/s eta 0:00:01\r",
      "\u001b[K     |██████████████████▍             | 1.9MB 18.4MB/s eta 0:00:01\r",
      "\u001b[K     |██████████████████▌             | 1.9MB 18.4MB/s eta 0:00:01\r",
      "\u001b[K     |██████████████████▋             | 2.0MB 18.4MB/s eta 0:00:01\r",
      "\u001b[K     |██████████████████▊             | 2.0MB 18.4MB/s eta 0:00:01\r",
      "\u001b[K     |██████████████████▉             | 2.0MB 18.4MB/s eta 0:00:01\r",
      "\u001b[K     |███████████████████             | 2.0MB 18.4MB/s eta 0:00:01\r",
      "\u001b[K     |███████████████████             | 2.0MB 18.4MB/s eta 0:00:01\r",
      "\u001b[K     |███████████████████             | 2.0MB 18.4MB/s eta 0:00:01\r",
      "\u001b[K     |███████████████████▏            | 2.0MB 18.4MB/s eta 0:00:01\r",
      "\u001b[K     |███████████████████▎            | 2.0MB 18.4MB/s eta 0:00:01\r",
      "\u001b[K     |███████████████████▍            | 2.0MB 18.4MB/s eta 0:00:01\r",
      "\u001b[K     |███████████████████▌            | 2.0MB 18.4MB/s eta 0:00:01\r",
      "\u001b[K     |███████████████████▋            | 2.1MB 18.4MB/s eta 0:00:01\r",
      "\u001b[K     |███████████████████▊            | 2.1MB 18.4MB/s eta 0:00:01\r",
      "\u001b[K     |███████████████████▊            | 2.1MB 18.4MB/s eta 0:00:01\r",
      "\u001b[K     |███████████████████▉            | 2.1MB 18.4MB/s eta 0:00:01\r",
      "\u001b[K     |████████████████████            | 2.1MB 18.4MB/s eta 0:00:01\r",
      "\u001b[K     |████████████████████            | 2.1MB 18.4MB/s eta 0:00:01\r",
      "\u001b[K     |████████████████████▏           | 2.1MB 18.4MB/s eta 0:00:01\r",
      "\u001b[K     |████████████████████▎           | 2.1MB 18.4MB/s eta 0:00:01\r",
      "\u001b[K     |████████████████████▍           | 2.1MB 18.4MB/s eta 0:00:01\r",
      "\u001b[K     |████████████████████▌           | 2.2MB 18.4MB/s eta 0:00:01\r",
      "\u001b[K     |████████████████████▌           | 2.2MB 18.4MB/s eta 0:00:01\r",
      "\u001b[K     |████████████████████▋           | 2.2MB 18.4MB/s eta 0:00:01\r",
      "\u001b[K     |████████████████████▊           | 2.2MB 18.4MB/s eta 0:00:01\r",
      "\u001b[K     |████████████████████▉           | 2.2MB 18.4MB/s eta 0:00:01\r",
      "\u001b[K     |█████████████████████           | 2.2MB 18.4MB/s eta 0:00:01\r",
      "\u001b[K     |█████████████████████           | 2.2MB 18.4MB/s eta 0:00:01\r",
      "\u001b[K     |█████████████████████▏          | 2.2MB 18.4MB/s eta 0:00:01\r",
      "\u001b[K     |█████████████████████▎          | 2.2MB 18.4MB/s eta 0:00:01\r",
      "\u001b[K     |█████████████████████▎          | 2.2MB 18.4MB/s eta 0:00:01\r",
      "\u001b[K     |█████████████████████▍          | 2.3MB 18.4MB/s eta 0:00:01\r",
      "\u001b[K     |█████████████████████▌          | 2.3MB 18.4MB/s eta 0:00:01\r",
      "\u001b[K     |█████████████████████▋          | 2.3MB 18.4MB/s eta 0:00:01\r",
      "\u001b[K     |█████████████████████▊          | 2.3MB 18.4MB/s eta 0:00:01\r",
      "\u001b[K     |█████████████████████▉          | 2.3MB 18.4MB/s eta 0:00:01\r",
      "\u001b[K     |██████████████████████          | 2.3MB 18.4MB/s eta 0:00:01\r",
      "\u001b[K     |██████████████████████          | 2.3MB 18.4MB/s eta 0:00:01\r",
      "\u001b[K     |██████████████████████          | 2.3MB 18.4MB/s eta 0:00:01\r",
      "\u001b[K     |██████████████████████▏         | 2.3MB 18.4MB/s eta 0:00:01\r",
      "\u001b[K     |██████████████████████▎         | 2.3MB 18.4MB/s eta 0:00:01\r",
      "\u001b[K     |██████████████████████▍         | 2.4MB 18.4MB/s eta 0:00:01\r",
      "\u001b[K     |██████████████████████▌         | 2.4MB 18.4MB/s eta 0:00:01\r",
      "\u001b[K     |██████████████████████▋         | 2.4MB 18.4MB/s eta 0:00:01\r",
      "\u001b[K     |██████████████████████▊         | 2.4MB 18.4MB/s eta 0:00:01\r",
      "\u001b[K     |██████████████████████▉         | 2.4MB 18.4MB/s eta 0:00:01\r",
      "\u001b[K     |██████████████████████▉         | 2.4MB 18.4MB/s eta 0:00:01\r",
      "\u001b[K     |███████████████████████         | 2.4MB 18.4MB/s eta 0:00:01\r",
      "\u001b[K     |███████████████████████         | 2.4MB 18.4MB/s eta 0:00:01\r",
      "\u001b[K     |███████████████████████▏        | 2.4MB 18.4MB/s eta 0:00:01\r",
      "\u001b[K     |███████████████████████▎        | 2.4MB 18.4MB/s eta 0:00:01\r",
      "\u001b[K     |███████████████████████▍        | 2.5MB 18.4MB/s eta 0:00:01\r",
      "\u001b[K     |███████████████████████▌        | 2.5MB 18.4MB/s eta 0:00:01\r",
      "\u001b[K     |███████████████████████▋        | 2.5MB 18.4MB/s eta 0:00:01\r",
      "\u001b[K     |███████████████████████▋        | 2.5MB 18.4MB/s eta 0:00:01\r",
      "\u001b[K     |███████████████████████▊        | 2.5MB 18.4MB/s eta 0:00:01\r",
      "\u001b[K     |███████████████████████▉        | 2.5MB 18.4MB/s eta 0:00:01\r",
      "\u001b[K     |████████████████████████        | 2.5MB 18.4MB/s eta 0:00:01\r",
      "\u001b[K     |████████████████████████        | 2.5MB 18.4MB/s eta 0:00:01\r",
      "\u001b[K     |████████████████████████▏       | 2.5MB 18.4MB/s eta 0:00:01\r",
      "\u001b[K     |████████████████████████▎       | 2.5MB 18.4MB/s eta 0:00:01\r",
      "\u001b[K     |████████████████████████▍       | 2.6MB 18.4MB/s eta 0:00:01\r",
      "\u001b[K     |████████████████████████▍       | 2.6MB 18.4MB/s eta 0:00:01\r",
      "\u001b[K     |████████████████████████▌       | 2.6MB 18.4MB/s eta 0:00:01\r",
      "\u001b[K     |████████████████████████▋       | 2.6MB 18.4MB/s eta 0:00:01\r",
      "\u001b[K     |████████████████████████▊       | 2.6MB 18.4MB/s eta 0:00:01\r",
      "\u001b[K     |████████████████████████▉       | 2.6MB 18.4MB/s eta 0:00:01\r",
      "\u001b[K     |█████████████████████████       | 2.6MB 18.4MB/s eta 0:00:01\r",
      "\u001b[K     |█████████████████████████       | 2.6MB 18.4MB/s eta 0:00:01\r",
      "\u001b[K     |█████████████████████████▏      | 2.6MB 18.4MB/s eta 0:00:01\r",
      "\u001b[K     |█████████████████████████▏      | 2.7MB 18.4MB/s eta 0:00:01\r",
      "\u001b[K     |█████████████████████████▎      | 2.7MB 18.4MB/s eta 0:00:01\r",
      "\u001b[K     |█████████████████████████▍      | 2.7MB 18.4MB/s eta 0:00:01\r",
      "\u001b[K     |█████████████████████████▌      | 2.7MB 18.4MB/s eta 0:00:01\r",
      "\u001b[K     |█████████████████████████▋      | 2.7MB 18.4MB/s eta 0:00:01\r",
      "\u001b[K     |█████████████████████████▊      | 2.7MB 18.4MB/s eta 0:00:01\r",
      "\u001b[K     |█████████████████████████▉      | 2.7MB 18.4MB/s eta 0:00:01\r",
      "\u001b[K     |██████████████████████████      | 2.7MB 18.4MB/s eta 0:00:01\r",
      "\u001b[K     |██████████████████████████      | 2.7MB 18.4MB/s eta 0:00:01\r",
      "\u001b[K     |██████████████████████████      | 2.7MB 18.4MB/s eta 0:00:01\r",
      "\u001b[K     |██████████████████████████▏     | 2.8MB 18.4MB/s eta 0:00:01\r",
      "\u001b[K     |██████████████████████████▎     | 2.8MB 18.4MB/s eta 0:00:01\r",
      "\u001b[K     |██████████████████████████▍     | 2.8MB 18.4MB/s eta 0:00:01\r",
      "\u001b[K     |██████████████████████████▌     | 2.8MB 18.4MB/s eta 0:00:01\r",
      "\u001b[K     |██████████████████████████▋     | 2.8MB 18.4MB/s eta 0:00:01\r",
      "\u001b[K     |██████████████████████████▊     | 2.8MB 18.4MB/s eta 0:00:01\r",
      "\u001b[K     |██████████████████████████▊     | 2.8MB 18.4MB/s eta 0:00:01\r",
      "\u001b[K     |██████████████████████████▉     | 2.8MB 18.4MB/s eta 0:00:01\r",
      "\u001b[K     |███████████████████████████     | 2.8MB 18.4MB/s eta 0:00:01\r",
      "\u001b[K     |███████████████████████████     | 2.8MB 18.4MB/s eta 0:00:01\r",
      "\u001b[K     |███████████████████████████▏    | 2.9MB 18.4MB/s eta 0:00:01\r",
      "\u001b[K     |███████████████████████████▎    | 2.9MB 18.4MB/s eta 0:00:01\r",
      "\u001b[K     |███████████████████████████▍    | 2.9MB 18.4MB/s eta 0:00:01\r",
      "\u001b[K     |███████████████████████████▌    | 2.9MB 18.4MB/s eta 0:00:01\r",
      "\u001b[K     |███████████████████████████▌    | 2.9MB 18.4MB/s eta 0:00:01\r",
      "\u001b[K     |███████████████████████████▋    | 2.9MB 18.4MB/s eta 0:00:01\r",
      "\u001b[K     |███████████████████████████▊    | 2.9MB 18.4MB/s eta 0:00:01\r",
      "\u001b[K     |███████████████████████████▉    | 2.9MB 18.4MB/s eta 0:00:01\r",
      "\u001b[K     |████████████████████████████    | 2.9MB 18.4MB/s eta 0:00:01\r",
      "\u001b[K     |████████████████████████████    | 2.9MB 18.4MB/s eta 0:00:01\r",
      "\u001b[K     |████████████████████████████▏   | 3.0MB 18.4MB/s eta 0:00:01\r",
      "\u001b[K     |████████████████████████████▎   | 3.0MB 18.4MB/s eta 0:00:01\r",
      "\u001b[K     |████████████████████████████▍   | 3.0MB 18.4MB/s eta 0:00:01\r",
      "\u001b[K     |████████████████████████████▍   | 3.0MB 18.4MB/s eta 0:00:01\r",
      "\u001b[K     |████████████████████████████▌   | 3.0MB 18.4MB/s eta 0:00:01\r",
      "\u001b[K     |████████████████████████████▋   | 3.0MB 18.4MB/s eta 0:00:01\r",
      "\u001b[K     |████████████████████████████▊   | 3.0MB 18.4MB/s eta 0:00:01\r",
      "\u001b[K     |████████████████████████████▉   | 3.0MB 18.4MB/s eta 0:00:01\r",
      "\u001b[K     |█████████████████████████████   | 3.0MB 18.4MB/s eta 0:00:01\r",
      "\u001b[K     |█████████████████████████████   | 3.1MB 18.4MB/s eta 0:00:01\r",
      "\u001b[K     |█████████████████████████████▏  | 3.1MB 18.4MB/s eta 0:00:01\r",
      "\u001b[K     |█████████████████████████████▏  | 3.1MB 18.4MB/s eta 0:00:01\r",
      "\u001b[K     |█████████████████████████████▎  | 3.1MB 18.4MB/s eta 0:00:01\r",
      "\u001b[K     |█████████████████████████████▍  | 3.1MB 18.4MB/s eta 0:00:01\r",
      "\u001b[K     |█████████████████████████████▌  | 3.1MB 18.4MB/s eta 0:00:01\r",
      "\u001b[K     |█████████████████████████████▋  | 3.1MB 18.4MB/s eta 0:00:01\r",
      "\u001b[K     |█████████████████████████████▊  | 3.1MB 18.4MB/s eta 0:00:01\r",
      "\u001b[K     |█████████████████████████████▉  | 3.1MB 18.4MB/s eta 0:00:01\r",
      "\u001b[K     |██████████████████████████████  | 3.1MB 18.4MB/s eta 0:00:01\r",
      "\u001b[K     |██████████████████████████████  | 3.2MB 18.4MB/s eta 0:00:01\r",
      "\u001b[K     |██████████████████████████████  | 3.2MB 18.4MB/s eta 0:00:01\r",
      "\u001b[K     |██████████████████████████████▏ | 3.2MB 18.4MB/s eta 0:00:01\r",
      "\u001b[K     |██████████████████████████████▎ | 3.2MB 18.4MB/s eta 0:00:01\r",
      "\u001b[K     |██████████████████████████████▍ | 3.2MB 18.4MB/s eta 0:00:01\r",
      "\u001b[K     |██████████████████████████████▌ | 3.2MB 18.4MB/s eta 0:00:01\r",
      "\u001b[K     |██████████████████████████████▋ | 3.2MB 18.4MB/s eta 0:00:01\r",
      "\u001b[K     |██████████████████████████████▊ | 3.2MB 18.4MB/s eta 0:00:01\r",
      "\u001b[K     |██████████████████████████████▊ | 3.2MB 18.4MB/s eta 0:00:01\r",
      "\u001b[K     |██████████████████████████████▉ | 3.2MB 18.4MB/s eta 0:00:01\r",
      "\u001b[K     |███████████████████████████████ | 3.3MB 18.4MB/s eta 0:00:01\r",
      "\u001b[K     |███████████████████████████████ | 3.3MB 18.4MB/s eta 0:00:01\r",
      "\u001b[K     |███████████████████████████████▏| 3.3MB 18.4MB/s eta 0:00:01\r",
      "\u001b[K     |███████████████████████████████▎| 3.3MB 18.4MB/s eta 0:00:01\r",
      "\u001b[K     |███████████████████████████████▍| 3.3MB 18.4MB/s eta 0:00:01\r",
      "\u001b[K     |███████████████████████████████▌| 3.3MB 18.4MB/s eta 0:00:01\r",
      "\u001b[K     |███████████████████████████████▌| 3.3MB 18.4MB/s eta 0:00:01\r",
      "\u001b[K     |███████████████████████████████▋| 3.3MB 18.4MB/s eta 0:00:01\r",
      "\u001b[K     |███████████████████████████████▊| 3.3MB 18.4MB/s eta 0:00:01\r",
      "\u001b[K     |███████████████████████████████▉| 3.3MB 18.4MB/s eta 0:00:01\r",
      "\u001b[K     |████████████████████████████████| 3.4MB 18.4MB/s eta 0:00:01\r",
      "\u001b[K     |████████████████████████████████| 3.4MB 18.4MB/s \n",
      "\u001b[?25h"
     ]
    }
   ],
   "source": [
    "# A dependency of the preprocessing for BERT inputs\n",
    "!pip install -q tensorflow-text"
   ]
  },
  {
   "cell_type": "markdown",
   "metadata": {
    "id": "5w_XlxN1IsRJ"
   },
   "source": [
    "You will use the AdamW optimizer from [tensorflow/models](https://github.com/tensorflow/models)."
   ]
  },
  {
   "cell_type": "code",
   "execution_count": 3,
   "metadata": {
    "colab": {
     "base_uri": "https://localhost:8080/"
    },
    "id": "b-P1ZOA0FkVJ",
    "outputId": "ce1865c3-3743-49d2-95ac-87e4ecefd4e4"
   },
   "outputs": [
    {
     "name": "stdout",
     "output_type": "stream",
     "text": [
      "\u001b[K     |████████████████████████████████| 1.1MB 20.3MB/s \n",
      "\u001b[K     |████████████████████████████████| 174kB 56.9MB/s \n",
      "\u001b[K     |████████████████████████████████| 706kB 53.6MB/s \n",
      "\u001b[K     |████████████████████████████████| 51kB 8.3MB/s \n",
      "\u001b[K     |████████████████████████████████| 358kB 51.6MB/s \n",
      "\u001b[K     |████████████████████████████████| 102kB 14.5MB/s \n",
      "\u001b[K     |████████████████████████████████| 645kB 50.2MB/s \n",
      "\u001b[K     |████████████████████████████████| 37.6MB 80kB/s \n",
      "\u001b[K     |████████████████████████████████| 1.2MB 49.3MB/s \n",
      "\u001b[?25h  Building wheel for seqeval (setup.py) ... \u001b[?25l\u001b[?25hdone\n",
      "  Building wheel for py-cpuinfo (setup.py) ... \u001b[?25l\u001b[?25hdone\n"
     ]
    }
   ],
   "source": [
    "!pip install -q tf-models-official"
   ]
  },
  {
   "cell_type": "code",
   "execution_count": 4,
   "metadata": {
    "id": "_XgTpm9ZxoN9"
   },
   "outputs": [],
   "source": [
    "import os\n",
    "import shutil\n",
    "import numpy as np\n",
    "\n",
    "import tensorflow as tf\n",
    "import tensorflow_hub as hub\n",
    "import tensorflow_text as text\n",
    "from official.nlp import optimization  # to create AdamW optmizer\n",
    "\n",
    "import matplotlib.pyplot as plt\n",
    "\n",
    "tf.get_logger().setLevel('ERROR')"
   ]
  },
  {
   "cell_type": "code",
   "execution_count": 25,
   "metadata": {
    "colab": {
     "base_uri": "https://localhost:8080/",
     "height": 419
    },
    "id": "ziZYIKl_ZAwO",
    "outputId": "80115c24-314a-45f4-def2-b12e13f01b8b"
   },
   "outputs": [
    {
     "data": {
      "text/html": [
       "<div>\n",
       "<style scoped>\n",
       "    .dataframe tbody tr th:only-of-type {\n",
       "        vertical-align: middle;\n",
       "    }\n",
       "\n",
       "    .dataframe tbody tr th {\n",
       "        vertical-align: top;\n",
       "    }\n",
       "\n",
       "    .dataframe thead th {\n",
       "        text-align: right;\n",
       "    }\n",
       "</style>\n",
       "<table border=\"1\" class=\"dataframe\">\n",
       "  <thead>\n",
       "    <tr style=\"text-align: right;\">\n",
       "      <th></th>\n",
       "      <th>LABEL_COLUMN</th>\n",
       "      <th>DATA_COLUMN</th>\n",
       "    </tr>\n",
       "  </thead>\n",
       "  <tbody>\n",
       "    <tr>\n",
       "      <th>0</th>\n",
       "      <td>0.5</td>\n",
       "      <td>Technopolis plans to develop in stages an area...</td>\n",
       "    </tr>\n",
       "    <tr>\n",
       "      <th>1</th>\n",
       "      <td>0.0</td>\n",
       "      <td>The international electronic industry company ...</td>\n",
       "    </tr>\n",
       "    <tr>\n",
       "      <th>2</th>\n",
       "      <td>1.0</td>\n",
       "      <td>With the new production plant the company woul...</td>\n",
       "    </tr>\n",
       "    <tr>\n",
       "      <th>3</th>\n",
       "      <td>1.0</td>\n",
       "      <td>According to the company 's updated strategy f...</td>\n",
       "    </tr>\n",
       "    <tr>\n",
       "      <th>4</th>\n",
       "      <td>1.0</td>\n",
       "      <td>FINANCING OF ASPOCOMP 'S GROWTH Aspocomp is ag...</td>\n",
       "    </tr>\n",
       "    <tr>\n",
       "      <th>...</th>\n",
       "      <td>...</td>\n",
       "      <td>...</td>\n",
       "    </tr>\n",
       "    <tr>\n",
       "      <th>4840</th>\n",
       "      <td>0.0</td>\n",
       "      <td>LONDON MarketWatch -- Share prices ended lower...</td>\n",
       "    </tr>\n",
       "    <tr>\n",
       "      <th>4841</th>\n",
       "      <td>0.5</td>\n",
       "      <td>Rinkuskiai 's beer sales fell by 6.5 per cent ...</td>\n",
       "    </tr>\n",
       "    <tr>\n",
       "      <th>4842</th>\n",
       "      <td>0.0</td>\n",
       "      <td>Operating profit fell to EUR 35.4 mn from EUR ...</td>\n",
       "    </tr>\n",
       "    <tr>\n",
       "      <th>4843</th>\n",
       "      <td>0.0</td>\n",
       "      <td>Net sales of the Paper segment decreased to EU...</td>\n",
       "    </tr>\n",
       "    <tr>\n",
       "      <th>4844</th>\n",
       "      <td>0.0</td>\n",
       "      <td>Sales in Finland decreased by 10.5 % in Januar...</td>\n",
       "    </tr>\n",
       "  </tbody>\n",
       "</table>\n",
       "<p>4845 rows × 2 columns</p>\n",
       "</div>"
      ],
      "text/plain": [
       "      LABEL_COLUMN                                        DATA_COLUMN\n",
       "0              0.5  Technopolis plans to develop in stages an area...\n",
       "1              0.0  The international electronic industry company ...\n",
       "2              1.0  With the new production plant the company woul...\n",
       "3              1.0  According to the company 's updated strategy f...\n",
       "4              1.0  FINANCING OF ASPOCOMP 'S GROWTH Aspocomp is ag...\n",
       "...            ...                                                ...\n",
       "4840           0.0  LONDON MarketWatch -- Share prices ended lower...\n",
       "4841           0.5  Rinkuskiai 's beer sales fell by 6.5 per cent ...\n",
       "4842           0.0  Operating profit fell to EUR 35.4 mn from EUR ...\n",
       "4843           0.0  Net sales of the Paper segment decreased to EU...\n",
       "4844           0.0  Sales in Finland decreased by 10.5 % in Januar...\n",
       "\n",
       "[4845 rows x 2 columns]"
      ]
     },
     "execution_count": 25,
     "metadata": {
      "tags": []
     },
     "output_type": "execute_result"
    }
   ],
   "source": [
    "import pandas as pd\n",
    "dataset = pd.read_csv('/content/all-data.csv', encoding='latin-1')\n",
    "dataset.columns = ['LABEL_COLUMN', 'DATA_COLUMN']\n",
    "dataset\n",
    "\n",
    "labels = pd.get_dummies(dataset.LABEL_COLUMN)\n",
    "labels = np.array(labels)\n",
    "labels\n",
    "\n",
    "from sklearn import preprocessing\n",
    "le = preprocessing.LabelEncoder()\n",
    "transformed_d = le.fit_transform(dataset.LABEL_COLUMN)\n",
    "dataset.LABEL_COLUMN = transformed_d\n",
    "dataset.LABEL_COLUMN = dataset.LABEL_COLUMN/2\n",
    "dataset\n"
   ]
  },
  {
   "cell_type": "code",
   "execution_count": 6,
   "metadata": {
    "id": "vkvMf6Z_vZOF"
   },
   "outputs": [],
   "source": [
    "labels = np.array(dataset.LABEL_COLUMN)"
   ]
  },
  {
   "cell_type": "code",
   "execution_count": 26,
   "metadata": {
    "id": "pOdqCMoQDRJL"
   },
   "outputs": [],
   "source": [
    "data=tf.convert_to_tensor(dataset.DATA_COLUMN)"
   ]
  },
  {
   "cell_type": "markdown",
   "metadata": {
    "id": "dX8FtlpGJRE6"
   },
   "source": [
    "## Loading models from TensorFlow Hub\n",
    "\n",
    "Here you can choose which BERT model you will load from TensorFlow Hub and fine-tune. There are multiple BERT models available.\n",
    "\n",
    "  - [BERT-Base](https://tfhub.dev/tensorflow/bert_en_uncased_L-12_H-768_A-12/3), [Uncased](https://tfhub.dev/tensorflow/bert_en_uncased_L-12_H-768_A-12/3) and [seven more models](https://tfhub.dev/google/collections/bert/1) with trained weights released by the original BERT authors.\n",
    "  - [Small BERTs](https://tfhub.dev/google/collections/bert/1) have the same general architecture but fewer and/or smaller Transformer blocks, which lets you explore tradeoffs between speed, size and quality.\n",
    "  - [ALBERT](https://tfhub.dev/google/collections/albert/1): four different sizes of \"A Lite BERT\" that reduces model size (but not computation time) by sharing parameters between layers.\n",
    "  - [BERT Experts](https://tfhub.dev/google/collections/experts/bert/1): eight models that all have the BERT-base architecture but offer a choice between different pre-training domains, to align more closely with the target task.\n",
    "  - [Electra](https://tfhub.dev/google/collections/electra/1) has the same architecture as BERT (in three different sizes), but gets pre-trained as a discriminator in a set-up that resembles a Generative Adversarial Network (GAN).\n",
    "  - BERT with Talking-Heads Attention and Gated GELU [[base](https://tfhub.dev/tensorflow/talkheads_ggelu_bert_en_base/1), [large](https://tfhub.dev/tensorflow/talkheads_ggelu_bert_en_large/1)] has two improvements to the core of the Transformer architecture.\n",
    "\n",
    "The model documentation on TensorFlow Hub has more details and references to the\n",
    "research literature. Follow the links above, or click on the [`tfhub.dev`](http://tfhub.dev) URL\n",
    "printed after the next cell execution.\n",
    "\n",
    "The suggestion is to start with a Small BERT (with fewer parameters) since they are faster to fine-tune. If you like a small model but with higher accuracy, ALBERT might be your next option. If you want even better accuracy, choose\n",
    "one of the classic BERT sizes or their recent refinements like Electra, Talking Heads, or a BERT Expert.\n",
    "\n",
    "Aside from the models available below, there are [multiple versions](https://tfhub.dev/google/collections/transformer_encoders_text/1) of the models that are larger and can yeld even better accuracy but they are too big to be fine-tuned on a single GPU. You will be able to do that on the [Solve GLUE tasks using BERT on a TPU colab](https://www.tensorflow.org/tutorials/text/solve_glue_tasks_using_bert_on_tpu).\n",
    "\n",
    "You'll see in the code below that switching the tfhub.dev URL is enough to try any of these models, because all the differences between them are encapsulated in the SavedModels from TF Hub."
   ]
  },
  {
   "cell_type": "code",
   "execution_count": 1,
   "metadata": {
    "ExecuteTime": {
     "end_time": "2021-03-11T20:35:28.458154Z",
     "start_time": "2021-03-11T20:35:28.421179Z"
    },
    "cellView": "form",
    "colab": {
     "base_uri": "https://localhost:8080/"
    },
    "id": "y8_ctG55-uTX",
    "outputId": "45b016fa-3918-4875-bae8-7c1f46c89232"
   },
   "outputs": [
    {
     "name": "stdout",
     "output_type": "stream",
     "text": [
      "BERT model selected           : https://tfhub.dev/tensorflow/bert_en_uncased_L-12_H-768_A-12/3\n",
      "Preprocess model auto-selected: https://tfhub.dev/tensorflow/bert_en_uncased_preprocess/3\n"
     ]
    }
   ],
   "source": [
    "#@title Choose a BERT model to fine-tune\n",
    "\n",
    "bert_model_name = 'bert_en_uncased_L-12_H-768_A-12'  #@param [\"bert_en_uncased_L-12_H-768_A-12\", \"bert_en_cased_L-12_H-768_A-12\", \"bert_multi_cased_L-12_H-768_A-12\", \"small_bert/bert_en_uncased_L-2_H-128_A-2\", \"small_bert/bert_en_uncased_L-2_H-256_A-4\", \"small_bert/bert_en_uncased_L-2_H-512_A-8\", \"small_bert/bert_en_uncased_L-2_H-768_A-12\", \"small_bert/bert_en_uncased_L-4_H-128_A-2\", \"small_bert/bert_en_uncased_L-4_H-256_A-4\", \"small_bert/bert_en_uncased_L-4_H-512_A-8\", \"small_bert/bert_en_uncased_L-4_H-768_A-12\", \"small_bert/bert_en_uncased_L-6_H-128_A-2\", \"small_bert/bert_en_uncased_L-6_H-256_A-4\", \"small_bert/bert_en_uncased_L-6_H-512_A-8\", \"small_bert/bert_en_uncased_L-6_H-768_A-12\", \"small_bert/bert_en_uncased_L-8_H-128_A-2\", \"small_bert/bert_en_uncased_L-8_H-256_A-4\", \"small_bert/bert_en_uncased_L-8_H-512_A-8\", \"small_bert/bert_en_uncased_L-8_H-768_A-12\", \"small_bert/bert_en_uncased_L-10_H-128_A-2\", \"small_bert/bert_en_uncased_L-10_H-256_A-4\", \"small_bert/bert_en_uncased_L-10_H-512_A-8\", \"small_bert/bert_en_uncased_L-10_H-768_A-12\", \"small_bert/bert_en_uncased_L-12_H-128_A-2\", \"small_bert/bert_en_uncased_L-12_H-256_A-4\", \"small_bert/bert_en_uncased_L-12_H-512_A-8\", \"small_bert/bert_en_uncased_L-12_H-768_A-12\", \"albert_en_base\", \"electra_small\", \"electra_base\", \"experts_pubmed\", \"experts_wiki_books\", \"talking-heads_base\"]\n",
    "\n",
    "map_name_to_handle = {\n",
    "    'bert_en_uncased_L-12_H-768_A-12':\n",
    "        'https://tfhub.dev/tensorflow/bert_en_uncased_L-12_H-768_A-12/3',\n",
    "    'bert_en_cased_L-12_H-768_A-12':\n",
    "        'https://tfhub.dev/tensorflow/bert_en_cased_L-12_H-768_A-12/3',\n",
    "    'bert_multi_cased_L-12_H-768_A-12':\n",
    "        'https://tfhub.dev/tensorflow/bert_multi_cased_L-12_H-768_A-12/3',\n",
    "    'small_bert/bert_en_uncased_L-2_H-128_A-2':\n",
    "        'https://tfhub.dev/tensorflow/small_bert/bert_en_uncased_L-2_H-128_A-2/1',\n",
    "    'small_bert/bert_en_uncased_L-2_H-256_A-4':\n",
    "        'https://tfhub.dev/tensorflow/small_bert/bert_en_uncased_L-2_H-256_A-4/1',\n",
    "    'small_bert/bert_en_uncased_L-2_H-512_A-8':\n",
    "        'https://tfhub.dev/tensorflow/small_bert/bert_en_uncased_L-2_H-512_A-8/1',\n",
    "    'small_bert/bert_en_uncased_L-2_H-768_A-12':\n",
    "        'https://tfhub.dev/tensorflow/small_bert/bert_en_uncased_L-2_H-768_A-12/1',\n",
    "    'small_bert/bert_en_uncased_L-4_H-128_A-2':\n",
    "        'https://tfhub.dev/tensorflow/small_bert/bert_en_uncased_L-4_H-128_A-2/1',\n",
    "    'small_bert/bert_en_uncased_L-4_H-256_A-4':\n",
    "        'https://tfhub.dev/tensorflow/small_bert/bert_en_uncased_L-4_H-256_A-4/1',\n",
    "    'small_bert/bert_en_uncased_L-4_H-512_A-8':\n",
    "        'https://tfhub.dev/tensorflow/small_bert/bert_en_uncased_L-4_H-512_A-8/1',\n",
    "    'small_bert/bert_en_uncased_L-4_H-768_A-12':\n",
    "        'https://tfhub.dev/tensorflow/small_bert/bert_en_uncased_L-4_H-768_A-12/1',\n",
    "    'small_bert/bert_en_uncased_L-6_H-128_A-2':\n",
    "        'https://tfhub.dev/tensorflow/small_bert/bert_en_uncased_L-6_H-128_A-2/1',\n",
    "    'small_bert/bert_en_uncased_L-6_H-256_A-4':\n",
    "        'https://tfhub.dev/tensorflow/small_bert/bert_en_uncased_L-6_H-256_A-4/1',\n",
    "    'small_bert/bert_en_uncased_L-6_H-512_A-8':\n",
    "        'https://tfhub.dev/tensorflow/small_bert/bert_en_uncased_L-6_H-512_A-8/1',\n",
    "    'small_bert/bert_en_uncased_L-6_H-768_A-12':\n",
    "        'https://tfhub.dev/tensorflow/small_bert/bert_en_uncased_L-6_H-768_A-12/1',\n",
    "    'small_bert/bert_en_uncased_L-8_H-128_A-2':\n",
    "        'https://tfhub.dev/tensorflow/small_bert/bert_en_uncased_L-8_H-128_A-2/1',\n",
    "    'small_bert/bert_en_uncased_L-8_H-256_A-4':\n",
    "        'https://tfhub.dev/tensorflow/small_bert/bert_en_uncased_L-8_H-256_A-4/1',\n",
    "    'small_bert/bert_en_uncased_L-8_H-512_A-8':\n",
    "        'https://tfhub.dev/tensorflow/small_bert/bert_en_uncased_L-8_H-512_A-8/1',\n",
    "    'small_bert/bert_en_uncased_L-8_H-768_A-12':\n",
    "        'https://tfhub.dev/tensorflow/small_bert/bert_en_uncased_L-8_H-768_A-12/1',\n",
    "    'small_bert/bert_en_uncased_L-10_H-128_A-2':\n",
    "        'https://tfhub.dev/tensorflow/small_bert/bert_en_uncased_L-10_H-128_A-2/1',\n",
    "    'small_bert/bert_en_uncased_L-10_H-256_A-4':\n",
    "        'https://tfhub.dev/tensorflow/small_bert/bert_en_uncased_L-10_H-256_A-4/1',\n",
    "    'small_bert/bert_en_uncased_L-10_H-512_A-8':\n",
    "        'https://tfhub.dev/tensorflow/small_bert/bert_en_uncased_L-10_H-512_A-8/1',\n",
    "    'small_bert/bert_en_uncased_L-10_H-768_A-12':\n",
    "        'https://tfhub.dev/tensorflow/small_bert/bert_en_uncased_L-10_H-768_A-12/1',\n",
    "    'small_bert/bert_en_uncased_L-12_H-128_A-2':\n",
    "        'https://tfhub.dev/tensorflow/small_bert/bert_en_uncased_L-12_H-128_A-2/1',\n",
    "    'small_bert/bert_en_uncased_L-12_H-256_A-4':\n",
    "        'https://tfhub.dev/tensorflow/small_bert/bert_en_uncased_L-12_H-256_A-4/1',\n",
    "    'small_bert/bert_en_uncased_L-12_H-512_A-8':\n",
    "        'https://tfhub.dev/tensorflow/small_bert/bert_en_uncased_L-12_H-512_A-8/1',\n",
    "    'small_bert/bert_en_uncased_L-12_H-768_A-12':\n",
    "        'https://tfhub.dev/tensorflow/small_bert/bert_en_uncased_L-12_H-768_A-12/1',\n",
    "    'albert_en_base':\n",
    "        'https://tfhub.dev/tensorflow/albert_en_base/2',\n",
    "    'electra_small':\n",
    "        'https://tfhub.dev/google/electra_small/2',\n",
    "    'electra_base':\n",
    "        'https://tfhub.dev/google/electra_base/2',\n",
    "    'experts_pubmed':\n",
    "        'https://tfhub.dev/google/experts/bert/pubmed/2',\n",
    "    'experts_wiki_books':\n",
    "        'https://tfhub.dev/google/experts/bert/wiki_books/2',\n",
    "    'talking-heads_base':\n",
    "        'https://tfhub.dev/tensorflow/talkheads_ggelu_bert_en_base/1',\n",
    "}\n",
    "\n",
    "map_model_to_preprocess = {\n",
    "    'bert_en_uncased_L-12_H-768_A-12':\n",
    "        'https://tfhub.dev/tensorflow/bert_en_uncased_preprocess/3',\n",
    "    'bert_en_cased_L-12_H-768_A-12':\n",
    "        'https://tfhub.dev/tensorflow/bert_en_cased_preprocess/3',\n",
    "    'small_bert/bert_en_uncased_L-2_H-128_A-2':\n",
    "        'https://tfhub.dev/tensorflow/bert_en_uncased_preprocess/3',\n",
    "    'small_bert/bert_en_uncased_L-2_H-256_A-4':\n",
    "        'https://tfhub.dev/tensorflow/bert_en_uncased_preprocess/3',\n",
    "    'small_bert/bert_en_uncased_L-2_H-512_A-8':\n",
    "        'https://tfhub.dev/tensorflow/bert_en_uncased_preprocess/3',\n",
    "    'small_bert/bert_en_uncased_L-2_H-768_A-12':\n",
    "        'https://tfhub.dev/tensorflow/bert_en_uncased_preprocess/3',\n",
    "    'small_bert/bert_en_uncased_L-4_H-128_A-2':\n",
    "        'https://tfhub.dev/tensorflow/bert_en_uncased_preprocess/3',\n",
    "    'small_bert/bert_en_uncased_L-4_H-256_A-4':\n",
    "        'https://tfhub.dev/tensorflow/bert_en_uncased_preprocess/3',\n",
    "    'small_bert/bert_en_uncased_L-4_H-512_A-8':\n",
    "        'https://tfhub.dev/tensorflow/bert_en_uncased_preprocess/3',\n",
    "    'small_bert/bert_en_uncased_L-4_H-768_A-12':\n",
    "        'https://tfhub.dev/tensorflow/bert_en_uncased_preprocess/3',\n",
    "    'small_bert/bert_en_uncased_L-6_H-128_A-2':\n",
    "        'https://tfhub.dev/tensorflow/bert_en_uncased_preprocess/3',\n",
    "    'small_bert/bert_en_uncased_L-6_H-256_A-4':\n",
    "        'https://tfhub.dev/tensorflow/bert_en_uncased_preprocess/3',\n",
    "    'small_bert/bert_en_uncased_L-6_H-512_A-8':\n",
    "        'https://tfhub.dev/tensorflow/bert_en_uncased_preprocess/3',\n",
    "    'small_bert/bert_en_uncased_L-6_H-768_A-12':\n",
    "        'https://tfhub.dev/tensorflow/bert_en_uncased_preprocess/3',\n",
    "    'small_bert/bert_en_uncased_L-8_H-128_A-2':\n",
    "        'https://tfhub.dev/tensorflow/bert_en_uncased_preprocess/3',\n",
    "    'small_bert/bert_en_uncased_L-8_H-256_A-4':\n",
    "        'https://tfhub.dev/tensorflow/bert_en_uncased_preprocess/3',\n",
    "    'small_bert/bert_en_uncased_L-8_H-512_A-8':\n",
    "        'https://tfhub.dev/tensorflow/bert_en_uncased_preprocess/3',\n",
    "    'small_bert/bert_en_uncased_L-8_H-768_A-12':\n",
    "        'https://tfhub.dev/tensorflow/bert_en_uncased_preprocess/3',\n",
    "    'small_bert/bert_en_uncased_L-10_H-128_A-2':\n",
    "        'https://tfhub.dev/tensorflow/bert_en_uncased_preprocess/3',\n",
    "    'small_bert/bert_en_uncased_L-10_H-256_A-4':\n",
    "        'https://tfhub.dev/tensorflow/bert_en_uncased_preprocess/3',\n",
    "    'small_bert/bert_en_uncased_L-10_H-512_A-8':\n",
    "        'https://tfhub.dev/tensorflow/bert_en_uncased_preprocess/3',\n",
    "    'small_bert/bert_en_uncased_L-10_H-768_A-12':\n",
    "        'https://tfhub.dev/tensorflow/bert_en_uncased_preprocess/3',\n",
    "    'small_bert/bert_en_uncased_L-12_H-128_A-2':\n",
    "        'https://tfhub.dev/tensorflow/bert_en_uncased_preprocess/3',\n",
    "    'small_bert/bert_en_uncased_L-12_H-256_A-4':\n",
    "        'https://tfhub.dev/tensorflow/bert_en_uncased_preprocess/3',\n",
    "    'small_bert/bert_en_uncased_L-12_H-512_A-8':\n",
    "        'https://tfhub.dev/tensorflow/bert_en_uncased_preprocess/3',\n",
    "    'small_bert/bert_en_uncased_L-12_H-768_A-12':\n",
    "        'https://tfhub.dev/tensorflow/bert_en_uncased_preprocess/3',\n",
    "    'bert_multi_cased_L-12_H-768_A-12':\n",
    "        'https://tfhub.dev/tensorflow/bert_multi_cased_preprocess/3',\n",
    "    'albert_en_base':\n",
    "        'https://tfhub.dev/tensorflow/albert_en_preprocess/3',\n",
    "    'electra_small':\n",
    "        'https://tfhub.dev/tensorflow/bert_en_uncased_preprocess/3',\n",
    "    'electra_base':\n",
    "        'https://tfhub.dev/tensorflow/bert_en_uncased_preprocess/3',\n",
    "    'experts_pubmed':\n",
    "        'https://tfhub.dev/tensorflow/bert_en_uncased_preprocess/3',\n",
    "    'experts_wiki_books':\n",
    "        'https://tfhub.dev/tensorflow/bert_en_uncased_preprocess/3',\n",
    "    'talking-heads_base':\n",
    "        'https://tfhub.dev/tensorflow/bert_en_uncased_preprocess/3',\n",
    "}\n",
    "\n",
    "tfhub_handle_encoder = map_name_to_handle[bert_model_name]\n",
    "tfhub_handle_preprocess = map_model_to_preprocess[bert_model_name]\n",
    "\n",
    "print(f'BERT model selected           : {tfhub_handle_encoder}')\n",
    "print(f'Preprocess model auto-selected: {tfhub_handle_preprocess}')"
   ]
  },
  {
   "cell_type": "markdown",
   "metadata": {
    "id": "7WrcxxTRDdHi"
   },
   "source": [
    "## The preprocessing model\n",
    "\n",
    "Text inputs need to be transformed to numeric token ids and arranged in several Tensors before being input to BERT. TensorFlow Hub provides a matching preprocessing model for each of the BERT models discussed above, which implements this transformation using TF ops from the TF.text library. It is not necessary to run pure Python code outside your TensorFlow model to preprocess text.\n",
    "\n",
    "The preprocessing model must be the one referenced by the documentation of the BERT model, which you can read at the URL printed above. For BERT models from the drop-down above, the preprocessing model is selected automatically.\n",
    "\n",
    "Note: You will load the preprocessing model into a [hub.KerasLayer](https://www.tensorflow.org/hub/api_docs/python/hub/KerasLayer) to compose your fine-tuned model. This is the preferred API to load a TF2-style SavedModel from TF Hub into a Keras model."
   ]
  },
  {
   "cell_type": "code",
   "execution_count": 9,
   "metadata": {
    "id": "0SQi-jWd_jzq"
   },
   "outputs": [],
   "source": [
    "bert_preprocess_model = hub.KerasLayer(tfhub_handle_preprocess)"
   ]
  },
  {
   "cell_type": "markdown",
   "metadata": {
    "id": "DKnLPSEmtp9i"
   },
   "source": [
    "## Using the BERT model\n",
    "\n",
    "Before putting BERT into your own model, let's take a look at its outputs. You will load it from TF Hub and see the returned values."
   ]
  },
  {
   "cell_type": "code",
   "execution_count": 30,
   "metadata": {
    "id": "tXxYpK8ixL34"
   },
   "outputs": [],
   "source": [
    "bert_model = hub.KerasLayer(tfhub_handle_encoder)"
   ]
  },
  {
   "cell_type": "markdown",
   "metadata": {
    "id": "sm61jDrezAll"
   },
   "source": [
    "The BERT models return a map with 3 important keys: `pooled_output`, `sequence_output`, `encoder_outputs`:\n",
    "\n",
    "- `pooled_output` to represent each input sequence as a whole. The shape is `[batch_size, H]`. You can think of this as an embedding for the entire movie review.\n",
    "- `sequence_output` represents each input token in the context. The shape is `[batch_size, seq_length, H]`. You can think of this as a contextual embedding for every token in the movie review.\n",
    "- `encoder_outputs` are the intermediate activations of the `L` Transformer blocks. `outputs[\"encoder_outputs\"][i]` is a Tensor of shape `[batch_size, seq_length, 1024]` with the outputs of the i-th Transformer block, for `0 <= i < L`. The last value of the list is equal to `sequence_output`.\n",
    "\n",
    "For the fine-tuning you are going to use the `pooled_output` array."
   ]
  },
  {
   "cell_type": "markdown",
   "metadata": {
    "id": "pDNKfAXbDnJH"
   },
   "source": [
    "## Define your model\n",
    "\n",
    "You will create a very simple fine-tuned model, with the preprocessing model, the selected BERT model, one Dense and a Dropout layer.\n",
    "\n",
    "Note: for more information about the base model's input and output you can use just follow the model's url for documentation. Here specifically you don't need to worry about it because the preprocessing model will take care of that for you.\n"
   ]
  },
  {
   "cell_type": "code",
   "execution_count": 32,
   "metadata": {
    "id": "aksj743St9ga"
   },
   "outputs": [],
   "source": [
    "def build_classifier_model():\n",
    "    text_input = tf.keras.layers.Input(shape=(), dtype=tf.string,name='text')\n",
    "    preprocessing_layer = hub.KerasLayer(tfhub_handle_preprocess, name='preprocessing')\n",
    "    encoder_inputs = preprocessing_layer(text_input)\n",
    "    encoder = hub.KerasLayer(tfhub_handle_encoder, trainable=True, name='BERT_encoder')\n",
    "    outputs = encoder(encoder_inputs)\n",
    "    net = outputs['pooled_output']\n",
    "    net = tf.keras.layers.Dropout(0.1)(net)\n",
    "    net = tf.keras.layers.Dense(1,activation='relu', name='classifier')(net)\n",
    "    return tf.keras.Model(text_input, net)"
   ]
  },
  {
   "cell_type": "code",
   "execution_count": 17,
   "metadata": {
    "colab": {
     "base_uri": "https://localhost:8080/",
     "height": 466
    },
    "id": "0EmzyHZXKIpm",
    "outputId": "0f7a1e3b-ac3d-4d18-d6f9-393805a5155d"
   },
   "outputs": [
    {
     "data": {
      "image/png": "[encoded data removed]",
      "text/plain": [
       "<IPython.core.display.Image object>"
      ]
     },
     "execution_count": 17,
     "metadata": {
      "tags": []
     },
     "output_type": "execute_result"
    }
   ],
   "source": [
    "tf.keras.utils.plot_model(classifier_model)"
   ]
  },
  {
   "cell_type": "markdown",
   "metadata": {
    "id": "WbUWoZMwc302"
   },
   "source": [
    "## Model training\n",
    "\n",
    "You now have all the pieces to train a model, including the preprocessing module, BERT encoder, data, and classifier."
   ]
  },
  {
   "cell_type": "markdown",
   "metadata": {
    "id": "WpJ3xcwDT56v"
   },
   "source": [
    "### Loss function\n",
    "\n",
    "Since this is a binary classification problem and the model outputs a probability (a single-unit layer), you'll use `losses.BinaryCrossentropy` loss function.\n"
   ]
  },
  {
   "cell_type": "code",
   "execution_count": 34,
   "metadata": {
    "id": "OWPOZE-L3AgE"
   },
   "outputs": [],
   "source": [
    "loss = tf.keras.losses.MeanSquaredError()#CategoricalCrossentropy(from_logits=True) \n",
    "metrics = ['accuracy']#tf.metrics.#CategoricalAccuracy()"
   ]
  },
  {
   "cell_type": "markdown",
   "metadata": {
    "id": "77psrpfzbxtp"
   },
   "source": [
    "### Optimizer\n",
    "\n",
    "For fine-tuning, let's use the same optimizer that BERT was originally trained with: the \"Adaptive Moments\" (Adam). This optimizer minimizes the prediction loss and does regularization by weight decay (not using moments), which is also known as [AdamW](https://arxiv.org/abs/1711.05101).\n",
    "\n",
    "For the learning rate (`init_lr`), we use the same schedule as BERT pre-training: linear decay of a notional initial learning rate, prefixed with a linear warm-up phase over the first 10% of training steps (`num_warmup_steps`). In line with the BERT paper, the initial learning rate is smaller for fine-tuning (best of 5e-5, 3e-5, 2e-5)."
   ]
  },
  {
   "cell_type": "code",
   "execution_count": 35,
   "metadata": {
    "id": "P9eP2y9dbw32"
   },
   "outputs": [],
   "source": [
    "epochs = 9\n",
    "steps_per_epoch = len(data)\n",
    "num_train_steps = steps_per_epoch * epochs\n",
    "num_warmup_steps = int(0.1*num_train_steps)\n",
    "\n",
    "init_lr = 3e-5\n",
    "optimizer = optimization.create_optimizer(init_lr=init_lr,\n",
    "                                          num_train_steps=num_train_steps,\n",
    "                                          num_warmup_steps=num_warmup_steps,\n",
    "                                          optimizer_type='adamw')"
   ]
  },
  {
   "cell_type": "markdown",
   "metadata": {
    "id": "SqlarlpC_v0g"
   },
   "source": [
    "### Loading the BERT model and training\n",
    "\n",
    "Using the `classifier_model` you created earlier, you can compile the model with the loss, metric and optimizer."
   ]
  },
  {
   "cell_type": "code",
   "execution_count": 36,
   "metadata": {
    "id": "-7GPDhR98jsD"
   },
   "outputs": [],
   "source": [
    "classifier_model.compile(optimizer=optimizer,\n",
    "                         loss=loss,\n",
    "                         metrics=metrics)"
   ]
  },
  {
   "cell_type": "markdown",
   "metadata": {
    "id": "CpBuV5j2cS_b"
   },
   "source": [
    "Note: training time will vary depending on the complexity of the BERT model you have selected."
   ]
  },
  {
   "cell_type": "code",
   "execution_count": null,
   "metadata": {
    "colab": {
     "base_uri": "https://localhost:8080/"
    },
    "id": "HtfDFAnN_Neu",
    "outputId": "28c5cfcf-9b5e-4e7a-d3dc-ddddc205e86f"
   },
   "outputs": [
    {
     "name": "stdout",
     "output_type": "stream",
     "text": [
      "Training model with https://tfhub.dev/tensorflow/bert_en_uncased_L-12_H-768_A-12/3\n",
      "Epoch 1/5\n",
      " 27/122 [=====>........................] - ETA: 1:23 - loss: 0.3373 - accuracy: 0.6651"
     ]
    }
   ],
   "source": [
    "print(f'Training model with {tfhub_handle_encoder}')\n",
    "history = classifier_model.fit(x=data, y=labels, validation_split = 0.2, epochs=epochs)"
   ]
  },
  {
   "cell_type": "markdown",
   "metadata": {
    "id": "uBthMlTSV8kn"
   },
   "source": [
    "### Evaluate the model\n",
    "\n",
    "Its a financial dataset so it performs well with financial data"
   ]
  },
  {
   "cell_type": "code",
   "execution_count": null,
   "metadata": {
    "colab": {
     "base_uri": "https://localhost:8080/"
    },
    "id": "slqB-urBV9sP",
    "outputId": "2a3a1c69-0f4d-49e3-e03e-c3637cbd8bf2"
   },
   "outputs": [
    {
     "name": "stdout",
     "output_type": "stream",
     "text": [
      "[[0.5735099]]\n"
     ]
    }
   ],
   "source": [
    "#loss, accuracy = \n",
    "print(classifier_model.predict(tf.constant([\"We are all going to die \"])))\n",
    "\n",
    "#print(f'Loss: {loss}')\n",
    "#print(f'Accuracy: {accuracy}')"
   ]
  }
 ],
 "metadata": {
  "accelerator": "GPU",
  "colab": {
   "collapsed_sections": [],
   "name": "Bert Sentiment tests colab.ipynb",
   "provenance": [],
   "toc_visible": true
  },
  "kernelspec": {
   "display_name": "Python 3",
   "language": "python",
   "name": "python3"
  },
  "language_info": {
   "codemirror_mode": {
    "name": "ipython",
    "version": 3
   },
   "file_extension": ".py",
   "mimetype": "text/x-python",
   "name": "python",
   "nbconvert_exporter": "python",
   "pygments_lexer": "ipython3",
   "version": "3.9.2"
  },
  "toc": {
   "base_numbering": 1,
   "nav_menu": {},
   "number_sections": true,
   "sideBar": true,
   "skip_h1_title": false,
   "title_cell": "Table of Contents",
   "title_sidebar": "Contents",
   "toc_cell": false,
   "toc_position": {},
   "toc_section_display": true,
   "toc_window_display": false
  }
 },
 "nbformat": 4,
 "nbformat_minor": 1
}
