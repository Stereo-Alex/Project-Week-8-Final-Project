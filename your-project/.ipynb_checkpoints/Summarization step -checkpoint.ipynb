{
 "cells": [
  {
   "cell_type": "markdown",
   "id": "saving-briefs",
   "metadata": {},
   "source": [
    "# Importing the text sumarization transformer and pipeline\n",
    "We will tokeinize the text and create a summary\n",
    "We need to import the text as a txt file "
   ]
  },
  {
   "cell_type": "code",
   "execution_count": 1,
   "id": "supposed-laptop",
   "metadata": {
    "ExecuteTime": {
     "end_time": "2021-03-09T08:11:52.886025Z",
     "start_time": "2021-03-09T08:11:45.832366Z"
    }
   },
   "outputs": [],
   "source": [
    "from transformers import pipeline\n",
    "import pandas as pd \n",
    "import numpy as np "
   ]
  },
  {
   "cell_type": "markdown",
   "id": "hungry-vacuum",
   "metadata": {
    "ExecuteTime": {
     "end_time": "2021-03-06T14:57:47.946463Z",
     "start_time": "2021-03-06T14:57:47.940373Z"
    }
   },
   "source": [
    "## Cleaning the text\n",
    "\n"
   ]
  },
  {
   "cell_type": "code",
   "execution_count": 28,
   "id": "biological-president",
   "metadata": {
    "ExecuteTime": {
     "end_time": "2021-03-09T09:03:28.527075Z",
     "start_time": "2021-03-09T09:03:28.509222Z"
    }
   },
   "outputs": [],
   "source": [
    "df = pd.read_csv(\"Data/ny_times_Mar_4.csv\")"
   ]
  },
  {
   "cell_type": "code",
   "execution_count": 29,
   "id": "sapphire-gamma",
   "metadata": {
    "ExecuteTime": {
     "end_time": "2021-03-09T09:03:30.244308Z",
     "start_time": "2021-03-09T09:03:30.229057Z"
    }
   },
   "outputs": [
    {
     "data": {
      "text/html": [
       "<div>\n",
       "<style scoped>\n",
       "    .dataframe tbody tr th:only-of-type {\n",
       "        vertical-align: middle;\n",
       "    }\n",
       "\n",
       "    .dataframe tbody tr th {\n",
       "        vertical-align: top;\n",
       "    }\n",
       "\n",
       "    .dataframe thead th {\n",
       "        text-align: right;\n",
       "    }\n",
       "</style>\n",
       "<table border=\"1\" class=\"dataframe\">\n",
       "  <thead>\n",
       "    <tr style=\"text-align: right;\">\n",
       "      <th></th>\n",
       "      <th>Unnamed: 0</th>\n",
       "      <th>Authors</th>\n",
       "      <th>Body</th>\n",
       "      <th>Keywords</th>\n",
       "      <th>Date</th>\n",
       "    </tr>\n",
       "  </thead>\n",
       "  <tbody>\n",
       "    <tr>\n",
       "      <th>0</th>\n",
       "      <td>0</td>\n",
       "      <td>['Nelson D. Schwartz']</td>\n",
       "      <td>Live Updated March 4, 2021, 12:42 p.m. ET Marc...</td>\n",
       "      <td>['live', 'rise', 'pandemics', 'claims', 'disne...</td>\n",
       "      <td>2021-03-04</td>\n",
       "    </tr>\n",
       "    <tr>\n",
       "      <th>1</th>\n",
       "      <td>1</td>\n",
       "      <td>['Dionne Searcey', 'Benjamin Rasmussen']</td>\n",
       "      <td>The pandemic, which has driven down the price ...</td>\n",
       "      <td>['county', 'coal', 'wind', 'desert', 'knows', ...</td>\n",
       "      <td>2021-03-03</td>\n",
       "    </tr>\n",
       "    <tr>\n",
       "      <th>2</th>\n",
       "      <td>2</td>\n",
       "      <td>['Frank Decaro']</td>\n",
       "      <td>With names like Vigor Mortis, Spikey Van Dykey...</td>\n",
       "      <td>['rule', 'ready', 'thats', 'takes', 'york', 'm...</td>\n",
       "      <td>2021-03-04</td>\n",
       "    </tr>\n",
       "    <tr>\n",
       "      <th>3</th>\n",
       "      <td>3</td>\n",
       "      <td>['Anthony Tommasini']</td>\n",
       "      <td>One of his tricks involved playing “Fisher’s H...</td>\n",
       "      <td>['bethune', 'wonder', 'born', 'stardom', 'year...</td>\n",
       "      <td>2021-03-03</td>\n",
       "    </tr>\n",
       "    <tr>\n",
       "      <th>4</th>\n",
       "      <td>4</td>\n",
       "      <td>['Jessica Winter']</td>\n",
       "      <td>When Grace Hopper, the trailblazing computer s...</td>\n",
       "      <td>['clock', 'clocks', 'wall', 'grace', 'alarm', ...</td>\n",
       "      <td>2021-03-03</td>\n",
       "    </tr>\n",
       "    <tr>\n",
       "      <th>5</th>\n",
       "      <td>5</td>\n",
       "      <td>['Joyce Cohen']</td>\n",
       "      <td>For a dozen years, Ryan Michele Woods and Jeff...</td>\n",
       "      <td>['choose', 'wanted', 'ms', 'house', 'terrace',...</td>\n",
       "      <td>2021-03-04</td>\n",
       "    </tr>\n",
       "    <tr>\n",
       "      <th>6</th>\n",
       "      <td>6</td>\n",
       "      <td>['Claire Cain Miller']</td>\n",
       "      <td>The pandemic has been distinctly difficult for...</td>\n",
       "      <td>['job', 'burdens', 'shouldering', 'work', 'mot...</td>\n",
       "      <td>2021-03-04</td>\n",
       "    </tr>\n",
       "  </tbody>\n",
       "</table>\n",
       "</div>"
      ],
      "text/plain": [
       "   Unnamed: 0                                   Authors  \\\n",
       "0           0                    ['Nelson D. Schwartz']   \n",
       "1           1  ['Dionne Searcey', 'Benjamin Rasmussen']   \n",
       "2           2                          ['Frank Decaro']   \n",
       "3           3                     ['Anthony Tommasini']   \n",
       "4           4                        ['Jessica Winter']   \n",
       "5           5                           ['Joyce Cohen']   \n",
       "6           6                    ['Claire Cain Miller']   \n",
       "\n",
       "                                                Body  \\\n",
       "0  Live Updated March 4, 2021, 12:42 p.m. ET Marc...   \n",
       "1  The pandemic, which has driven down the price ...   \n",
       "2  With names like Vigor Mortis, Spikey Van Dykey...   \n",
       "3  One of his tricks involved playing “Fisher’s H...   \n",
       "4  When Grace Hopper, the trailblazing computer s...   \n",
       "5  For a dozen years, Ryan Michele Woods and Jeff...   \n",
       "6  The pandemic has been distinctly difficult for...   \n",
       "\n",
       "                                            Keywords        Date  \n",
       "0  ['live', 'rise', 'pandemics', 'claims', 'disne...  2021-03-04  \n",
       "1  ['county', 'coal', 'wind', 'desert', 'knows', ...  2021-03-03  \n",
       "2  ['rule', 'ready', 'thats', 'takes', 'york', 'm...  2021-03-04  \n",
       "3  ['bethune', 'wonder', 'born', 'stardom', 'year...  2021-03-03  \n",
       "4  ['clock', 'clocks', 'wall', 'grace', 'alarm', ...  2021-03-03  \n",
       "5  ['choose', 'wanted', 'ms', 'house', 'terrace',...  2021-03-04  \n",
       "6  ['job', 'burdens', 'shouldering', 'work', 'mot...  2021-03-04  "
      ]
     },
     "execution_count": 29,
     "metadata": {},
     "output_type": "execute_result"
    }
   ],
   "source": [
    "df"
   ]
  },
  {
   "cell_type": "code",
   "execution_count": 30,
   "id": "eligible-victor",
   "metadata": {
    "ExecuteTime": {
     "end_time": "2021-03-09T09:03:32.143315Z",
     "start_time": "2021-03-09T09:03:32.120086Z"
    }
   },
   "outputs": [],
   "source": [
    "import re\n",
    "\n",
    "def  clean_text(df, text_field, new_text_field_name):\n",
    "    df[new_text_field_name] = df[text_field].str.lower()\n",
    "    df[new_text_field_name] = df[new_text_field_name].apply(lambda elem: re.sub(r\"(@[A-Za-z0-9]+)|([^0-9A-Za-z \\t])|(\\w+:\\/\\/\\S+)|^rt|http.+?\", \"\", elem))  \n",
    "    # remove numbers\n",
    "    df[new_text_field_name] = df[new_text_field_name].apply(lambda elem: re.sub(r\"\\d+\", \"\", elem))\n",
    "    \n",
    "    return df\n",
    "\n",
    "\n",
    "data_clean = clean_text(df, \"Body\", \"Body\")\n",
    "data_clean = clean_text(data_clean, \"Authors\", \"Authors\")\n",
    "data_clean = clean_text(data_clean, \"Keywords\", \"Keywords\")"
   ]
  },
  {
   "cell_type": "code",
   "execution_count": 31,
   "id": "rural-longer",
   "metadata": {
    "ExecuteTime": {
     "end_time": "2021-03-09T09:03:32.539231Z",
     "start_time": "2021-03-09T09:03:32.525975Z"
    }
   },
   "outputs": [
    {
     "data": {
      "text/html": [
       "<div>\n",
       "<style scoped>\n",
       "    .dataframe tbody tr th:only-of-type {\n",
       "        vertical-align: middle;\n",
       "    }\n",
       "\n",
       "    .dataframe tbody tr th {\n",
       "        vertical-align: top;\n",
       "    }\n",
       "\n",
       "    .dataframe thead th {\n",
       "        text-align: right;\n",
       "    }\n",
       "</style>\n",
       "<table border=\"1\" class=\"dataframe\">\n",
       "  <thead>\n",
       "    <tr style=\"text-align: right;\">\n",
       "      <th></th>\n",
       "      <th>Unnamed: 0</th>\n",
       "      <th>Authors</th>\n",
       "      <th>Body</th>\n",
       "      <th>Keywords</th>\n",
       "      <th>Date</th>\n",
       "    </tr>\n",
       "  </thead>\n",
       "  <tbody>\n",
       "    <tr>\n",
       "      <th>0</th>\n",
       "      <td>0</td>\n",
       "      <td>nelson d schwartz</td>\n",
       "      <td>live updated march    pm et march    pm et job...</td>\n",
       "      <td>live rise pandemics claims disney showing jobl...</td>\n",
       "      <td>2021-03-04</td>\n",
       "    </tr>\n",
       "    <tr>\n",
       "      <th>1</th>\n",
       "      <td>1</td>\n",
       "      <td>dionne searcey benjamin rasmussen</td>\n",
       "      <td>the pandemic which has driven down the price o...</td>\n",
       "      <td>county coal wind desert knows state rawlins ya...</td>\n",
       "      <td>2021-03-03</td>\n",
       "    </tr>\n",
       "    <tr>\n",
       "      <th>2</th>\n",
       "      <td>2</td>\n",
       "      <td>frank decaro</td>\n",
       "      <td>with names like vigor mortis spikey van dykey ...</td>\n",
       "      <td>rule ready thats takes york mr performers thin...</td>\n",
       "      <td>2021-03-04</td>\n",
       "    </tr>\n",
       "    <tr>\n",
       "      <th>3</th>\n",
       "      <td>3</td>\n",
       "      <td>anthony tommasini</td>\n",
       "      <td>one of his tricks involved playing fishers hor...</td>\n",
       "      <td>bethune wonder born stardom yearsthough won wh...</td>\n",
       "      <td>2021-03-03</td>\n",
       "    </tr>\n",
       "    <tr>\n",
       "      <th>4</th>\n",
       "      <td>4</td>\n",
       "      <td>jessica winter</td>\n",
       "      <td>when grace hopper the trailblazing computer sc...</td>\n",
       "      <td>clock clocks wall grace alarm zoom bed mattres...</td>\n",
       "      <td>2021-03-03</td>\n",
       "    </tr>\n",
       "    <tr>\n",
       "      <th>5</th>\n",
       "      <td>5</td>\n",
       "      <td>joyce cohen</td>\n",
       "      <td>for a dozen years ryan michele woods and jeffr...</td>\n",
       "      <td>choose wanted ms house terrace mr growing opti...</td>\n",
       "      <td>2021-03-04</td>\n",
       "    </tr>\n",
       "    <tr>\n",
       "      <th>6</th>\n",
       "      <td>6</td>\n",
       "      <td>claire cain miller</td>\n",
       "      <td>the pandemic has been distinctly difficult for...</td>\n",
       "      <td>job burdens shouldering work mothers regaining...</td>\n",
       "      <td>2021-03-04</td>\n",
       "    </tr>\n",
       "  </tbody>\n",
       "</table>\n",
       "</div>"
      ],
      "text/plain": [
       "   Unnamed: 0                            Authors  \\\n",
       "0           0                  nelson d schwartz   \n",
       "1           1  dionne searcey benjamin rasmussen   \n",
       "2           2                       frank decaro   \n",
       "3           3                  anthony tommasini   \n",
       "4           4                     jessica winter   \n",
       "5           5                        joyce cohen   \n",
       "6           6                 claire cain miller   \n",
       "\n",
       "                                                Body  \\\n",
       "0  live updated march    pm et march    pm et job...   \n",
       "1  the pandemic which has driven down the price o...   \n",
       "2  with names like vigor mortis spikey van dykey ...   \n",
       "3  one of his tricks involved playing fishers hor...   \n",
       "4  when grace hopper the trailblazing computer sc...   \n",
       "5  for a dozen years ryan michele woods and jeffr...   \n",
       "6  the pandemic has been distinctly difficult for...   \n",
       "\n",
       "                                            Keywords        Date  \n",
       "0  live rise pandemics claims disney showing jobl...  2021-03-04  \n",
       "1  county coal wind desert knows state rawlins ya...  2021-03-03  \n",
       "2  rule ready thats takes york mr performers thin...  2021-03-04  \n",
       "3  bethune wonder born stardom yearsthough won wh...  2021-03-03  \n",
       "4  clock clocks wall grace alarm zoom bed mattres...  2021-03-03  \n",
       "5  choose wanted ms house terrace mr growing opti...  2021-03-04  \n",
       "6  job burdens shouldering work mothers regaining...  2021-03-04  "
      ]
     },
     "execution_count": 31,
     "metadata": {},
     "output_type": "execute_result"
    }
   ],
   "source": [
    "df"
   ]
  },
  {
   "cell_type": "code",
   "execution_count": 32,
   "id": "synthetic-america",
   "metadata": {
    "ExecuteTime": {
     "end_time": "2021-03-09T09:03:32.836152Z",
     "start_time": "2021-03-09T09:03:32.830837Z"
    }
   },
   "outputs": [],
   "source": [
    "df = data_clean.drop(columns=[\"Unnamed: 0\"])"
   ]
  },
  {
   "cell_type": "code",
   "execution_count": 33,
   "id": "respected-presence",
   "metadata": {
    "ExecuteTime": {
     "end_time": "2021-03-09T09:03:33.362395Z",
     "start_time": "2021-03-09T09:03:33.356017Z"
    }
   },
   "outputs": [
    {
     "data": {
      "text/plain": [
       "1808"
      ]
     },
     "execution_count": 33,
     "metadata": {},
     "output_type": "execute_result"
    }
   ],
   "source": [
    "len(df.Body[1])"
   ]
  },
  {
   "cell_type": "code",
   "execution_count": 34,
   "id": "mediterranean-alias",
   "metadata": {
    "ExecuteTime": {
     "end_time": "2021-03-09T09:03:34.007798Z",
     "start_time": "2021-03-09T09:03:33.999034Z"
    }
   },
   "outputs": [
    {
     "name": "stdout",
     "output_type": "stream",
     "text": [
      "len added 1\n",
      "len added 2\n",
      "len added 3\n",
      "len added 4\n",
      "len added 5\n",
      "len added 6\n",
      "len added 7\n"
     ]
    }
   ],
   "source": [
    "count=0\n",
    "length = []\n",
    "for text in df[\"Body\"]:\n",
    "        len_1 = len(text)\n",
    "        length.append(len_1)\n",
    "        count = count +1 \n",
    "        print(\"len added\", count)\n",
    "\n",
    "df[\"len\"] = length\n",
    "        \n",
    "\n",
    "            \n",
    "            "
   ]
  },
  {
   "cell_type": "code",
   "execution_count": 35,
   "id": "prompt-march",
   "metadata": {
    "ExecuteTime": {
     "end_time": "2021-03-09T09:03:34.808402Z",
     "start_time": "2021-03-09T09:03:34.800585Z"
    }
   },
   "outputs": [],
   "source": [
    "index_names = df[ df['len'] < 1000 ].index \n",
    "  \n",
    "# drop these given row \n",
    "# indexes from dataFrame \n",
    "\n",
    "df.drop(index_names, inplace = True) "
   ]
  },
  {
   "cell_type": "code",
   "execution_count": 36,
   "id": "through-locator",
   "metadata": {
    "ExecuteTime": {
     "end_time": "2021-03-09T09:03:35.298607Z",
     "start_time": "2021-03-09T09:03:35.292019Z"
    },
    "scrolled": true
   },
   "outputs": [
    {
     "data": {
      "text/plain": [
       "(7, 5)"
      ]
     },
     "execution_count": 36,
     "metadata": {},
     "output_type": "execute_result"
    }
   ],
   "source": [
    "df.shape"
   ]
  },
  {
   "cell_type": "code",
   "execution_count": 37,
   "id": "accompanied-string",
   "metadata": {
    "ExecuteTime": {
     "end_time": "2021-03-09T09:03:36.353328Z",
     "start_time": "2021-03-09T09:03:36.338556Z"
    }
   },
   "outputs": [
    {
     "data": {
      "text/html": [
       "<div>\n",
       "<style scoped>\n",
       "    .dataframe tbody tr th:only-of-type {\n",
       "        vertical-align: middle;\n",
       "    }\n",
       "\n",
       "    .dataframe tbody tr th {\n",
       "        vertical-align: top;\n",
       "    }\n",
       "\n",
       "    .dataframe thead th {\n",
       "        text-align: right;\n",
       "    }\n",
       "</style>\n",
       "<table border=\"1\" class=\"dataframe\">\n",
       "  <thead>\n",
       "    <tr style=\"text-align: right;\">\n",
       "      <th></th>\n",
       "      <th>Authors</th>\n",
       "      <th>Body</th>\n",
       "      <th>Keywords</th>\n",
       "      <th>Date</th>\n",
       "      <th>len</th>\n",
       "    </tr>\n",
       "  </thead>\n",
       "  <tbody>\n",
       "    <tr>\n",
       "      <th>0</th>\n",
       "      <td>nelson d schwartz</td>\n",
       "      <td>live updated march    pm et march    pm et job...</td>\n",
       "      <td>live rise pandemics claims disney showing jobl...</td>\n",
       "      <td>2021-03-04</td>\n",
       "      <td>14906</td>\n",
       "    </tr>\n",
       "    <tr>\n",
       "      <th>1</th>\n",
       "      <td>dionne searcey benjamin rasmussen</td>\n",
       "      <td>the pandemic which has driven down the price o...</td>\n",
       "      <td>county coal wind desert knows state rawlins ya...</td>\n",
       "      <td>2021-03-03</td>\n",
       "      <td>1808</td>\n",
       "    </tr>\n",
       "    <tr>\n",
       "      <th>2</th>\n",
       "      <td>frank decaro</td>\n",
       "      <td>with names like vigor mortis spikey van dykey ...</td>\n",
       "      <td>rule ready thats takes york mr performers thin...</td>\n",
       "      <td>2021-03-04</td>\n",
       "      <td>2366</td>\n",
       "    </tr>\n",
       "    <tr>\n",
       "      <th>3</th>\n",
       "      <td>anthony tommasini</td>\n",
       "      <td>one of his tricks involved playing fishers hor...</td>\n",
       "      <td>bethune wonder born stardom yearsthough won wh...</td>\n",
       "      <td>2021-03-03</td>\n",
       "      <td>1310</td>\n",
       "    </tr>\n",
       "    <tr>\n",
       "      <th>4</th>\n",
       "      <td>jessica winter</td>\n",
       "      <td>when grace hopper the trailblazing computer sc...</td>\n",
       "      <td>clock clocks wall grace alarm zoom bed mattres...</td>\n",
       "      <td>2021-03-03</td>\n",
       "      <td>1414</td>\n",
       "    </tr>\n",
       "    <tr>\n",
       "      <th>5</th>\n",
       "      <td>joyce cohen</td>\n",
       "      <td>for a dozen years ryan michele woods and jeffr...</td>\n",
       "      <td>choose wanted ms house terrace mr growing opti...</td>\n",
       "      <td>2021-03-04</td>\n",
       "      <td>1656</td>\n",
       "    </tr>\n",
       "    <tr>\n",
       "      <th>6</th>\n",
       "      <td>claire cain miller</td>\n",
       "      <td>the pandemic has been distinctly difficult for...</td>\n",
       "      <td>job burdens shouldering work mothers regaining...</td>\n",
       "      <td>2021-03-04</td>\n",
       "      <td>1535</td>\n",
       "    </tr>\n",
       "  </tbody>\n",
       "</table>\n",
       "</div>"
      ],
      "text/plain": [
       "                             Authors  \\\n",
       "0                  nelson d schwartz   \n",
       "1  dionne searcey benjamin rasmussen   \n",
       "2                       frank decaro   \n",
       "3                  anthony tommasini   \n",
       "4                     jessica winter   \n",
       "5                        joyce cohen   \n",
       "6                 claire cain miller   \n",
       "\n",
       "                                                Body  \\\n",
       "0  live updated march    pm et march    pm et job...   \n",
       "1  the pandemic which has driven down the price o...   \n",
       "2  with names like vigor mortis spikey van dykey ...   \n",
       "3  one of his tricks involved playing fishers hor...   \n",
       "4  when grace hopper the trailblazing computer sc...   \n",
       "5  for a dozen years ryan michele woods and jeffr...   \n",
       "6  the pandemic has been distinctly difficult for...   \n",
       "\n",
       "                                            Keywords        Date    len  \n",
       "0  live rise pandemics claims disney showing jobl...  2021-03-04  14906  \n",
       "1  county coal wind desert knows state rawlins ya...  2021-03-03   1808  \n",
       "2  rule ready thats takes york mr performers thin...  2021-03-04   2366  \n",
       "3  bethune wonder born stardom yearsthough won wh...  2021-03-03   1310  \n",
       "4  clock clocks wall grace alarm zoom bed mattres...  2021-03-03   1414  \n",
       "5  choose wanted ms house terrace mr growing opti...  2021-03-04   1656  \n",
       "6  job burdens shouldering work mothers regaining...  2021-03-04   1535  "
      ]
     },
     "execution_count": 37,
     "metadata": {},
     "output_type": "execute_result"
    }
   ],
   "source": [
    "df"
   ]
  },
  {
   "cell_type": "markdown",
   "id": "resident-vacuum",
   "metadata": {},
   "source": [
    "# Adding summaries \n"
   ]
  },
  {
   "cell_type": "code",
   "execution_count": 38,
   "id": "loved-offense",
   "metadata": {
    "ExecuteTime": {
     "end_time": "2021-03-09T09:03:38.097474Z",
     "start_time": "2021-03-09T09:03:38.088900Z"
    },
    "scrolled": true
   },
   "outputs": [
    {
     "data": {
      "text/plain": [
       "0    live updated march    pm et march    pm et job...\n",
       "1    the pandemic which has driven down the price o...\n",
       "2    with names like vigor mortis spikey van dykey ...\n",
       "3    one of his tricks involved playing fishers hor...\n",
       "4    when grace hopper the trailblazing computer sc...\n",
       "5    for a dozen years ryan michele woods and jeffr...\n",
       "6    the pandemic has been distinctly difficult for...\n",
       "Name: Body, dtype: object"
      ]
     },
     "execution_count": 38,
     "metadata": {},
     "output_type": "execute_result"
    }
   ],
   "source": [
    "cleaned_df = df.Body\n",
    "cleaned_df"
   ]
  },
  {
   "cell_type": "code",
   "execution_count": 44,
   "id": "aware-rental",
   "metadata": {
    "ExecuteTime": {
     "end_time": "2021-03-09T09:09:20.309151Z",
     "start_time": "2021-03-09T09:09:15.886118Z"
    }
   },
   "outputs": [
    {
     "name": "stderr",
     "output_type": "stream",
     "text": [
      "All model checkpoint layers were used when initializing TFT5ForConditionalGeneration.\n",
      "\n",
      "All the layers of TFT5ForConditionalGeneration were initialized from the model checkpoint at t5-small.\n",
      "If your task is similar to the task the model of the checkpoint was trained on, you can already use TFT5ForConditionalGeneration for predictions without further training.\n"
     ]
    }
   ],
   "source": [
    "summarizer = pipeline(\"summarization\", framework=\"tf\")\n"
   ]
  },
  {
   "cell_type": "code",
   "execution_count": 15,
   "id": "cosmetic-cuisine",
   "metadata": {
    "ExecuteTime": {
     "end_time": "2021-03-08T15:42:41.900496Z",
     "start_time": "2021-03-08T15:42:41.887025Z"
    }
   },
   "outputs": [
    {
     "name": "stdout",
     "output_type": "stream",
     "text": [
      "here are instructions for how to share your information with our journalistsabc news reaches hundreds of millions of americans every month far more than any other outlet making it the countrys numberone news sourceour awardwinning investigative journalists cover national security political corruption human rights consumer concerns and other issues for good morning america world news tonight with david muir nightline  and abc news live our  streaming channel as well as the networks three digital brands abcnewscom goodmorningamericacom and fivethirtyeightcomwe encourage anyone to reach out to discuss potential news stories that may be in the public interest you can reach us via email at newstipscom or by phone at   with the understanding that the information you provide might be used in our broadcasts or other storiesif you have a question or comment about an abc news program or abc network show please call audience relations at   or contact another departmentabc news can also be reached through several other channels that provide a more secure pathway for communication while no system is  secure using one of the methods listed below can help protect the privacy of your communication to ussignalsignal is an app with endtoend encryption that allows you to send text voice video document and picture messages we cant read your messages or see your calls and no one else other than the intended recipient can either its developers sayyou can contact us via signal at  whatsappwhatsapp which is owned by facebook is an app with endtoend encryption that allows you to send text voice video document and picture messages your messages and calls are secured so only you and the person youre communicating with can read or listen to them and nobody in between not even whatsapp the company saysyou can contact us via whatsapp at  postal mailabc news investigative unit west th stnew york ny \n",
      "he will remain in the hospital for treatment for a number of daysbritains prince philip had a successful procedure at a london hospital on wednesday for a preexisting heart condition according to buckingham palacethe yearold duke of edinburgh will remain in hospital for treatment rest and recuperation for a number of days the palace said in a statement thursdayphilip was transferred to st bartholomews hospital in east london on monday from king edward vii hospital in central london where he was admitted on feb  for treatment of an infection buckingham palace had said that doctors will continue to treat him for an infection as well as undertake testing and observation for a preexisting heart conditionthe duke remains comfortable and is responding to treatment but is expected to remain in hospital until at least the end of the week the palace said in a statement mondayst bartholomews hospital is located further away from windsor castle a royal residence in the english county of berkshire where philip had been staying with his wife queen elizabeth ii but it is a larger facility that specializes in cardiovascular treatment according to the hospitals websitewhile philip is hospitalized in london queen elizabeth remains at windsor castle where the couple have been staying for most of the coronavirus pandemic they celebrated their rd wedding anniversary in novemberphilip who will turn  in june was initially taken by car from windsor to king edward vii hospital in london for what buckingham palace described as a precautionary measure after the duke reported feeling unwell his illness is not covidrelated a royal source told abc newsabc news katie kindelan and morgan winsor contributed to this report\n",
      "military officials say at least  rockets have slammed into a base housing us and other coalition troops in western iraqbaghdad  at least  rockets slammed into a base housing us and other coalition troops in western iraq on wednesday military officials said it was not known if there were any casualties but the iraqi military said there were no significant lossesit was the first such attack since the us struck iranaligned militia targets along the iraqsyria border last week killing one militiaman and stoking fears of another cycle of titfortat attacks as happened last year those attacks culminated in the us drone strike that killed iranian gen qassim soleimani in baghdadno one claimed responsibility for wednesdays attack which comes two days before pope francis is scheduled to visit the country amid concerns about security and the coronavirus pandemic the muchanticipated trip will include stops in baghdad southern iraq and the northern city of irbilthe rockets struck ain alasad airbase in anbar province early in the morning usled coalition spokesman col wayne marotto said in addition to american troops danish and british are among those stationed at the base its the same base that iran struck with a barrage of missiles in january last year in retaliation for the killing of soleimani dozens of us service members suffered concussions in that strikethe iraqi military released a statement saying wednesdays attack did not cause significant losses and that security forces had found the launch pad used for the rockets  a truck video of the site shows a burning truck in a desert areabritish ambassador to iraq stephen hickey condemned the attack saying it undermined the ongoing fight against the islamic state group coalition forces are in iraq to fight daesh at the invitation of the iraqi government he tweeted using the arabic acronym for is these terrorist attacks undermine the fight against daesh and destabilize iraqdenmark said coalition forces at the base were helping to bring stability and security to the countrydespicable attacks against ain alasad base in iraq are completely unacceptable danish foreign minister jeppe kofod tweeted the danish armed forces said two danes who were at the base at the time of the attack are unharmedlast weeks us strike along the border was in response to a spate of rocket attacks that targeted the american presence including one that killed a coalition contractor from the philippines outside the irbil airportafter that attack the pentagon said the strike was a proportionate military responsemarotto the coalition spokesman said the iraqi security forces were leading an investigation into the attackfrequent rocket attacks targeting the heavily fortified green zone which houses the us embassy during donald trumps presidency frustrated the administration leading to threats of embassy closure and escalatory strikes those attacks have increased again in recent weeks since president joe biden took office following a lull during the transition periodus troops in iraq significantly decreased their presence in the country last year and withdrew from several iraqi bases to consolidate chiefly in ain alasad baghdad and irbilassociated press writer jan m olsen in copenhagen denmark contributed to this report\n",
      "when the pontiff touches down in baghdad on friday it will be the culmination of a vatican trip decades in the planningpope francis will be the first pope to ever visit this area of great biblical importance  home to ancient civilizations his trip is happening despite escalating violence rising covid cases and international concernsquestions about the timing of trip were raised repeatedly at a recent vatican press conference but it was the pope himself who addressed these concerns on wednesday before his departurethe iraqi people are waiting for us the pope said they awaited st john paul ii who was not permitted to go one cannot disappoint a people for a second timest john paul ii had tried without success to undertake this same trip to only be blocked by concerns of safety and political instabilitya resurgence in violent attacks has again forced the vatican to address whether the popes visit is safe iranbacked militias have twice since the beginning of the year sent rockets into bases housing american and coalition forces president joe biden ordered a retaliatory strike against a suspected insurgent bases in syria after the first attackin a second assault militants launched  rockets at the al asad airbase just days before the popes departure the us has reserved the right to respond at a time of its own choosinga twin suicide attack at central baghdad market in early january stunned iraqis after months of calm the bombs killed  civilians and injured over  demonstrations against the november government killings of protesters continue almost daily across the country the unrest forced the previous prime minister to step downdespite the uptick in violence the vatican is confident the trip can move forward it has said that iraqi forces will be responsible for the safety of the pontiff not international forcesthe church says the visit which will last from march  to march  is to show support to the people of iraq after years of violence when the islamic state swept through the north of the country in  promising to establish its caliphate in mosul it nearly decimated the small christian community that had survived under the saddam hussein regime isis destroyed most of the churches and other christian symbols before it was forced out and all but destroyed by coalition forces the pope will pray for peace at the ruins of these churches in mosul and hold a mass in the restored cathedral in qaraqoshthe pope wants to use this trip not only to support the christian iraqis but to reach out to all the religious communities in iraq in ur the birthplace of abraham who is a prophet important to christians muslims and jews the pope will hold an interfaith meeting that will include readings from the quran members of all the main religious segments have been invitedone of his most important visits will be with the head of the shia community in iraq the revered grand ayatollah sayyid alsistani at his home in the holy city of najaf the yearold cleric is rarely seen in public but his influence was instrumental in overthrowing saddam husseinthe pope and his entourage will not have the usual large crowds attending ceremonies iraqi television channels will be covering all papal events live the vatican says it is organizing the trip with covid mitigation efforts in mind most events will be before a small number of people with masks and social distancing is required every journalist accompanying the pope was vaccinated the only large event a mass at the stadium in erbil will be invitation only using only a fraction of the available seatsdespite the risks francis is determined to make the visit in personthey will see that the pope is there in their country he said\n",
      "a national panel of vaccine experts in canada has recommended that provinces extend the interval between the two doses of a covid shot to quickly inoculate more peopletoronto  a national panel of vaccine experts in canada recommended wednesday that provinces extend the interval between the two doses of a covid shot to four months to quickly inoculate more people amid a shortage of doses in canadaa number of provinces said they would do just thatprime minister justin trudeau also expressed optimism that vaccination timelines could be sped up and health canada the countrys regulator said emerging evidence suggests high effectiveness for several weeks after the first dose and noted the panels recommendation in a tweet but two top health officials called it an experimentthe current protocol is an interval of three to four weeks between doses for the pfizer moderna and astrazeneca vaccines johnson  johnson is a one dose vaccine but has not been approved in canada yetthe national advisory committee on immunization said extending the dose interval to four months would allow as many as  of canadians over the age of  to receive a single dose by the end of june simply with the expected supply of pfizerbiontech and moderna vaccinessecond doses would begin to be administered in july as more shipments arrive the panel said noting that  million doses are expected to be delivered in july august and septemberin comparison the federal government previously said  of people would receive two doses by the end of junethey are making i think a reasonable calculation in a time of drug shortage said dr andrew morris a professor of infectious diseases at the university of toronto and the medical director of the antimicrobial stewardship program at sinaiuniversity health network its the right decision in my mind let me ask  a couple are given two vaccines do you give two to one or give one each one dose its a no brainerthe addition of the newly approved astrazeneca vaccine to the countrys supply could mean almost all canadians would get their first shot in that time framethe vaccine effectiveness of the first dose will be monitored closely and the decision to delay the second dose will be continuously assessed based on surveillance and effectiveness data and postimplementation study designs the panel wroteeffectiveness against variants of concern will also be monitored closely and recommendations may need to be revised it said adding there is currently no evidence that a longer interval will affect the emergence of the variantsthe updated guidance applies to all three of the vaccines currently approved for use in canadathe committees recommendation came hours after the atlantic coast province of newfoundland and labrador said it will extend the interval between the first and second doses to four months and days after health officials in the pacific coast province of british columbia announced they were doing somanitoba and quebec also said wednesday they will delay second doses and ontarios health minister said it would ontario to rapidly accelerate its vaccine rolloutearlier wednesday trudeau said any change in public health guidance regarding the timing of the two doses could affect the speed of canadas vaccine rollout as could the approval of more vaccines like johnson and johnsoncanadas provinces administer health care in the country so its ultimately up to the provincesdr brad wouters executive vicepresident of science and research at university health network cast doubt on the recommendation nobody in the world has been  months between doses these are rna vaccines never used before we should use evidence to make decisions canada conducting a population experiment wouters tweetedand mona nemer the federal governments chief science advisor also said this week that the plan amounts to a populationlevel experiment and that the data provided so far by moderna and pfizerbiontech is based on an interval of three to four weeks between dosesbut dr bonnie henry british columbias provincial health officer said the manufacturers structured their clinical trials that way to get the vaccines to market as quickly as possible but said research in british columbia quebec israel and the united kingdom has shown that first doses are highly effectivedr supriya sharma chief medical adviser for health canada the countrys regulator told the canadian broadcasting corporation in a time of limited supply they are starting to have greater comfort with the idea of waiting for the second dose after seeing real world data versus the strict interpretation of the clinical trialsin the real world were starting to see evidence from other countries that have delayed that second dose oh it looks like they still have a really good effectiveness we have lab studies that show its unlikely that immune response will drop off sharma said\n",
      "london and hong kong  at least  protesters were killed by authorities in myanmar on wednesday marking the bloodiest day since the military seized power in an apparent coup last month according to the united nations special envoy for myanmar christine schraner burgenerpeaceful demonstrations have been taking place in cities across the southeast asian country since its de facto leader aung san suu kyi and other members of her national league for democracy nld party were detained by the military on feb  the protest movement has been growing and the military junta which calls itself the state administration council has become increasingly violent in its response as weeks of internet shutdowns threats and mass arrests have not stopped thousands of people from voicing their oppositionschraner burgener said she believes the junta is very surprised by the protests against the couptoday we have young people who lived in freedom for  years they have social media and they are well organized and very determined schraner burgener told reporters in new york city on wednesday they dont want to go back in a dictatorship and in isolationpolice and security forces in myanmar are now using live ammunition on protesters since feb  more than  people have been killed there and over  others  some of whom remain unaccounted for  have been arbitrarily arrested and detained mostly without any form of due process according to burgenersunday was previously the deadliest day in myanmar since the bloodless coup authorities confronted peaceful protesters in several locations across myanmar and fired live rounds into the crowds killing at least  people and wounding over  others according to the office of the united nations high commissioner for human rights which cited credible information that it had receiveddespite the escalation the united states did not announce any new actions against myanmars military on wednesdaywe are appalled and repulsed to see the horrific violence perpetrated against the people of burma for their peaceful calls to restore civilian governance us department of state spokesperson ned price said during a press briefing at the white house using myanmars former name under british colonial rule we call on all countries to speak with one voice to condemn brutal violence by the burmese military against its own people and to promote accountability for the militarys actions that have led to the loss of life of so many people in burmaprice said us sanctions against myanmars military have a significant impact on its ability to wield power and influence but that the junta has virtually ignored them as well as financial penalties from canada and the united kingdom other policy measures are being evaluated both unilaterally from the us and with allies and partners in the region according to pricewe are not going to do anything that worsens the suffering the humanitarian suffering of the burmese people he told reporters in washington dcschraner burgener said she has had conversations in recent weeks with the deputy commanderinchief of myanmars armed forces vicesenior gen soe win to warn him that the military will likely face strong measures from some countries as well as isolation in retaliation for the coupthe answer was we are used to sanctions and we survived she told reporters in new york city when i also warned they will go in an isolation the answer was we have to learn to walk with only few friendsthe military previously ruled myanmar for nearly  years before appearing to slowly transition to democratic rule a decade ago and holding its first general elections in years in  which was a landslide victory for the nld suu kyi had spent  years under house arrest while leading the struggle for democracy against the burmese junta and was awarded the  nobel peace prize for her nonviolent effortssuu kyi is understood to have had a tentative shared power agreement with the military since she was named state counsellor in  offering the government a veneer of democratic legitimacy as they embarked on a decade of reforms the role of state counsellor akin to a prime minister or a head of government was created because myanmars  constitution barred suu kyi from becoming president since her late husband and children are foreign citizensthe nov  general election was meant to be a referendum on suu kyis popular civilian government but her party expanded their seats in parliament securing a clear majority and threatening the militarys tight hold on power the constitution guarantees the military  of seats in parliament and control of several key ministriesthe new civilianled government was supposed to convene for the first time on feb  but power was instead handed over to senior gen min aung hlaing commanderinchief of myanmars armed forces who is already under us sanctions for his role in the militarys atrocities against the rohingya muslim minority an order signed by the acting president granted full authority to hlaing to run the country and declared a state of emergency that will last for at least one year citing widespread voter fraud in the november electionhlaings office said in a statement that the military would hold a free and fair general election after the state of emergency ends voter rolls will be checked and the nations election commission which last week rejected the militarys allegations of voter fraud will be reestablished according to the statementsuu kyi is still revered in myanmar despite losing some of her international luster for her refusal to condemn the human rights against the rohingyas she has not been seen in public since she was ousted and is believed to be under house arrest at her residence in myanmars capital naypyidawthe nobel laureate appeared in a naypyitaw court via videoconference on monday to face two more charges one under a section of a colonialera penal code prohibiting publication of information that may cause fear or alarm or disrupt public tranquility and the other under a telecommunications law stipulating licenses for equipment relating to her alleged ownership of the walkietalkies one of her lawyers told reuterssuu kyi was initially charged with illegally importing six walkietalkie radios and later charged with violating a natural disaster law by breaching covid protocols while campaigning during last years electionsshe has her next court appearance scheduled for march  her lawyer told reuters if she is found guilty of any of the charges the resulting prison sentence will likely overlap with the election the junta has promised would take a place in a yearabc news conor finnegan contributed to this report\n",
      "south koreas first known transgender soldier who protested the militarys decision last year to discharge her for undergoing gender reassignment surgery has been found dead at her homeseoul south korea  south koreas first known transgender soldier who protested the militarys decision last year to discharge her for undergoing gender reassignment surgery was found dead at her home on wednesdayshin jeonghwan a fire department official in the central city of cheongju said rescue workers visited the home of byun huisu after local mental health counselors reported that she had been out of contact for daysthe cause of death wasnt immediately known shin said the decomposition of the body indicated she had been dead for daysbyun who had been a staff sergeant and tank driver pleaded to be allowed to continue serving as a female soldier after the army discharged her in january  triggering criticism by human rights advocates who saw the decision as discriminatoryshe said she had sex reassignment surgery in thailand in november  after suffering depression over her sexual identity for an extended periodsouth korea prohibits transgender people from joining the military and the army rejected byuns petition for reinstatement in july last yearsouth koreas defense ministry spokesperson moon hongsik during a briefing on thursday expressed condolences over byuns death but said the military has no ongoing discussions about allowing transgender people to serve\n",
      "a man has been killed by a rooster with a blade tied to its leg during an illegal cockfight in southern indiahyderabad india  a man was killed by a rooster with a blade tied to its leg during an illegal cockfight in southern india police said bringing focus on a practice that continues in some indian states despite a decadesold banthe rooster with a inch knife tied to its leg fluttered in panic and slashed its owner yearold thangulla satish in his groin last week police inspector b jeevan said sundaythe incident occurred in lothunur village of telangana stateaccording to jeevan satish was injured while he prepared the rooster for a fight satish was hit by the roosters knife in his groin and started bleeding heavily the officer said adding that the man died on the way to a hospitaljeevan said police filed a case and were looking for over a dozen people involved in organizing the cockfight if proven guilty the organizers can be jailed for up to two yearscockfights are common in the southern indian states of telangana andhra pradesh tamil nadu and karnataka despite a countrywide ban imposed in  animals rights activists have for long been calling to control the illegal practice which is mainly organized as part of local hindu festivals usually attended by hundreds of people though the crowds sometimes swell to thousands the cockfights are often held under the watch of powerful local politicians and involve large sums of betting moneylast year a man was killed when a blade attached to his birds leg hit him in the neck during a cockfight in andhra pradesh in  a rooster killed its owner by slashing his jugular vein in west bengal stateaccording to police the rooster involved in last weeks incident was among many other roosters prepared for the cockfight betting festival in lothunur villageas the practice goes a knife blade or other sharpedged weapon is tied to the leg of a bird to harm its rival such fights continue until one contestant is either dead or flees declaring the other rooster the winnerofficer jeevan said the rooster was brought to the police station before being taken to a local poultry farm we may need to produce it before the court he saidimages of the rooster tied with a rope and pecking on grains at the police station were widely viewed on social media\n",
      "the country is the only in europe to avoid some kind of lockdownlondon  swedens novel approach to tackling the coronavirus pandemic has drawn both praise and fierce criticism not just inside the scandinavian country but across the western world the country has so far resisted going into lockdown unlike the rest of europe even during the peak of its second wave over christmasin doing so sweden has become a lightning rod for those in favor and against stricter social distancing measures for some its significantly higher covid death rate compared to its neighbors is proof that lockdowns are essential to combat the spread while for others the comparative openness of swedish society proves that a balanced approach to the pandemic is possiblenow a year into the pandemic and with a vaccine rollout likely in the near future their strategy continues to attract international attention abc news looked at the pitfalls and merits of their approach in may last year and a year later the evidence shows that now as much as ever their unique approach offers invaluable lessons to the international community for living in the long term with covidthe softtouch approachdenmark norway and finland with a combined population of around  million have recorded  deaths attributed to coronavirus as of thursday  per million all three enforced lockdowns early on in the pandemic sweden by contrast has registered  deaths and possesses a population  million meaning it has a far higher death rate than its immediate neighbors  per million according to johns hopkins university datafor critics of the light touch approach such as stefan hanson a swedish infectious diseases expert such a high death rate is evidence of the failure of an overall strategythe basic problem is there are no clear plans he told abc news from the start there never as have been normally when you run a public health project you have some aims and strategies you have some goals and you follow up you have a monitoring system to see how things are going but in the case of sweden there has been nothing like thatits all about having a low transmission and sweden hasnt put that forward as a very important thing he added in april  hanson was cosignatory to a letter from several top swedish scientists criticizing the approach to the pandemic which they said would cause many unnecessary deathsyet even throughout europes second wave which saw stockholms intensive care units almost run out of beds over the christmas period the country has resisted the temptation to lock down being the only country in europe to do so december saw a very rare intervention from king carl xvi gustaf who said the country had failed in its approach the strategy pioneered by anders tegnell swedens state epidemiologist has been heavily criticized not just at home but abroad as well false optimism that the capital stockholm would reach herd immunity by fall has compounded that criticismherd immunity occurs when there are enough people who have either been vaccinated or exposed to the virus that it can no longer spread in the population critics say that doing so by exposure to the virus creates unnecessary riskyet as with so much of the data relating to covid proponents of the policy say that reading the data is a matter of perspectivesweden may be faring comparably better in terms of excess deaths  those greater than the usual number of deaths expected in a certain time period experts say excess deaths can indicate whether policies intended to combat the pandemic have unintended consequences such as delaying treatment for other ailments and is an important measure of the overall efficacy of policywhile still performing worse than other nordic countries on data from eurostat the official european union statistics agency and the university of oxford shows that sweden recorded  excess deaths last year compared to the years  according to the independent health news site dagens medicinthat means that the country had the rd lowest annual excess deaths out of  european countries  lower than the uk  france  and spain  sweden also has a lower number of coronavirus deaths per million than those countries all of which have gone under strict lockdowns during the pandemic pointing to the recent excess mortality studies nils karlson an economist and political scientist who jointly wrote an oped last year in foreign affairs entitled swedens coronavirus strategy will soon be the worlds is more optimisticthere was some recent figures showing that if you count excess mortality sweden is one of the best countries in europe he told abc news and one of the reason is of course that we didnt get the flu just the ordinary flu because we wash our hands we have social distancing we didnt have as many car accidents you know all kinds of other stuff that that affects us didnt happen this yearthe resistance to lockdown he said is based on the idea that they are unsustainable he said and swedens strategy takes into account not just economic factors but all aspects of public life while acknowledges the covid death toll was too high he said you have to keep society open not only for economic reasons but also for critical public functions to to function like hospitals schools and so on schools are still open for younger kids otherwise its remote learning but i think it has worked fairly wellthe care home crisisone area where there has been consensus however is the crisis in the swedish old age care sector where the crisis has taken a terrible tollcare home residents have made up around half of the countrys total death toll with a further quarter of the deaths being seen amongst over s who receive care at homethe big thing was that the whole pandemic we know that old people like in old age care were the people who were really the people who were mostly going to die and the people who mostly went to hospitals ingmar skoog a swedish psychiatrist who specializes in studying old age told abc news despite that they didnt take in any expert in old agethe swedish government introduced more protective equipment and testing as did other countries and restricted care home visitsa governmentappointed commission concluded in december that high rates of infection in the general population as well as a fragmented administration which made it difficult to produce consistent policy contributed to the crisiswe have found that elderly care was unprepared and illequipped when the pandemic struck and that this was founded in structural shortcomings that were known long before the outbreak of the virus the report saidwhile it is obvious that higher rates of infection make it more likely for the virus to sweep through old age care homes skoog said part of the problem has been a fundamental misunderstanding of the sheer number of persontoperson contacts those in care go through every single daythey meet a lot of people very intimately because they get help with the clothing maybe food dressing hygiene going to the toilet and so on according to skoog and people are very very close and that means that they meet a lot of younger people i think one of the first things that really should have been done was to talk with experts in the field and say what should we dobut deaths at nursing facilities even plagued countries that implemented lockdowns and took measures to protect nursing home residentsa report from the european center for disease control in november found that long term care residents made up  of the total coronavirus deaths in france and  in belgium  countries that both locked down and restricted care home visitsaccording to the new york times  of deaths and  of us cases have been reported amongst nursing homes in ten us states the proportion of residents and staffers to have died makes up more than half of all their deathsi think in general the idea in sweden to try to balance the risk of the virus and the risk of closing everything down because there are health problems with that i think on a basic level thats very good he said but i think its a lot of ignorance regarding agingavoiding lockdownsbroadly speaking sweden has closed its international borders including those to neighboring norway and allowed internal society to stay open while there are limits on the maximum amount of people in a social gathering these come in the form of recommendations rather than strict laws enforceable by fines the use of masks on public transport for instance was only formally recommended in decemberoverall the strategy designed in part to be a holistic approach that factored in the pandemicinduced changes across society has remained intact according to karlsoni think the public discussion the official discussion has largely argued that that we have changed the strategy that we have implemented more restrictions and so on he said im not really sure thats true i mean its a shift for sure now we have recommendations to wear masks for example there are stricter restrictions on public order and things like that but we dont have lockdowns its basically recommendationsthe politicization of swedens approach in american politics where prominent republicans have often pointed to their lax approach to masks and lockdowns was another point of contentioni think it worries a lot of people you know in sweden because we love the welfare state and all that he said you know right wing groups in the us starting to favor the swedish strategy and that created some turmoil in swedenwhile the country has not come close to reaching herd immunity  which the health journal the lancet described as their de facto policy in staying open  the lower excess mortality psychological burden and economic performance mean that the policy could yet survive yet another wave of coronavirus infections which have risen in recent weeksstockholm for instance is around  immunity but new variants have made the task more difficultthe political consensus that saw the country get behind their novel covid strategy last summer has broken down karlson said and opposition parties now have called for lockdowns like those seen in other countriesweve tried in different ways you know depending on our culture and our history to adjust you know to minimize the consequences of this terrible disease karlson said but i think sweden has done all right i mean its not as bad as it looks when you look at the death rates which are too high of course\n",
      "an iceberg larger than new york city has broken off an ice shelf in antarctica scientists saythe square mile glacier broke off the brunt ice shelf where the british antarctic surveys halley research station is located the research organization announced new york city is approximately  square milesglaciologists have been expecting a large calving event for at least a decade according to bas the first indication that the glacier would break off was in november when a new chasm named the north rift  the third major crack to become active in the ice shelf in the last  years  headed toward another chasm about  miles awaythe rift then pushed northeast more than half a mile a day starting in january cutting through the foot thick ice shelf scientists said the iceberg formed when the crack widened on feb  releasing it from the ice shelfour teams at bas have been prepared for the calving of an iceberg from brunt ice shelf for years director of british antarctic survey dame jane francis said in a statementthe bas monitors the ice shelf daily using an automated network of highprecision gps instruments surrounding the station which measure how the ice shelf is deforming and moving satellite images from the european space agency nasa and german satellite terrasarx are also used francis saidthe impact of the calving event on the ice shelf is unclear scientists said over the coming weeks or months the iceberg may move away or could run aground and remain close to the ice shelf francis saidthe bas research station is currently closed for the antarctic winter and will likely be unaffected by the calving event scientists said the bas said the station was moved further inland in  to avoid the paths of two chasms named chasm  which formed in  and the halloween crack which formed in  neither have grown in the past  monthsbritish antarctic survey director of operations simon garrod said in a statement that moving the station was a wise decisionour job now is to keep a close eye on the situation and assess any potential impact of the present calving on the remaining ice shelf garrod said we continuously review our contingency plans to ensure the safety of our staff protect our research station and maintain the delivery of the science we undertake at halleystaff has only been employed at the bas antarctic station during the summer since  due to the difficulty of evacuation during the dark winter months when skies are pitch black\n",
      "a japanese billionaire is searching for eight members of the public to join him on a mission to orbit around the moonyusaku maezawa who made headlines in  when he was unveiled as spacexs first private passenger to commission a trip around the moon released a new video tuesday to share updates on his pending missionim inviting you to join me on this mission eight of you from all around the world maezawa said in the videohe said the mission is now scheduled to take place in  on a starship spacecraft that is currently being developed by elon musks private spacefaring firm spacexi will pay for the entire journey maezawa said ten to  of us will be on board and i hope that together we can make it a fun tripmaezawa initially said his plan was to bring artists from around the world into space with him but said tuesday that this plan has evolvedi began to wonder  what do i mean by artists he said the more i though about it the more ambiguous it becamei began to think that maybe every single person who is doing something creative could be called an artist he addednow maezawa said the mission is open to anyone who has the goal of going into space to help other people and greater society in some wayin addition maezawa said the crew members must be willing and able to support other crew members who share similar aspirationsif that sounds like you please join me he saidmusk also shared a message in the video saying that the mission is significant because it will be the first private spaceflight first commercial spaceflight with humans beyond earth orbithe went on this has never occurred before and were going to go past the moon so it will actually end up being further this mission we expect people will go further than any human has ever gone from planet earth maezawa is also providing places on the ship for artists and others to join so he wants this to be something that is exciting and inspiring for the whole worldfinally musk said he is highly confident that the starship spacecraft will have reached orbit many times before  and that it will be safe enough for human transport by those who want to join the mission can preregister for the application process on the dearmoon missions website preregistration must be submitted by march  then there is a screening assignment and interview process  though further details for how the crew will be selected were not disclosedthe final interview round and medical checkup for the crew is expected to happen in late may \n",
      "recent satellite imagery indicate north korea may be trying to extract plutonium to make more nuclear weaponsseoul south korea  north korea may be trying to extract plutonium to make more nuclear weapons at its main atomic complex recent satellite photos indicated weeks after leader kim jong un vowed to expand his nuclear arsenalthe  north website which specializes in north korea studies cited the imagery as indicating that a coalfired steam plant at the norths yongbyon nuclear complex is in operation after about a twoyear hiatus smoke was observed emanating from the plants smokestack at various times from late february and early marchthis suggests preparations for spent fuel reprocessing could be underway to extract plutonium needed for north koreas nuclear weapon the website said wednesday but it added that this could also mean simply the facility is being prepped to handle radioactive wasteearlier this week international atomic energy agency director general rafael mariano grossi said some nuclear facilities in north korea continued to operate citing the operation of the steam plant that serves the radiochemical laboratory at yongbyon the laboratory is a facility where plutonium is extracted by reprocessing spent fuel rods removed from reactorsthe dprks nuclear activities remain a cause for serious concern the continuation of the dprks nuclear program is a clear violation of relevant un security council resolutions and is deeply regrettable grossi told the iaeas board of governors according to iaeas website dprk refers to north koreas official name the democratic peoples republic of koreaplutonium is one of the two key ingredients to build nuclear weapons along with highly enriched uranium the yongbyon complex north of the capital city of pyongyang has facilities to produce both ingredients its not clear exactly how much weaponsgrade plutonium or highly enriched uranium has been produced at yonbyong and where north korea stores itoutside estimates on north koreas nuclear arsenal vary in  a south korean official told parliament the north may have  bombs to as many as usled diplomacy aimed at persuading north korea to abandon its nuclear program in return for economic and political benefits has been deadlocked since a summit between president donald trump and kim collapsed in early  trump rejected kims calls for extensive sanctions relief in return for dismantling the yongbyon complex in what was seen as a limited denuclearization step because north korea had already built nuclear weapons and is believed to be running other covert bombmaking facilitiesin january kim vowed to enlarge nuclear arsenal and disclosed an array of hightech weapons systems targeting the united states saying the fate of bilateral ties depends on whether washington withdraw its hostile policy on north koreasome experts say kim is attempting to pressure president joe bidens government to return to diplomacy and ease sanctions on the north\n",
      "hong kong and london  myanmars ousted de facto leader aung san suu kyi was seen monday for the first time since she was detained in a military coup one month ago appearing in a naypyitaw court via videoconferencesuu kyi  appeared healthy during her virtual court appearance one of her lawyers told reutersthe nobel laureate who leads the national league for democracy nld party was initially charged with illegally importing six walkietalkie radios she was later charged with violating a natural disaster law by breaching covid protocols while campaigning during last years elections two more charges were added monday one under a section of a colonialera penal code prohibiting publication of information that may cause fear or alarm or disrupt public tranquility and the other under a telecommunications law stipulating licenses for equipment relating to her alleged ownership of the walkietalkies the lawyer told reuterssuu kyis court appearance came after a weekend of the deadliest violence that the southeast asian country has seen since the army seized power on feb  police and security forces confronted peaceful demonstrations in several locations across myanmar on sunday and fired live rounds into the crowds killing at least  people and wounding over  others according to the office of the united nations high commissioner for human rights which cited credible information that it had received tear gas and stun grenades were also reportedly used in various locationsmore than  people some of whom remain unaccounted for have been arbitrarily arrested and detained in myanmar over the past month mostly without any form of due process on sunday alone at least  medical professionals and students as well as seven journalists who were present at the demonstrations were detained according to the un human rights officewe strongly condemn the escalating violence against protests in myanmar and call on the military to immediately halt the use of force against peaceful protestors ravina shamdasani spokesperson for the un human rights office said in a statement sunday the people of myanmar have the right to assemble peacefully and demand the restoration of democracy these fundamental rights must be respected by the military and police not met with violent and bloody repression use of lethal force against nonviolent demonstrators is never justifiable under international human rights normsus secretary of state antony blinken took to twitter on sunday night to condemn the abhorrent violence against the people of burma using myanmars former name under british colonial rule blinken said the us government will continue to promote accountability for those responsible and stands firmly with the courageous people of burmasuu kyi has not been seen in public since she was arrested along with other leaders of her nld party on feb  signalling an end to myanmars already fragile experiment with democracysuu kyi who is still revered in myanmar despite losing some of her international luster for her refusal to condemn the armys atrocities against the rohingya muslim minority is understood to have had a tentative shared power agreement with the military since she was named state counsellor in  offering the government a veneer of democratic legitimacy as they embarked on a decade of reforms the role of state counsellor akin to a prime minister or a head of government was created because myanmars  constitution barred suu kyi from becoming president since her late husband and children are foreign citizensthe nov  general election was meant to be a referendum on suu kyis popular civilian government but her party expanded their seats in parliament securing a clear majority and threatening the militarys tight hold on power the constitution guarantees the military  of seats in parliament and control of several key ministriesthe new civilianled government was supposed to convene for the first time on feb  but power was instead handed over to senior gen min aung hlaing commanderinchief of myanmars armed forces who is already under us sanctions for his role in the human rights abuses against the rohingyas an order signed by the acting president granted full authority to hlaing to run the country and declared a state of emergency that will last for at least one year citing widespread voter fraud in the november election hlaings office said in a statement that the military would hold a free and fair general election after the state of emergency ends voter rolls will be checked and the countrys election commission which last week rejected the militarys allegations of voter fraud will be reestablished according to the statementthe military previously ruled myanmar for nearly five decades before appearing to slowly transition to democratic rule a decade ago and holding its first general elections in years in  which was also a landslide victory for the nld suu kyi had spent  years under house arrest while leading the struggle for democracy against the burmese military junta and was awarded the  nobel peace prize for her nonviolent effortssince the feb  takeover a movement of protests across myanmar has been growing  and the junta which calls itself the state administration council has become more and more violent in its response the initial restraint shown by authorities in the immediate aftermath of the bloodless coup has given way to an increased use of lethal force as weeks of internet shutdowns threats and mass arrests have not deterred thousands of people from voicing their oppositionduring suu kyis virtual court appearance in the capital on monday police and protesters faced off again some  miles south in yangon the countrys largest city with videos posted on social media showing clouds of tear gas as protesters clad with construction helmets ran for coversuu kyi has her next court appearance scheduled for march  her lawyer told reuters she is believed to be under house arrest at her residence in naypyidaw if she is found guilty of any of the charges launched against her the resulting prison sentence will likely overlap with the election the junta has promised would take a place in a year\n",
      "africa is on the rise and african people are also ascending one person saidat cape coast castle on the shores of the ghanaian city a sordid history belies its beautythe castle overlooking the atlantic ocean a former slavetrade outpost is home to the socalled door of no return through which millions of africans were forced onto slave ships bound for the united stateseven though you may not know the exact village you come from the township you come from the clan  the family  you come from you can be assured that this is one of the last places that our ancestors touched before leaving these shores said rabbi kohain halevi a board member of the diaspora african forum a nonprofit that in part helps connect visitors to their ancestral historyhundreds of years after those fateful voyages millions of the descendants of those slaves have been returning to the castle  creating a fullcircle momentthats why they say its the door of no return because they believed at that time that if they erased all these things from ourselves that wed never find our way back home halevi said but look at the resiliency of the african spirit and look at who you and i are  that we made our way back homewatch the full story on nightline tonight at  am et on abcactor boris kodjoe is best known for his work on screen in films like brown sugar and the abc tv series station  but when hes off screen he says his mission is much bigger bringing the black diaspora back to africawhen you walk the paths of the dungeons at these slave castles whether its elmina or cape coast you feel the spirits of your ancestors kodjoe said you feel the suffering and the pain and just the atrocities that took place there and you realize at that moment that youre not a descendant of slaves but youre a descendant of survivorsto survive the cruelty of the dungeons to survive the cruelty of the ships and then to survive the terror and the pain of slavery infuses you with so much strength and also commitment to never give up he addedthe yearold actor who was born in vienna to a ghanaian father and austrian mother cofounded the essence full circle festival in  which coordinates trips for descendants of slaves to visit and invest in africa for him the mission was personalmy background is different from a lot of african americans since my father is from ghana  so my roots i never had to retrace im very clear on what my family tree looks like and that knowledge fills you with pride but it also fills you with a sense of identity a sense of culture heritage kodjoe saidits this exact sense of empowerment that he seeks to share with the black communitykodjoe helped organize two trips back to ghana in  and  for black hollywood stars influencers and entrepreneurs to reconnect with their ancestry he said among those invited were blackish star anthony anderson supermodel naomi campbell and the wire star idris elbathe full circle festival took guests to places with significance to the slave trade in ghana including the door of no return the assin manso slave river and jamestown  the oldest district in the nations capital accraobserving friends who were part of this pilgrimage if you will reconnect with their ancestry has been the most overwhelming and just fulfilling experience kodjoe said to see in their eyes the realization that their ancestry gives them roots and a sense of belonging and therefore a sense of purpose it is such an important experience that you want everybody to have that experienceguests were told about their ancestors history and given tours of ghanas neighborhoods and beaches they were also welcomed at president nana akufoaddos home for a reception dinnertheres a lot of history thats shared between the continent and the diaspora if you will so to me full circle festival represents the honoring of our ancestry but also the realization that we have to build this bridge between the diaspora and the continent in order to address those generational traumas that we have suffered on both continents kodjoe saida large part of the festival involves being honest about those traumas and examining the lingering emotional and economic effects of colonialismthere is this disparity that has been carried from one generation to the next over hundreds and hundreds of years kodjoe explained the goal is to first acknowledge our history and realize that this generational wealth didnt just appear but it was systematically prepared and there were mechanisms put in place to ensure that certain people were at an advantage and others werentin the united states the median and mean wealth of black families is  less than that of a white families according to a  survey from the federal reservethe wealth gap has been growing according to the brookings institute said in a  report that the ratio of white family wealth to black family wealth is higher today than it was at the start of the century  a result in part of white families inheriting wealthkodjoe says there are actually certain steps we can undertake collectively to reduce that wealth gap and to make things righta large part of kodjoes efforts have been to rectify false narratives about africa that persist to this dayweve been told so many lies in the past hundred years about africa that have kept us from it he said this newfound excitement and interest has ignited a wave of not just tourism but people coming to africa to experience not just the culture but also investing in africathe traditional narrative about africa has been dominated by poverty war corruption mass exodus to europe he added theres vibrancy and music and food and people and sights and theres tremendous potential in terms of economic developmentin  akufoaddo called for the descendants of slaves to visit the country and commemorate the th anniversary of the transatlantic slave trade which he triumphantly called the year of returntourism boomed in ghana that year with nearly a million tourists touching down  most of them hailing from the usexperts say ancestry dna tests are a driving force behind some of the travel the united states has also seen a racial reckoning unfold over the last few years with protests across the country decrying racism and police brutality the heightened focus on the black identity has also contributed to a wave of interest in descendants african rootsfull circle festival has done more than just reconnect visitors with their past too its reinvested in africa as well already generating over  billion toward the local economyfull circle festival started changing the narrative about africa specifically ghana kodjoe said we noticed that after just one year we had helped stimulate the economy by  billion and that was of utmost importance to show people the diversity and the vibrancy and the potential for not just tourism but business in africasince moving to ghana over two decades ago rabbi halevi has guided newcomers through monuments of the pastghana has been the gateway for millions of africans that were taken away from this soil to various parts of the diaspora throughout the last couple of centuries and now we find that has reversed he said ghana is now a gateway for hundreds of thousands and hopefully millions of africans in the diaspora to return back to mother africa through the gateway of ghanaone place he takes visitors is the assin manso slave river site where africans from various parts of the continent had their last bath on their native land before being sold into servitudeour ancestors believe if you walked barefoot with it youre connected all the time with its strength and its power halevi told a group of touristshow many people will lay on this ground to get the strength of mother earth back in your body thats where the strength comes from  we take our shoes off at the river bathe in the river he addedhalevi praised the influx of visitors to ghana saying africa is a place we can also come and enjoy its not a place of agony and pain sickness and starvation its a place that is on the rise as the place is being rebuilt after centuries of devastation and for sons and daughters having been ripped from her wombafrica is on the rise and african people are also ascending he addedkodjoe said he hopes that these trips will change how the world views and engages with africathe goal is to continue to change that narrative and engage with the diaspora build a bridge between the diaspora and the continent which then hopefully will result in more economic development investment he said\n",
      "tributes from journalists and politicians are coming in for prominent south african journalist karima brown who died of covid on thursdayjohannesburg  tributes from journalists and politicians are coming in for prominent south african journalist karima brown who died of covid on thursdaybrown  had been hospitalized after falling ill and will be buried thursday according to islamic burial rites her family said in a statementwe are enormously proud of the fierce determination she had shown since her early years to get involved in bringing about a more inclusive and antiracist south africa said the statement this determination also shaped her fearless approach to journalism she was driven by a conviction that journalism must be in service of justicein the s brown was involved in the struggle against apartheid south africas nowabolished system of racist minority rule as a member of the united democratic front a coalition of antiapartheid organizations which supported the thenbanned african national congressalthough proud of her support for the anc as a journalist brown was critical of its policies as south africas ruling party she also challenged the countrys opposition partiesshe recently won a court case against the popular leader of the leftist economic freedom front party julius malema after he published her cellphone number on social media leading his supporters to harass and threaten brownbrowns lively television show the fix about south africas politics was widely watched and she was known for pithy outspoken comments on corruption womens rights racial inequality and other issues previously she held senior positions including political editor of the business day newspaper and chief group executive at the independent media newspaper chainfor a long time karima has been a robust voice in south africas media landscape her years of activism preceded this she had a big personality and didnt shy away from voicing her opinions karima believed in hope norman munzhelele managing editor of the broadcaster enca where brown was employed at the time of her deathshe was also a loving mother a loyal friend and a committed colleague her death leaves a massive void for many he saidthe south african government also paid tribute to brown saying her contribution to the journalistic profession and fearlessness in carrying out her job will sorely be missed cabinet minister khumbudzo ntshavheni saidshe is survived by her son mikhail brown and her brother zainsouth africa has now recorded a cumulative total of more than  million confirmed infections including more than  deaths since the pandemic began last yearmore than  health workers have been vaccinated since it began its inoculation drive two weeks ago south africas government aims to vaccinate  of its population about  million people by the end of the year although critics say the goal is unrealistic\n",
      "nairobi kenya  civilians massacred journalists arrested people starving to death ethiopias government is under growing pressure to allow the world to see firsthand what has occurred in its embattled tigray region as its nobel peace prizewinning prime minister rejects partisan interventionsthat pressure is expected to spike this month as the united states chairs the united nations security council and addresses the first major african crisis of the biden administration millions of dollars in aid to ethiopia a key security ally in the region are at stakeheres a look at the turmoil in tigray as the security council meets behind closed doors on thursday to discuss itwhat about civilians massacredlast month the associated press exposed the killing of an estimated  people in the city of axum citing several witnesses and a week later amnesty international reported many hundreds killed there citing more than  witnesses soldiers from neighboring eritrea long an enemy of tigrays nowfugitive leaders were blamedethiopia continues to deny the eritreans presence even as senior officials with the interim tigray government that ethiopia appointed are increasingly outspoken about them there is growing concern that ethiopian prime minister abiy ahmed who won the nobel in  for making peace with eritrea has now teamed up with it in war eritrea called the ap story on axum outrageous liesamid the denials untold thousands of civilians have been killed as ethiopian and allied forces pursue the former tigray leaders who once dominated ethiopias government before abiy took office in  each side came to regard each other as illegitimate then turned to fightingaxum is far from the only massacre alleged in the tigray conflict more are now coming to light as telephone service resumes in the region and more people fleethe telegraph citing witnesses has reported one in debre abay cnn citing witnesses has reported one in dengelat and agence francepresse further exposed the dengelat killings during a rare visit to the sceneon thursday un human rights chief michelle bachelet said her office has corroborated information about incidents including mass killings in axum and dengelat and warned of possible war crimes by all main armed groups victims must not be denied their rights to the truth and to justice she said urging ethiopia to let independent monitors into tigrayafter us secretary of state antony blinken over the weekend issued the strongest statement yet from washington on tigray and spoke with abiy this week the prime ministers office on wednesday reversed its skeptical stance on the axum massacre and said it was investigating credible allegations in the city and elsewhere in the regionbut human rights groups and others are calling for independent international investigations ideally led by the un arguing that a government accused of involvement in atrocities cannot effectively investigate itselfcan journalists report from tigrayyes at their peril ethiopia in recent days began allowing a limited number of foreign media outlets to visit tigray  the ap did not receive permission  but several ethiopian media workers with the outlets were quickly detainedeven as it announced the limited media access ethiopia warned journalists to essentially behave themselves the governments statement on wednesday said ethiopian defense forces would ensure the security of journalists in the parts of tigray under their control but those who leave the areas do so at their own risk and journalists who break national laws including by aiding and abetting criminal entities and perpetrators will be held accountablethe committee to protect journalists this week criticized ethiopias actions saying that the scarcity of independent reporting coming out of tigray during this conflict was already deeply alarming now the ethiopian militarys arrests of journalists and media workers will undoubtedly lead to fear and selfcensorshipwithout unhindered access to tigray it is challenging to determine the fate of an estimated  million people four months after the region was cut off from the worldare people starving to deathyes according to local officials though its not clear how many while humanitarian aid to tigray has increased in recent weeks aid workers have said it is far from enough and some  of the region remains unreachablein the starkest warning yet the ethiopian red cross last month said if humanitarian access didnt improve thousands of people would be starving to death in a month and tens of thousands in two monthsethiopias government on wednesday said it had distributed food aid to some  million people and it again asserted that humanitarian organizations now have unfettered access to tigraybut humanitarian workers say the reality is far different citing obstacles from authorities and the insecurity an access map published this week by the un humanitarian agency showed much of tigray inaccessible beyond major roads and citiesthe fighting which is ongoing in parts of tigray erupted on the brink of harvest in the largely agricultural region and sent an untold number of people fleeing their homes witnesses have described widespread looting by eritrean soldiers as well as the burning of crops while forces from the neighboring amhara region have reportedly occupied large parts of tigraythis week a senior interim tigray official gebremeskel kassa told the bbc that we are not able to know the whereabouts of a million peoplethe us now says both the eritreans and the amhara forces should leave tigray immediately\n",
      "turkeys defense ministry says an military helicopter has crashed in eastern turkey killing nine soldiers on board and injuring four othersankara turkey  a military helicopter crashed in eastern turkey on thursday killing nine soldiers on board and injuring four others the defense ministry saidthe cougar type helicopter crashed in a rural area near the town of tatvan in the predominantly kurdishpopulated bitlis province it was on its way to tatvan from the nearby province of bingol when authorities lost contact with it at  pm  gmt the ministry saidthe injured soldiers were being evacuated to hospitals it addedthe ministry described the incident as an accident but it wasnt immediately known what caused the crashhaberturk television said the chopper is believed to have crashed in adverse weather conditions including snow and fogthere was no immediate information on the soldiers identities or ranksthe location of the crash is in an area where turkish troops have been combating militants of the banned kurdistan workers party or pkk the conflict has killed tens of thousands of people since the pkk is considered to be a terrorist group by the united states and the european union\n",
      "new polling from the pew research center shows strong negative attitudes among americans toward china with almost nine out of  adults seeing the country as a competitor or enemy rather than a partnerbeijing  new polling from the pew research center shows strong negative attitudes among americans toward china with almost nine out of  adults seeing the country as hostile or a danger to us interestsnegative feelings have increased over human rights economic friction chinas authoritarian communist party political system and perceptions that china wishes to supplant the us as the worlds sole superpower according to the survey results released thursdayrespondents specifically cited chinese actions in hong kong where beijing has been accused of demolishing freedom of speech and opposition politics and in xinjiang where it has imposed a police state and detained more than  million members of the uyghur and other muslim minority groupschinas growing military power technological prowess and alleged cyberattacks on us targets were also cited as concerns it said  of respondents described economic relations between the countries as somewhat or very badrespondents also said they had less confidence in us president joe bidens ability to handle china than on other foreign policy issues such as dealing with terrorist threats climate change and decisions about the use of forcewhile biden says he wants a more civil relationship with china than under his predecessor donald trump he has shown no sign of softening tough measures on trade technology and human rights along with us support for taiwan the selfgoverning island democracy that china claims as its own territorychinese officials routinely attribute negative perceptions about china to inherent prejudice ignorance or political self interestpew said  of americans consider china a competitor or enemy rather than a partner a total of  responded that limiting chinas power and influence is a top priority up from just  who felt that way in opinions in the pew survey were drawn from a random online sampling of  us adults conducted from feb  to feb  the margin of error was given as  percentage pointsnegative perceptions of china were especially pronounced among respondents who identified as republicans or republicanleaning with  saying it was more important to get tougher with beijing than to build a strong economic relationship compared to  for democratsmany more republicans also saw china as an enemy and wanted to limit numbers of chinese studying in the us although republicans and democrats were essentially united in their support for promoting human rights in china and in feeling that chinas human rights policies are a very serious problem for the uson the issue of handling the covid pandemic survey respondents gave the us and china roughly equal marks with  saying china had done a good job and  saying the same about the us however  said the us had done a bad job of handling the outbreak while just  said china had done a bad jobpew said few americans put much stock in chinese president xi jinpingonly  have confidence in xi to do the right thing regarding world affairs whereas  do not  including  who have no confidence in him at all pew said in a summary of its findingschinese foreign ministry spokesperson wang wenbin on wednesday said the trump administration and antichina forces in the us had grossly slandered and discredited china willfully provoked confrontation and division spread political viruses and seriously poisoned the public opinion of both countrieswe hope that the us will look at china and chinaus relations objectively and rationally adopt a rational and pragmatic policy toward china move in the same direction as the chinese side do something to enhance mutual trust and cooperation with china and bring the bilateral relations back to the track of healthy and stable development wang said at a daily briefing\n",
      "a shipment of a quarter million astrazeneca vaccines destined for australia has been barred from leaving the european union in the first use of an export control system instituted by the bloc over a month agobrussels  a shipment of a quarter million astrazeneca vaccines destined for australia has been blocked from leaving the european union in the first use of an export control system instituted by the bloc to make sure big pharma companies would respect their contractsthe move affecting only a small number of vaccines underscores a growing frustration within the nation bloc about the slow rollout of its vaccine drive and the shortfall of promised vaccine deliveries especially by angloswedish astrazenecathe financial times on thursday first reported on the ban that came at the behest of italy and an eu official who asked not to be identified because of the sensitivity of the issue confirmed the blocs executive commission did not raise objectionsitaly has been taking a tough line in dealing with vaccine shortages in the bloc since a new government led by mario draghi came into power last monthfaced with shortages of doses during the early stages of the vaccine campaign that started in late december the eu issued an export control system for covid vaccines in late january forcing companies to respect their contractual obligations to the bloc before commercial exports can be approvedthe eu has been specifically angry with astrazeneca because it is delivering far fewer doses to the bloc than it had promised of the initial order for  million doses to the eu in the first quarter the company will be struggling to deliver just half that quantitythere were rumors that the company was syphoning off from eu production plants to other nations but ceo pascal soriot insisted that any shortfall was to be blamed on technical production issues onlythe company refused to comment on thursdays newsthe eu has vaccinated only  percent of its population compared to over  for example in the united kingdom australia is still very much at the start of its vaccination drivewith such an action the eu is caught in a bind on the one hand it is under intense pressure to ramp up the production of vaccines in the bloc while on the other hand it wants to remain an attractive hub for pharmaceutical giants and a fair trading partner to third countriesthe eu thought it had made perfect preparations for the rollout of vaccinations heavily funding research and production capacity over the past year with its  million people the eu has signed deals for six different vaccines in total it has ordered up to  million doses of the astrazeneca vaccine and sealed agreements with other companies for more than  billion shotsit says that despite the current difficulties it is still convinced it can vaccinate  of the adult population by the end of summerdanica kirka contributed from london\n",
      "hundreds of nigerian girls abducted last week from a boarding school in the countrys northwest have been returned to their families amid chaos as security forces opened fire against people gathered outside the school where the reunions were heldjangebe nigeria  hundreds of nigerian girls abducted last week from a boarding school in the countrys northwest have been returned to their families amid chaos as security forces opened fire on a gathering outside the school where the reunions were held wednesdayone person died and two were injured in the mayhem according to local media reports the forces opened fire after stones were thrown at government officials apparently in frustration at the drawnout procedure said the reportsanxious and angry parents who were reunited with the girls after six days of waiting grabbed their daughters and left after shots rang out many were worried about traveling on the areas dangerous roads at nightthe girls aged  and up had been abducted from the government girls secondary school in jangebe in nigerias northwest zamfara state and were released tuesday after negotiations zamfara gov bello matawalle said that  girls had been freedupon their release the girls were brought to the governments provincial offices government house in gusau for presentation before being medically examined and reunited with their familiesfollowing the kidnappings the zamfara state government announced a curfew which remains in forceofficials said bandits were behind the abduction referring to the groups of armed men who operate in zamfara state and kidnap for money or to press for the release of their members from jailat the time of the attack one resident told the associated press that the gunmen also attacked a nearby military camp and checkpoint preventing soldiers from responding to the abductions from the schoolnigeria has seen several such attacks and kidnappings in recent years the most notorious in  when  girls were abducted by the jihadist rebels of boko haram from the secondary school in chibok in borno state more than  of those girls are still missinglast weeks attack came less than two weeks after gunmen abducted dozens of people including  students from the government science college kagara in niger state the students teachers and family members kidnapped from kagara were released last weekin december  students were abducted from the government science secondary school kankara in katsina state they were eventually released\n",
      "swedish authorities are investigating whether an knife attack by an afghan man who stabbed seven men and left three of them in critical but stable condition had any links to terrorismstockholm  swedish authorities were investigating on thursday whether an knife attack by an afghan man who stabbed seven men and left three of them in critical but stable condition had any links to terrorismthe suspect who was not named under swedish policy rules now faces several counts of attempted murderthere also was initial information in the investigation that led police to believe that they should look at terrorism as being the motive home affairs minister mikael damberg told reporters it is not strange that when there are such a type of atrocity in sweden that a connection to terrorism is also being investigatedneither damberg nor police would elaborate what that initial information was to prompt investigators to probe possible terrorism linksas for the mans motives this is something that will continue to be investigated police investigators said adding that swedens domestic security agency sapo continues to participate in the investigationthe suspect who was formally arrested on thursday had been waiting to see if he would be issued a residence permit swedish tabloid aftonbladet wrote quoting the swedish migration board the previous residence permit expired in november it said the board declined to confirm the reportregional police chief malena grann said they were in touch with the european police agency europol and other countries the suspect was shot in the leg and is being treated in a hospital police said adding that he was already undergone preliminary questioningthe other victims of wednesdays assault in the small town of vetlanda  kilometers  miles southeast of goteborg swedens secondlargest city include three people who were critically wounded another two who sustained moderate injuries and one who was only slightly hurt hospital officials saidat first police said they had received calls about a man assaulting people with an ax but later changed it to a knifepolice say there are five crime scenes in vetlanda a town of  all the victims were men and police said its still unclear whether they were attacked at random or were connected in some waythe suspect is known to police for petty crimes overnight officers raided an apartment where he was reportedly stayingswedish broadcaster svt said that the man was first registered as a resident in sweden in  and moved to vetlanda in aprilvetlanda mayor henrik tvarno said he believed the towns inhabitants were in a state of shock and called the events a nightmareolsen reported from copenhagen denmark\n",
      "a spokesman for chinas ceremonial legislature says the body will deliberate changes to hong kongs electoral system during its annual session starting this weekbeijing  chinas ceremonial legislature will deliberate changes to hong kongs electoral system during its annual session a spokesperson said thursday adding to concerns that beijing intends to shut opposition voices out of the citys political process entirelynational peoples congress spokesperson zhang yesui said the changes are aimed at ensuring that hong kongs political system will keep abreast of the times under the principle of patriots administering the cityzhang gave no details about the changes although speculation has focused on the possibility of reassigning votes in the member committee that selects the citys leader to deprive a small number of elected local district counselors from taking partofficials have also increasingly insisted that only those who prove themselves sufficiently loyal to beijing and the ruling communist party may hold officethe npc opens friday morning with a lengthy address from premier li keqiang reviewing the past year and spelling out priorities for the coming  months the vast majority of the roughly member bodys legislative work is handled by a standing committee that meets throughout the yearthe crackdown on dissent in hong kong has intensified since china imposed a sweeping national security law on the city last year bypassing hong kongs local legislative council saying it was necessary to provide stability after widespread antigovernment protests in  as well as to inculcate love of country in the former british colonycritics say the law and accompanying crackdown are stripping the city of many of its rights promised by beijing at the time of its  handover to chinese rule under a one country two systems frameworkin other comments at thursday nights news conference zhang promoted chinas development of covid vaccines and its provisioning of doses to developing countries including  million donated through the world health organizations covax initiativein doing so china is seeking to protect global health without attaching political strings or pursuing a larger geopolitical strategy zhang said echoing other recent statements from government spokespeoplechina has been criticized by the us and others for being insufficiently transparent about its handling of the pandemic in its initial stages when the first cases were discovered in the central chinese city of wuhanquestioned on this years defense budget zhang declined to give a figure but said the spending level was appropriate for chinas security needs and to meet its international obligations china has the worlds largest standing military and its defense budget is second only to the us which sees in chinas assertions of territorial and maritime claims an attempt to supplant the us as east asias leading military powerwe are committed to the path of peaceful development zhang said chinas military doesnt target or threaten any country he saidasked about relations with the new administration of us president joe biden zhang echoed the broadly positive comments coming from chinese officials listing important converging interests including battling climate change and the pandemic aiding the global economic recovery and maintaining regional peace and stabilityit is in the fundamental interest of both countries and both peoples for the two sides to work together  and steadily advance uschina relations zhang said this is also the expectation of the broader international communitythe npcs advisory body the chinese peoples political consultative conference opened its annual session on thursday with chairman wang yang pledging support for calls that only patriots who show undivided loyalty to the ruling communist party should be allowed to hold elected office in hong kongwe will strengthen unity and friendship with our compatriots overseas and in hong kong macao and taiwan and conduct studies and consultations on fostering patriotism among young people in hong kong and macao wang told delegates in the hulking great hall of the people in the heart of beijingtaiwan is a selfgoverning democracy that china claims as its own territorythe cppcc has no legislative powers of its own but is mandated to conduct research and offer proposals to the national peoples congresswith covid on the wane in the country the leadership decided to hold the sessions on the usual dates in march rather than delay them until may as they did last year however the meetings are shorter this year and media coverage is being conducted remotely\n",
      "a hong kong court has ordered all  prodemocracy activists charged under a beijingimposed national security law to be kept in custody after the department of justice appealed an initial decision to grant bail to  of themhong kong  a hong kong court on thursday ordered all  prodemocracy activists charged under a beijingimposed national security law to be kept in custody after the department of justice appealed an initial decision to grant  of them bailthirtyone of the activists were denied bail outright with the cofounder of the  occupy central protest movement benny tai withdrawing his bail application after he was ordered held in custody in a separate casethe next hearing in the case will be on may the activists aged  to  were charged with conspiracy to commit subversion under the security law and detained on sunday over their involvement in an unofficial primary election last year that authorities said was a plot to paralyze hong kongs governmentthe mass charges against the activists were the most sweeping action taken against the citys prodemocracy camp since the national security law was implemented last junewith the  remanded in custody nearly all of hong kongs most prominent prodemocracy figures will now be in jail or in selfexile abroad amid an ongoing crackdown on dissent in the semiautonomous chinese citythe  activists initially granted bail are to appear in court within  hours for a review of the decisionpolitical party league of social democrats chairman avery ng said after the hearing that the department of justices appeal of the decision to grant bail to  of the defendants was insidious and absurd ridiculous and inhumaneahead of the bail decisions over a hundred supporters gathered outside the west kowloon court chanting slogans such as liberate hong kong revolution of our times which the government has made illegal due to secessionist connotations others sang the protest anthem glory to hong kongpolice gathered and hoisted a warning flag telling protesters that they may be in breach of the national security lawbail proceedings for the activists began on monday often taking a full day and at times continuing into the early hours of the morningunder hong kongs common law system defendants are usually granted bail for nonviolent crimes but the national security law removed the presumption of bail with a clause saying it will not be granted unless the judge has sufficient grounds to believe defendants will not continue to commit acts endangering national securitythe  are part of a broader group of  activists who were arrested in january for their role in the primary elections eight of them were not charged on sundaythe primary was aimed at determining the strongest candidates to field for a legislative council election that would give the prodemocracy camp the best chance to gain a legislative majority the government later postponed the election citing public health risks from the coronavirusif the prodemocracy camp had won a majority at least some members of the camp had plans to vote down major bills which would eventually force hong kong leader carrie lam to resign authorities said the activists participation in the primary was part of a plan to paralyze the citys legislature and subvert state powerthe national security law criminalizes secession subversion collusion with foreign forces to intervene in the citys affairs as well as terrorism serious offenders could face life imprisonmentprominent prodemocracy advocate joshua wong who is currently serving a  month jail sentence on protestrelated charges and former democratic party chairman wu chiwai were among the activists charged this weekthe case has drawn international scrutiny with advocacy groups and politicians condemning the charges uk foreign secretary dominic raab earlier called the charges deeply disturbing and said the national security law was being used to eliminate political dissentthis story has been corrected to show that one defendant withdrew his bail application ahead of the decision\n",
      "outlawed loyalist paramilitary groups in northern ireland say they are temporarily withdrawing their support for the historic  peace accord because of the disruption caused by new postbrexit trade ruleslondon  outlawed loyalist paramilitary groups in northern ireland say they are temporarily withdrawing their support for the historic  peace accord because of the disruption caused by new postbrexit trade rulesthe groups say they are not planning a return to violence but the announcement underscores rising tensions over the trade deal agreed between britain and the european union days before the uk made an economic split from the nation bloc on dec the loyalist communities council which represents several banned paramilitary groupings said in a letter to prime minister boris johnson that the new trade rules undermined the basis of northern irelands  good friday accord and they would no longer support it until there was unfettered access for goods services and citizens throughout the united kingdomthe letter said opposition to the measures would remain peaceful and democraticjeffrey donaldson a lawmaker with northern irelands democratic unionist party said thursday that there was no sense that loyalist paramilitaries were going to revert to violence in opposition to the northern ireland protocolthe ukeu trade deal establishes tariff and quotafree exchange of goods but sets up veterinary and customs checks and other obstacles to the previously seamless commerce between britain and the bloc contentiously it also imposes new checks on some trade between northern ireland and the rest of the uknorthern ireland has special status because it shares a border with eu member state ireland an open irish border has helped underpin the peace process built on the good friday accord which ended decades of violence involving irish republicans british loyalists and uk armed forces in which more than  people diedbut the new checks have unsettled the delicate political balance in northern ireland a part of the uk where some people identify as british and some as irish they are opposed by probritish unionists who say they drive a wedge between northern ireland and the rest of the uknorthern ireland authorities temporarily halted veterinary checks and withdrew border staff from ports last month after threatening graffiti appeared referring to port workers as targets police are also investigating threatening graffiti in belfast referring to michael gove the british government minister responsible for brexit preparationsnorthern ireland businesses meanwhile say they are struggling to cope with the new red tape to ease the burden britain announced wednesday it was unilaterally extending until october a temporary grace period waiving checks on agrifood goods entering northern ireland it had been due to end march that drew a rebuke from the eu european commission vice president maros efovi joint head of a ukeu committee on northern ireland said it was a violation of the legally binding brexit divorce agreementthis also constitutes a clear departure from the constructive approach that has prevailed up until now efovi said in a statementthe uk government insisted it was merely taking temporary technical steps  to provide more time for businesses such as supermarkets and parcel operators to adapt to and implement the new requirementsbut irish foreign minister simon coveney said the uks behavior showed the eu was dealing with a partner that they simply cannot trustrelations between britain and the eu were rocky even before the uk made its final split from the blocthe uk outraged the eu during trade negotiations last fall when it introduced legislation that would have given johnsons government the power to override part of the brexit withdrawal agreement relating to northern ireland the legislation was later dropped but the damage was donethe sensitivity of northern irelands status was underscored earlier this year when the eu threatened to ban shipments of coronavirus vaccines to northern ireland as part of moves to shore up the blocs supply that would have drawn a hard border on the island of ireland  exactly the scenario the brexit deal was crafted to avoidfollow all ap stories on brexit issues at \n",
      "footage of a brutal crackdown on protests against a coup in myanmar has unleashed outrage and calls for a stronger international responseyangon myanmar  footage of a brutal crackdown on protests against a coup in myanmar unleashed outrage and calls for a stronger international response thursday a day after  people were killed videos showed security forces shooting a person at pointblank range and chasing down and savagely beating demonstratorsdespite the shocking violence the day before protesters returned to the streets thursday to denounce the militarys feb  takeover  and were met again with tear gasthe international response to the coup has so far been fitful but a flood of videos shared online showing security forces brutally targeting protesters and other civilians led to calls for more action the united states called the images appalling the un human rights chief said it was time to end the militarys stranglehold over democracy in myanmar and the world bodys independent expert on human rights in the country urged the security council to watch the videos before meeting friday to discuss the crisisthe coup reversed years of slow progress toward democracy in myanmar which for five decades had languished under strict military rule that led to international isolation and sanctions as the generals loosened their grip in recent years the international community lifted most sanctions and poured in investmentun special envoy for myanmar christine schraner burgener described wednesday as the bloodiest day since the takeover when the military ousted the elected government of leader aung san suu kyi more than  civilians mostly peaceful protesters are confirmed to have been killed by police and soldiers since then including the  she said died wednesdayi saw today very disturbing video clips said schraner burgener speaking to reporters at the un in new york via video link from switzerland one was police beating a volunteer medical crew they were not armed another video clip showed a protester was taken away by police and they shot him from very near maybe only one meter he didnt resist to his arrest and it seems that he died on the streetshe appeared to be referring to a video shared on social media that begins with a group of security forces following a civilian who they seem to have just pulled out of a building a shot rings out and the person falls after the person briefly raises their head two of the troops drag the person down the street by the armsin other footage about two dozen security forces some with their firearms drawn chase two people wearing the construction helmets donned by many protesters down a street when they catch up to the people they repeatedly beat them with rods and kick them one of the officers is filming the scene on his cell phonein yet another video several police officers repeatedly kick and hit a person with rods while the person cowers on the ground hands over their head officers move in and out of the frame getting a few kicks in and then casually walking awaywhile some countries have imposed or threatened to impose sanctions following the coup others including those neighboring myanmar have been more hesitant in their response the sheer volume of violent images shared wednesday along with the high death toll raised hopes that the dynamic could changeun high commissioner for human rights michelle bachelet on thursday urged all of those with information and influence to hold military leaders to accountthis is the moment to turn the tables towards justice and end the militarys stranglehold over democracy in myanmar she saidstate department spokesman ned price said the us was appalled at the horrific violence and the uns independent expert on human rights in myanmar tom andrews said the systematic brutality of the military junta is once again on horrific displayi urge members of the un security council to view the photosvideos of the shocking violence being unleashed on peaceful protesters before meeting he said on twitterthe security council has scheduled closeddoor consultations for friday on calls to reverse the coup  including from un secretarygeneral antonio guterres  and stop the escalating crackdownbut justine chambers the associate director of the myanmar research center at the australian national university said that while the graphic images would no doubt lead to strong condemnations  action on myanmar would be harderunfortunately i dont think the brutality caught on camera is going to change much she said i think domestic audiences around the world dont have much of an appetite for stronger action ie intervention given the current state of the pandemic and associated economic issuesany kind of coordinated action at the un will be difficult since two permanent members of the security council china and russia would almost certainly veto iteven if the council did take action un envoy schraner burgener cautioned it might not make much of a difference she said she warned myanmars army that the worlds nations and the security council might take huge strong measuresand the answer was we are used to sanctions and we survived those sanctions in the past she said when she also warned that myanmar would become isolated schraner burgener said the answer was we have to learn to walk with only a few friendswednesdays highest death toll was in yangon the countrys biggest city where an estimated  people died video at a hospital in the city showed grieving relatives collecting the bloodsoaked bodies of family members some relatives sobbed uncontrollably while others looked in shock at the scene around themprotesters gathered again thursday in yangon police again used tear gas to try to disperse the crowds while demonstrators again set up barriers across major roadsprotests also continued in mandalay where three people were reported killed wednesday a formation of five fighter planes flew over the city on thursday morning in what appeared to be a show of forceprotesters in the city flashed the threefingered salute that is a symbol of defiance as they rode their motorbikes to follow a funeral procession for kyal sin also known by her chinese name deng jia xi a university student who was shot dead as she attended a demonstration the day beforeas part of the crackdown security forces have also arrested well over a thousand people including journalists according to the independent assistance association for political prisoners on saturday at least eight journalists including thein zaw of the associated press were detained he and several other members of the media have been charged with violating a public safety law that could see them imprisoned for up to three years\n",
      "a dutch court has ruled that a deeply religious father who kept some of his children isolated from the outside world for years in a remote farmhouse cant stand trial on charges including child sexual abuse because he has been incapacitated by a strokethe hague netherlands  a dutch court ruled thursday that a deeply religious father who kept some of his children isolated from the outside world for years in a remote farmhouse cant stand trial on charges including child sexual abuse because he has been incapacitated by a strokethe decision came after prosecutors last month asked the court in the northern city of assen to drop the case because the yearold suspect wasnt fit to stand trial prosecutors had initially accused him of illegally detaining his children and sexually abusing two of themit brings to an end a case that made headlines around the world in october  after one of the mans sons raised the alarm and authorities discovered the father had been living for years with six of his children in the farmhouse in the small village of ruinerwold in the eastern netherlandsat a preliminary hearing in january last year prosecutors portrayed the father identified only as gerrit jan van d as a deeply religious man who saw his family as chosen by god and did everything in his power  including physical beatings and other punishments  to keep them from succumbing to what he considered malign outside influencesaerial images of the farm showed it surrounded by hedges and trees and with a large vegetable patch near the buildingsthe court ruled thursday that a  stroke had so badly affected the fathers ability to communicate and comprehend that continuing with the case would breach his fair trial rightshe doesnt sufficiently understand what is happening in the courtroom court spokesman marcel wolters said in a video statementthe six children who were kept on the farm are now all young adults three older siblings had earlier left the familys isolated life their mother died in it wasnt immediately clear what will now happen to the father an austrian national identified only as jozef b who is accused of helping the father keep the family in isolation remains a suspect in the casecorinne jeekel a lawyer representing the eldest four children told dutch broadcaster nos that they were disappointed with the decisionit is a great shame for the clients that there will be no criminal judgment on the allegations jeekel told national broadcaster nosthe rest of the family however stood by their fatherthe youngest five children are very happy defense lawyer robert snorn told local broadcaster rtv drentheprosecutors said last month that the children are now free to choose their own futures even if that means returning to a life of isolationin the past  months the children have got to know our society have been able to participate in it and have received spiritual and medical care prosecutors said in a statement if now that they have been able to taste the alternative they nevertheless choose to want to live in seclusion with their father again to exercise their faith  that is their choice\n",
      "officials in northeastern india say they have detained at least seven myanmar policemen who entered india seeking refuge after the countrys powerful military ousted the elected government in a coupnew delhi  police in indias northeastern mizoram state have detained at least seven myanmar policemen who entered india seeking refuge a month after the countrys powerful military ousted the elected government in a coup officials said thursdaymagistrate maria zuali said four policemen arrived in the states champai area on feb  and local villagers handed them over to state authorities on march police officer lalnunzira who uses one name said three other policemen crossed into indian territory near lungkawlh village on wednesday afternoon the village is  kilometers  miles from the border with myanmarthe three policemen said they ran from the country because the myanmar army was on their trail after they refused to obey some orders the police officer saidhe did not explain what orders the three policemen had refused to obey he said they were wearing civilian clothes and were not carrying any weapons when they were found inside indian territoryunconfirmed media reports said more myanmar policemen have crossed into the stateindia shares a kilometer mile long border with myanmar where more than  people mostly peaceful protesters have been killed since the feb  military coupindia is home to thousands of refugees from myanmar who are scattered across different states\n",
      "an inquiry into claims that the european unions border and coast guard agency was involved in illegal pushbacks of migrants has not been able to link frontex to any of the alleged incidentsbrussels  an inquiry into claims that the european unions border and coast guard agency was involved in illegally pushing back migrants has found no link to frontex in any of the incidents but has been unable to establish what happened in five cases according to the official report into the allegationsthe report is by a special working group set up to investigate media allegations that staff ships or aircraft working with frontex took part in or were near more than a dozen pushback incidents at the border between greece and turkey last year mostly in the aegean sea the agencys management board will discuss it at an extraordinary meeting on fridayfrontex which is responsible for patrolling the external borders of the nation eu has rejected the pushback allegations and said that its own internal inquiry could find no evidence to substantiate the claims greece which is in charge of operations involving frontex on its territory has also denied reports of pushbacks by its border officerspushbacks are forcibly preventing people from entering a country when they might want to apply for asylum they are contrary to refugee protection agreements which say people shouldnt be returned to a country where their life and safety might be in danger due to their race religion nationality or political views they also contravene eu law and policythe working group cleared frontex of any wrongdoing in  cases but said in five cases it has not been possible to completely resolve the incidents beyond any reasonable doubt according to part of the restricted report dated march  and seen by the associated pressinvestigators could not determine whether the people involved in the five incidents were picked up by turkish authorities or made it safely onto greek soil there is no indication of anybody injured reported missing or having died in connection with the respective incidents the report saidfrontex executive director fabrice leggeri told eu lawmakers thursday that i dont see any substantiated violation of fundamental rights that would be in this report he didnt elaborate on what else was in the documentthe probe by experts from seven european countries and the european commission was set up weeks after reports of collective migrant expulsions were revealed in an october joint investigation by media outlets bellingcat lighthouse reports der spiegel ard and tv asahithe reports raised troubling questions about the actions of frontex whose mandate and budget has been massively boosted since the entry of well over a million people in  most fleeing conflict in syria sparked one of the eus biggest ever political disputes over how to manage the influxsome of the alleged incidents happened in chaotic times in the aegean around march and april  when turkey angered by the eus reluctance to support its invasion of northern syria allowed thousands of migrants to set out for the greek border and islands unchecked the coronavirus was also surging at the timein one of the alleged maritime pushback cases on april  a group of refugees and migrants was said to have been returned to an unseaworthy life raft without a motor or paddles and towed toward turkey from near the island of samos as a surveillance plane watched from the skybut the working group could find no evidence that frontex was involved or had been notified about it none of the routings of the agencys aircraft match the report nor were any of its ships or vehicles in the area referred to in media reportsmore broadly the investigators insist that serious incident reports must be quickly drafted after any suspicious incident and fundamental rights officers immediately informed frontex was due to have hired  fundamental rights officers by this year but none are in place leggeri said thursday that the first contracts could be offered next monththe investigators recommend that the actions of frontex planes or ships be recorded on video and that they remain after any incidents to observe the actions of national police and border agentseu migration commissioner ylva johansson welcomed the report and noted that a new culture of sensitivity toward possible misconduct is needed at frontex and she criticized the agency for being too slow to respond to the allegationsthis has taken too long johansson told the lawmakers who are separately investigating the pushback claims this time has not been good for the reputation and the trust for the agency she rejected accusations that the european commission itself has been too slow to provide frontex with legal advice on how to handle boats carrying migrants in the aegeanfollow aps global migration coverage at \n",
      "kuwait says the countrys yearold ruling emir has flown to the united states for medical checks just months after ascending the thronedubai united arab emirates  the yearold ruling emir of kuwait flew on thursday to the united states for medical checks staterun media reported just months after he ascended the thronestaterun kuna news agency described the purpose of sheikh nawaf al ahmad al sabahs visit to the us as the usual medical checkups without elaboratinggiven his age sheikh nawafs medical trip raises concerns over his health condition of which little is known staterun news previously reported that he traveled to germany for back surgery in  and years later to the us for medical tests the health of kuwaits leaders remains a sensitive matter in the tiny mideast nation that has seen internal power struggles behind palace doorsafter his predecessor sheikh sabah al ahmad al sabah fell ill last summer a us air force c flying hospital ferried him to rochester minnesota home of the flagship campus of the mayo clinic where he later died the dramatic airlift reflected the close ties between the two nations over the years kuwaits rulers have routinely visited american hospitalssheikh nawafs trip comes just days after the countrys prime minister appointed a new government amid deepening deadlock with parliament which has been a first major challenge to the emir the sheikhdom faces a series of mounting crises including a surge in coronavirus infections and its worst liquidity crunch in decadeskuwait a persian gulf state home to  million people thats slightly smaller than the us state of new jersey has the worlds sixthlargest known oil reservesit has been a staunch us ally since the  gulf war expelled the occupying iraqi forces of saddam hussein\n",
      "the european union executive wants to force employers to be much more open about how much their staff earn to make it easier for women to challenge wage imbalances and close the gender pay gapbrussels  the european union executive wants to force employers to be much more open about how much their staff earn to make it easier for women to challenge wage imbalances and close the gender pay gapeven though the gender pay gap across the nation bloc has been reduced to  for people doing exactly the same work the european commission wants to eliminate the disparity by imposing specific rules to make pay levels publicfor equal pay you need transparency women must know whether their employers treat them fairly said eu commission president ursula von der leyensince its inception in  the european union has sought to end such gender bias but progress has been slow over the decades when it comes to pension rights reflecting working conditions of the past  to  years the gender gap still stands at wage conditions and scales in europe have long been shrouded in secrecy which has helped extend inequality and proved to be a big hurdle for those demanding pay justiceand companies have fallen far short in helping bridge the gap said eu vice president vera jourova we have sufficiently strong evidence that we need to have binding rules and not only to rely on social responsibility of the companies because we see that it doesnt lead anywhere she saidshe said that over the past  years the gap had closed only by little over  percentage points you can imagine if we continue like that we will achieve pay fairness some time in several decades so we cannot continue like thatunder the commissions proposals employers would have to give information about initial pay levels in the vacancy announcement and ahead of the job interview during which employers will not be allowed to ask about applicants previous pay gradesemployees will be allowed to ask employers the average pay levels by gender for people doing the same workand to put more pressure on big companies the proposal forces firms with more than  employees to publish information about any gender pay gapif women remain underpaid the commission wants them to be able to get back pay and it wants the burden of proof to be on employers not the women challenging themthe european trade union confederation lauded the intent but said the proposals lacked teeth to force companies into decisive action it complained that small and mediumsize companies where such discrimination often happens were excluded from key elements of the enforcementthe proposal now goes to the european parliament and eu countries for further discussion before it can be approvedthe announcement came ahead of international womens day next mondaythe eu noted that women had been disproportionally affected by the pandemic many having to add more home tasks to their work schedule because of the closure of schools and day care centersthe covid pandemic has not only consolidated injustices and inequalities that already existed in our societies it is also likely to wipe out decades of achievements by women on progresses in the labor market said european parliament president david sassolijourova said women were vulnerable because most were still at the bottom of the pay scalethat overrepresentation in lowerpaid sectors and occupations such as for instance hospitality retail or personal services has made them particularly vulnerable in the labor market struck by the covid crisis jourova said\n",
      "israels environmental protection minister is standing by her allegation that iran was responsible for a major oil spill off israels coast last month despite providing no evidence and having no support from defense officialsjerusalem  israels environmental protection minister on thursday stood by her allegation that a crude oil spill in the eastern mediterranean last month was an intentional attack by iran but provided no evidence for her claimdefense officials remained silent about the charge by gila gamliel a junior minister in prime minister benjamin netanyahus likud party who on wednesday announced that she had concluded the iranian government deliberately spilled tons of crude oil into the sea in an attempt to damage israels marine ecosystemasked in an interview on army radio on thursday whether she could prove the spill was an intentional attack gamliel doubled down to say that this isnt terrorism that it was an accident is an inappropriate approach to the incident she saidthe investigation determined the ship was smuggling oil from iran to syria when the spill occurred in early februarythe fact that no one knew about the ship that smuggled crude oil from iran to syria that dumped oil and turned off its radar is a failure that needs to be investigated she said she said that israels defense ministry had to give explanationsthe ministry did not have any immediate comment the israeli military foreign ministry and prime ministers office also have not commented on gamliels claimsiranian officials have not publicly acknowledged the allegation or responded to requests for commentmore than  tons of tar are estimated to have washed onto israels mediterranean coastline last month causing extensive environmental damage and forcing the closure of beaches to the public israels nature and parks authority has called the incident one of israels worst environmental disasters the cleanup is expected to take monthson wednesday the environmental protection ministry identified the ship it believed was responsible for the feb  oil spill as the the panamaflagged formerly libyanowned tanker named emeraldministry officials investigating the incident said it was unclear whether the spill was deliberate or accidental but said they received no warning about the incident until tar started washing up on shore weeks laterami daniel ceo of windward a maritime shipping intelligence company that was involved in the investigation told the associated press that several aspects about the emeralds behavior  from shutting off its transmitters to irregular traffic and ownership irregularities  breached us and british standards and pointed to the vessels involvement in smuggling oil from iran in violation of international sanctionsall risk indicators are consistent with the deceptive shipping practices at a very high likelihood that this is an iranian operation to provide crude oil into syria he said but declined to comment on whether the spill may have been an intentional attackgamliels office declined requests for clarification but in an english language statement she said iran is operating terrorism by damaging the environmentisrael accuses archenemy iran of developing nuclear weapons a charge iran denies israel also cites irans support for hostile militant groups across the region  such as the palestinian hamas and the lebanese hezbollah  and its military presence in neighboring syria israel has acknowledged carrying out hundreds of airstrikes on targets connected to iran and its proxies in syria\n",
      "the international organization for migration says at least  migrants are dead after smugglers threw  overboard during a voyage from djibouti in east africa to yemennairobi kenya  the international organization for migration says at least  migrants are dead after smugglers threw  overboard during a voyage from djibouti in east africa to yemena statement says smugglers started shouting there were too many on board after the boat with  migrants including children under  set off on wednesdaythe iom says five bodies have been recovered and survivors are being treated in djiboutithis has happened before as thousands of migrants continue to try to make their way from the horn of africa to yemen and then on to rich gulf countriesthe coronavirus pandemic and the resulting closed borders have slowed but not stopped the flow of migrants the iom said about  people made the journey in  but just  in it is not immediately clear what countries the migrants in this latest journey were from but many make the voyage from ethiopia and somaliain october at least eight migrants drowned after smugglers forced them off a boat near djiboutiin  up to  migrants from somalia and ethiopia were deliberately drowned when a smuggler forced them into the sea off yemens coast and in  at least  migrants and refugees died when a boat capsized off yemen with survivors reporting gunfire\n",
      "sao paulo and buenos aires are the two biggest cities in each of the neighboring south american countries and theyre headed in opposite directions in the covid pandemicsao paulo  sao paulo and buenos aires were a tale of two cities this week with brazils megalopolis partially shutting down and bracing for possibly the worst of the covid pandemic while residents of argentinas capital were stepping out to movie theaters and restaurantsthe two biggest cities in the south american neighbors are headed in opposite directions a trend that experts say demonstrates how places that loosen restrictions against the advice of scientists see a spike in the pandemic while those that keep social distancing measures in place can reopen their economies soonersao paulo home to almost  million people is facing the worst two weeks yet in the pandemic and the growing risk that its onceresilient health care system will collapse gov joo doria told reporters wednesday more than  of the citys intensivecare beds are occupied by covid patients and some wards  like those of the private albert einstein hospital  are full for the first timedoria said the entire state where  million people reside on saturday will face the highest level of restrictions to limit the virus spread that means closure of all bars restaurants shopping malls and any other establishment deemed nonessential until at least march meanwhile the nearly  million residents of buenos aires are enjoying an easing of restrictions with authorization to attend movie theaters taking effect this week on wednesday official figures showed just  of intensivecare beds were occupied by covid patients the low hospitalization rate also enabled local authorities in midfebruary to reopen bars and restaurants until  am  something long sought in a city famous for its allhours culturethat means buenos aires famed steakhouses are reigniting their fires while counterparts in sao paulo extinguish theirsbuenos aires casinos also reopened at the end of  and authorities are discussing whether the soccercrazy city will be able to return to the stadiums soon in brazil despite president jair bolsonaros push to allow fans back no local authorities are seriously considering opening stadiums the seat neoquimica arena on the east side of sao paulo is being used as a vaccination postsome good news from the sao paulo region came on tuesday when soccer great pel received his first dose of a covid vaccine the yearold posted the news on his social media channelsthe pandemic is not over yet we must keep discipline to preserve lives until many people have taken the vaccine the threetime world cup winner said when you go out please dont forget your mask and maintain social distancehis plea is important as bolsonaro continues to cast doubt on the effectiveness of masksthe distance between the two nations has seemingly widened during the pandemic with bolsonaro and argentinas alberto fernndez adopting opposite tacks in their handling of the crisis the former downplayed the diseases risks and has insisted on keeping the economy churning while the latter has taken a more cautious approachfernndez imposed one of the longest quarantines in the world between march and october despite risks of damaging an economy already in a recessionover the past week brazil has recorded  covid deaths per million residents almost triple that of argentinatroubles in sao paulo worsened after furtive carnival celebrations in midfebruary though street celebrations and parades were canceled many paulistas as residents are known traveled or joined unmasked gatherings the city declined to allow days off work traditionally permitted during the carnival period in a bid to keep people from partyingizidoro silveira  got a job waiting tables at a pizzeria in downtown sao paulo two months ago after almost a full year unemployed hes upset about his restaurants imminent shutdownthose doing deliveries wont be hurt but i and many others will a distressed silveira said as he watched a televised news broadcast about the shutdown i dont know what to tell my wife and my daughter im afraid ill lose my job again even though i work at a place that takes all precautionsnot far away movie theaters on the citys main drag paulista avenue are empty just as they have been since the pandemic beganargentinas ease doesnt mean the virus is completely under control wednesdays official figures showed  deaths and more than  new infections in the country vaccine rollout is slow but the overwhelming gloom seen in sao paulo seems to be far from buenos aireswith a bag of popcorn in one hand and a soft drink in the other yearold bautista sundblat was eager to enter a movie theater in buenos aires tony palermo neighborhood to watch bad boys foreverhes very excited said his mother martina wed been waiting for a long time hes a movie fanatic theres still a long way to go but little by little were getting where we wanted rey reported from buenos aires\n",
      "pakistans ruling party says the countrys prime minister imran khan will seek a vote of confidence from the national assembly this weekend to prove he still enjoys the support of majority lawmakers in the houseislamabad  pakistans prime minister will seek a vote of confidence from the national assembly this weekend to prove he still has the support of majority lawmakers in the house despite the defeat of his ruling partys key candidate in senates elections a cabinet minister said thursdayif prime minister imran khan fails to win the vote of confidence pakistan could face another phase of political turmoil according to chaudhry fawad hussain science and technology minister the vote is due on saturday khan is to address the nation later on thursday eveningthe development comes a day after the ruling tehreekeinsaf partys candidate hafeez sheikh lost a hotly contested election for a seat in the senate or upper house of parliament against former prime minister yusuf raza gilani who won in a  votesenate elections were seen as a test for khan who came to power in the  parliamentary elections though khan improved his standing in the member senate sheikhs defeat was a setback for his governmenthussain the science and technology minister also said that senators are expected to vote in the coming days on a new chairman of the senate the incumbent sadiq sanjrani is to be the ruling partys candidate again gilani is likely to contest the vote for the chairman he served as prime minister from  to gilanis success in the senate indicates that some of the ruling partys lawmakers had rebelled and did not vote for sheikh votes for the senate are cast by members of the national assembly or the lower house of parliament and four provincial assemblies\n",
      "portugals government is reporting major progress against wildfires that traditionally scorch the country each summerlisbon portugal  portugals government is reporting major progress against wildfires that traditionally scorch the country each summer saying thursday the average annual number of blazes and charred area has fallen by more than half over the past three years compared with the previous decadeauthorities enacted a broad range of measures after wildfires killed more than  people in though officials said climate change including higher temperatures and lower rainfall was partly to blame for the destruction experts also identified poor forest management and preparedness as a cause of repeated outbreaksauthorities say they have opened more than  kilometers  miles of firebreaks in recent yearsnobody has died in forest blazes in portugal since the government concedes however that much remains to be done to address the underlying causes of wildfiresthey include a migration of people from the countryside to urban areas leaving large areas untended and the large swathes of unbroken conifer forests and eucalyptus plantations which are economically profitable but burn fiercely\n",
      "results from kosovos feb  early general election show that a leftwing party has garnered the the most parliamentary seats but has fallen short of an absolute majority that would have enabled it to form a government on its ownpristina kosovo  final results from kosovos feb  early general election released on thursday showed that a leftwing party has garnered the the most parliamentary seats but has fallen short of an absolute majority that would have enabled it to form a government on its ownthe central election commission that oversaw the poll said that the selfdetermination movement or vetevendosje led by albin kurti won  seats in the seat parliamentkurti who is expected to be the new prime minister has said he will need seats from the countrys nonserb minority to set up his cabinet lawmakers have until may to elect a president or the country could be forced to hold another parliamentary electionsome key challenges kurti is facing will be to revive the poor nations economy beat back unemployment as well as to deal with the coronavirus pandemic organized crime and corruptionnegotiations to normalize ties with neighboring serbia which stalled again last year dont figure high on kurtis agenda despite international pressurethe centerright democratic league of kosovo which was ousted from power won  seats while the democratic party of kosovo  whose main leaders are on trial for war crimes at a court in the netherlands  won  seats both have said would not join a governing coalition with kurtis vetevendosjethe alliance for the future of kosovo party of ramush haradinaj who is hoping to become the next president won  seatstwenty seats are divided evenly between parties from the ethnic serb minority and from nonserb minoritiesturnout was almost  or more than  higher than the  electionkosovo declared independence from serbia in  a decade after a brutal  war between separatist ethnic albanian rebels and serb forces which ended after a day nato air campaign that drove serb troops out and a peacekeeping force moved inmost western nations have recognized kosovo but serbia and its allies russia and china do not tensions over kosovo remain a source of volatility in the balkansuntil may kosovos new lawmakers must elect the countrys president if no candidate is elected after three rounds of voting the country could be forced to hold another early parliamentary electionsemini reported from tirana albania\n",
      "an afghan security official says at least seven civilians were shot and killed overnight by a group of gunmen in eastern nangarhar provincekabul afghanistan  at least seven afghan civilians were shot and killed by a group of gunmen overnight in the countrys east and a physician died when a bomb attached to her rickshaw exploded on thursday provincial officials saidthe islamic state group in a statement claimed responsibility for the bombing saying its fighters had detonated a socalled sticky bomb placed on the vehicle of a woman the statement claimed she worked for the afghan intelligence service in jalalabad the capital of eastern nangarhar provincegen juma gul hemat provincial police chief in nangarhar said the shooting attack victims were workers at a plaster factory in the sorkh rod district police arrested four suspects he addedthe laborers were all from afghanistans minority shiite hazara community according to farid khan spokesman for the provincial police chief some had come form the capital of kabul as well as central bamyan and northern balkh provinces to work in the factoryno one immediately claimed responsibility for that attack but militants from the islamic state group have declared war on shiites and frequently target the hazaras eastern afghanistan has witnessed and increase of attacks by is including an attack on tuesday in which three women who worked at a private tv station were gunned down in jalalabadis claimed responsibility for killing the three women  mursal wahidi sadia sadat and shahnaz raufi the three left work together and were gunned down in separate attacks while on their way home almost at the same timebut many other attacks have gone unclaimed the government blames most on the resurgent taliban who today hold sway over nearly half the country the taliban in turn deny any role in some of the attacks and blame the governmentin thursdays bombing in jalalabad the female doctor was killed while on her way to work at the provincial hospitals maternity wardmeanwhile in western herat province  people both military and civilians were wounded when security forces launched an operation to arrest a local militia commander sparking a firefight the governors office said the wounded including three children are being treatedthe militiaman was not arrested and remains on the run said wahid qatali the provincial governor in herat\n",
      "once a week for the last  weeks the lucky seniors on glenda andrews list have been treated to deliveries of delicacies such as jerk pork curry goat and cow foot soup accompanied by rice and peas yams and plantainslondon  glenda andrew pulls a tray of salmon from the oven filling the community centers kitchen with the aroma of garlic cayenne and lemon rising from its crackling skinit is the scent of memory of family dinners and church socials  the warmth of the caribbean in the middle of a gray english winter made gloomier by covidthis is food for the soul andrew says and its needed now more than ever by britains older immigrants who have been isolated from friends and family by the pandemic once a week the yearold joins other volunteers to prepare hot meals with the zing of the islands which they distribute for free to people in preston and surrounding communities in northwestern england the area has recorded some of the uks highest coronavirus infection ratesits a great way to connect and build that relationship but i didnt know that at the time andrew said of the projects beginnings i just knew that i wanted to do something and make sure that they were getting a hot meal  not sandwiches not soup  getting something that theyre accustomed to eating and hope that they would enjoy itonce a week for the last  weeks the lucky seniors on andrews list have been treated to delicacies such as jerk pork curry goat and cow foot soup accompanied by rice and peas yams and plantains portions are hefty so theres enough to go in the freezer for another day last week some  meals were packed into yellow foam packages and delivered by volunteersthe meal program grew out of andrews work with preston windrush generation  descendants a group organized to fight for the rights of early immigrants from the caribbean and other former british colonies who found themselves threatened with deportation in recent yearsthe windrush generation named after the ship that carried the first migrants from the caribbean in  came to britain in response to a government call for workers from throughout the empire to help rebuild the country after world war iithe windrush scandal rocked britain in  amid a crackdown on illegal immigration longterm legal residents lost jobs homes and the right to free medical care because many arrived as children and couldnt produce paperwork proving their right to live in the uk some were detained and an unknown number were deported to countries they barely rememberedwhen the coronavirus pandemic struck britain the freespirited andrew didnt want the community to be victimized again she decided to create her own food program tailored to the taste buds of the people she grew up withnothing is too good for andrews people they get the best no pilchards heresalmon is a delicacy isnt it you know what i mean theyre worth it she said they brought us up theyve taught us so many things they gave up their life in the caribbean to come herein addition to food the volunteers offer a bit of human contactthe loneliness and isolation of the past year is painful for many of the seniors when deliveries arrive they seek out friendly gossip with the volunteers about what their neighbors are up tosylius toussaint  who came from dominica in  said chatting with volunteers like dave williams helps as much as the foodthey say hello and give you a meal and maybe for just a few seconds at least you see someone new someone you havent seen all week toussaint said as his wife bridgette shot him a bemused look if you are on your own it is so nice to see a fresh face  especially bringing giftsandrew wants to keep the meals flowing even as optimism grows that britains mass vaccination program may soon allow lockdown restrictions to be easedthe project runs on donations and the energy of andrew who seemed to be in a dozen places at once as she marshaled her volunteer chefs last week for now they use a donated kitchen in a community center but theres a glimmer of hope for a more permanent venue at some point  maybe a place the community can gatherbut thats in the future for now the volunteers plan to just keep going gluing the community together with plates of rice and peasinitially it was the food and as i said i didnt know what we were creating andrew said and its been amazingone good thing is a series that highlights individuals whose actions provide glimmers of joy in hard times  stories of people who find a way to make a difference no matter how small see all these ap stories at \n",
      "dubai united arab emirates  abu dhabis national carrier etihad on thursday reported core operating losses of  billion in  reflecting the severe toll of the coronavirus pandemic on the longtroubled airline that has lost billions in recent yearsetihad reported revenues of  billion in  compared to  billion the year before a precipitous decline it attributed to drastically fewer people traveling as the surging pandemic crippled air travelbut the airline one of the middle easts top carriers struggled with financial losses long before the pandemic wiped out the global aviation industry since  etihad has lost a total of  billion as it has aggressively bought up stakes in airlines from europe to asia to compete against the regions other leading airlines dubaibased emirates and qatar airwayswith costcutting measures the company was just starting to recover from the economic pain early last year it announced the sale of  aircraft to an investment firm in an attempt to bolster profits in a deal valued at  billionthen the pandemic struck last march the united arab emirates halted flights to stem the spread of the virus passenger traffic plummeted to just  million travelers from  million the year before the airline said total passenger capacity on planes dropped  the carrier lost  million over the first half of  alone the losses rippled across the company forcing the airline to cut  of its workforce and slash salaries by by comparison etihad lost  million in  the airline reported losses of  billion in  and  billion for while rollout of coronavirus vaccines has stoked hopes for a global return to travel the industry is not expected to see meaningful recovery for months until vaccines are widely administeredstill etihad ceo tony douglas struck an optimistic tone in the earnings announcementwhile nobody could have predicted how  would unfold he said etihad stood firm and is ready to play a key role as the world returns to flyingabu dhabis rulers launched etihad in  rivaling the established dubai governmentowned carrier emirates which boasts a larger fleet and farflung network emirates flies out of dubai international airport only  kilometers  miles away from the capital of abu dhabi the two airlines compete in the longhaul carrier market using their nations location as a key eastwest transit point to their advantage\n",
      "a new zealand man is facing criminal charges after allegedly posting online threats against two christchurch mosques that were the sites of a terrorist attack that left  people deadwellington new zealand  a new zealand man is facing criminal charges after allegedly posting online threats against two christchurch mosques that were the sites of a terrorist attack that left  people deadpolice on thursday arrested the yearold man and charged him with threatening to kill if found guilty he faces a maximum prison sentence of seven yearspolice superintendent john price told reporters the threats were made earlier this week on the website chan which has been used as a forum in the past by white supremaciststhe arrest comes as muslims prepare to mark the second anniversary of a white supremacist gunmans attack at the mosquesprice said there would be an enhanced police presence at the mosques during the commemoration of the march   attacks he said that had been planned before the threats came to lightprice declined to give details of the alleged threats or name the man ahead of his first scheduled court appearance on fridayany threat made on our community and our people is a threat on our society and will not be tolerated price said any messages of hate or people wanting to cause harm in our community they will be held to accountpolice initially arrested two men and executed search warrants at two christchurch addresses one of the men was later released without being chargedin the  attack gunman brenton tarrant slaughtered worshippers at the mosques during friday prayers last year he pleaded guilty to  counts of murder attempted murder and terrorism he was sentenced to life in prison without the possibility of parole\n",
      "a senior israeli justice ministry official says the country has yet to decide whether it will cooperate with the international criminal courts investigation into alleged crimes in the palestinian territoriesjerusalem  israel has yet to decide whether it will cooperate with the international criminal courts investigation into alleged crimes in the palestinian territories a senior justice ministry official said thursdaythe decision by the courts outgoing prosecutor to probe israeli military actions and settlement construction on lands captured in the  mideast war was announced wednesday and condemned by israeli prime minister benjamin netanyahu as the essence of antisemitism and hypocrisyroy schondorf deputy attorney general for international law told army radio that the courts decision was driven by political agendas and that opening an investigation was unjustified but that israel has not rejected any participation outrightthe courts conduct until now and the prosecutors in particular doesnt inspire great trust in the way the procedures will transpire schondorf said adding that there was a big question about the value of cooperationwednesdays decision turns the courts focus toward two key israeli policies of recent years its repeated military operations against palestinian militants in the gaza strip highlighted by a devastating  war and its expansion of jewish settlements in east jerusalem and the occupied west bankthe palestinian authority which administers autonomous areas in the israelioccupied west bank welcomed wednesdays move while the us state department said it opposed the decision to open the investigation\n",
      "hospital officials say three people injured in an assault by a man using an ax in a southern swedish town are in a lifethreatening conditionstockholm  hospital officials say three people wounded in an assault by a man using an ax in southern sweden are in lifethreatening condition and police have reduced the overall number of victims to seventhe suspected assailant a man in his s was shot arrested and is being treated in a hospital police said a press conference was expected later thursday on the attackthe other victims of wednesdays assault in the small town of vetlanda  kilometers  miles southeast of goteborg swedens secondlargest city include two seriously injured people two with moderate injuries and one who is slightly injured the jonkoping region said in a statement late wednesdaythe attack took place in the afternoon and police say there are five crime scenes in vetlanda a town of  the mans motive was not immediately knownpolice said the man who they would not identify in line with swedish policy is known to them for petty crimes overnight officers raided an apartment where he was reportedly staying the expressen tabloid said the suspect was a yearold man from afghanistanswedens home affairs minister mikael damberg told broadcaster svt on thursday that the case was being investigated as attempted murder but all aspects would be considered including whether it was a terror attackit is obvious that you look at whether there are terrorist motives behind it you have to get to the bottom of it he saidregional police chief malena grann said police were investigating whether there were any terrorist motives in the case\n",
      "nepals government has signed a peace agreement with a small communist rebel group widely feared because they were known for violent attacks extortion and bombingskathmandu nepal  nepals government signed a peace agreement thursday with a small communist rebel group widely feared because they were known for violent attacks extortion and bombingsthe government agreed to lift a ban on the group release all their party members and supporters in jail and drop all legal cases against them while the group agreed to give up all violence and resolve any issues through peaceful dialogue the government said in a statement after peace talksdetails of the agreement would be made public at a joint ceremony friday with prime minister khadga prasad oli and the leader of the rebel group netra bikram chand who is better known by his guerrilla name biplav the rebels also call themselves the nepal communist partythis group is known for violence threats and enforcing general strikesit had split from the maoist communist party which fought government troops between  and  when it gave up its armed revolt agreed to unmonitored peace talks and joined mainstream politicsthe maoist fighting had left  people killed hundreds missing and many more maimedthe peace agreement with the rebel group comes at a time when the prime minister and his government are facing a political crisis since a split developed in his own ruling party and the supreme court reinstated the parliament he had dissolved\n",
      "louis climis was a church youth leader attending mass at our lady of salvation church in baghdad in october  when six extremists stormed in and attacked worshippersbaghdad  it began like any other sunday in the our lady of salvation church in baghdad for worshipper louis climis that day nearly  years ago would end with bloodstained pews anguish and lives lostsix alqaedalinked militants stormed and seized the church killing dozens inside at the time the oct   attack was the bloodiest in a drumbeat of violence that iraqs christians suffered during the brutal sectarian warfare following the  us invasion more than a decade later it still stands as perhaps the deadliest single attack against the communitythe carnage prompted many christians to flee iraq and deepened the mistrust between the community and its muslim neighbors a chasm that endures to this daysome are now counting on a much anticipated visit to the church by pope francis on friday to help mend the wounds our lady of salvation which belongs to the syriac catholic church is one of the pontiffs first stops in a historic visit to iraq that christians hope will secure their tenuous place in the countrythe popes visit is hope for us that he will talk with iraqi officials to tell them to stop the violence stop the armed groups and protect minorities climis saidon that fateful day in  climis then  was a youth leader at the church he had arrived just in time for weekly mass with his yearold son radi his wife and other children stayed home to supervise kitchen repairs for this climis would later be thankfulthe lofty church interiors resounded with the voice of father thair reading a bible passage he would never finish it was right then that the first suicide bomber detonated his explosiveladen vestthe blast threw climis to the floor stunned his eyes strained to focus on the unfolding chaos  smoke debris and screams worshippers lay lifelesshe counted four gunmen under the icon of the virgin mary one began singing the adhan the islamic call to prayerquickly climis grabbed his son and ran toward the sacristy room where church furnishings and records were stored as people scrambled for cover he beckoned them inside with over  people in the room he shut the wooden doors and slid a steel rod to bar the handlesbut it was very thin any one of the four terrorists could enter the room and kill us easily he said recalling the scene from his baghdad homeclimis and his son lay frozen on the floor listening to the horrors on the other side of the door shrieks were followed by bullets children cried out explosion after explosion shook the wallsone gunman told a mother to quiet her wailing infant when she was unable climis heard the pop of a bullet the screaming ceasedhe could hear father wassim his friend try and reason with the men he too was shot and killedfrom a small hole in the door he eyed another gunman standing just a few feet awayhow young he was he thought in that momenta grenade was tossed so close to the sacristy that the water cooler burst flooding the room and those huddled inside shivering climis noticed his ears were ringingeleven years on he is still deaf in his right eardesperate he called a friend who worked in the baghdad operations command half an hour and help would come the friend told himfour panicstricken hours later the lights suddenly went off climis braced for the worst another explosion followed louder than any before then the rush of footsteps and volley of firearmsiraqs elite counterterrorism service stormed the church at  pm but climis didnt let anyone leave the room  they had no idea what was going onafter a minute someone knocked on the door and a voice came i am your brother from the cts and everyone will leave this church safelyclimis had to see his beloved church one last time the cts officer told him no it was very dangerous there could be iedsbut he dared to look anywayi dont wish anyone to see what i saw body parts everywhere i saw one body with just a head hands and chest the rest was blown apartthen his gaze turned up toward the vaulted ceilingthere were scraps of human flesh he said it stayed there for weeksin total  worshippers and police were killed in the attack and the ensuing raid by security forces to free the hostages the islamic state of iraq an alqaidaaffiliated group claimed the attackfour years later a new iteration of the group calling itself the islamic state in iraq and syria would overrun vast swaths of northern iraq pushing out entire christian communities prompting concerns of more marginalization within the historic iraqi minority later shiite militia groups would move in and erect checkpoints provoking fear among those who remainedtwo events that traumatic october night sowed the seeds of distrust for over a decade to comeas gunmen wreaked havoc inside the church someone fired shots from the outside through a window into the sacristy climis couldnt see who but thought they were outsiders supporting the terroristsin fact it was the federal police who mistakenly fired during the hourslong standoff a row later ensued between them and the cts over the incident other witnesses saidthe bullets are still lodged in books stacked in the sacristy climis saidthe second event still haunts climis why upon arriving to the church he asks did the cts wait and not launch the raid directlythey did not enter until they got permission from iraqs government he said the waiting cost precious livesthat day he said the iraqi government did not do their duty toward us an ancient iraqi communitythe bloodbath shook iraqs christians to the core their exodus had begun after the  us invasion but increased markedly after the massacre one by one many of climis friends and family began leaving seeing no hope for justicewith the is onslaught a few years later little has changed to improve their lot most of climis family hails from the northern christian town of qaraqosh but are scattered around the world he has run out of fingers to count the various countries where his relatives residethe popes visit to iraq brings hope that he might be able to not only reconnect iraqs christians to their homeland but also talk sense into iraqi leaders who have so far neglected them climis saiddespite his community shrinking around him climis has remained in iraq with his family today he is a deacon in the our lady of salvation church which is open and holds regular services still with security presence outside the immaculate interiors show no signs of its dark history but the memory of those terrifying hours is still etched in the minds of its worshippersso why did climis staybecause this is my country he said\n"
     ]
    }
   ],
   "source": [
    "for text in df[\"Body\"]:\n",
    "    print(text)"
   ]
  },
  {
   "cell_type": "code",
   "execution_count": 15,
   "id": "serious-interval",
   "metadata": {
    "ExecuteTime": {
     "end_time": "2021-03-09T08:13:31.396603Z",
     "start_time": "2021-03-09T08:13:31.393374Z"
    }
   },
   "outputs": [],
   "source": [
    "#summarized = summarizer(cleaned_df, min_length=75, max_length=250)"
   ]
  },
  {
   "cell_type": "code",
   "execution_count": 16,
   "id": "imposed-shark",
   "metadata": {
    "ExecuteTime": {
     "end_time": "2021-03-09T08:13:33.937014Z",
     "start_time": "2021-03-09T08:13:33.932473Z"
    }
   },
   "outputs": [],
   "source": [
    "#summarized"
   ]
  },
  {
   "cell_type": "code",
   "execution_count": 41,
   "id": "medieval-chance",
   "metadata": {
    "ExecuteTime": {
     "end_time": "2021-03-09T09:04:08.876442Z",
     "start_time": "2021-03-09T09:04:08.870438Z"
    }
   },
   "outputs": [],
   "source": [
    "def Adder(cleaned_df):\n",
    "    '''\n",
    "    Creates a summary and appends it to the data frame \n",
    "    '''\n",
    "    summaries = []\n",
    "    count = 0\n",
    "    for text in cleaned_df[\"Body\"]:\n",
    "        summary = summarizer(text, min_length=75, max_length=250)\n",
    "        summaries.append(summary)\n",
    "        count = count +1 \n",
    "        print(\"summary added\", count)\n",
    "    cleaned_df[\"Summary\"] = summaries\n",
    "    \n",
    "    return cleaned_df\n",
    "        \n",
    "        "
   ]
  },
  {
   "cell_type": "code",
   "execution_count": 27,
   "id": "existing-ethiopia",
   "metadata": {
    "ExecuteTime": {
     "end_time": "2021-03-09T08:28:56.350332Z",
     "start_time": "2021-03-09T08:28:56.340076Z"
    }
   },
   "outputs": [
    {
     "data": {
      "text/plain": [
       "0     here are instructions for how to share your in...\n",
       "1     he will remain in the hospital for treatment f...\n",
       "2     military officials say at least  rockets have ...\n",
       "3     when the pontiff touches down in baghdad on fr...\n",
       "4     a national panel of vaccine experts in canada ...\n",
       "5     london and hong kong  at least  protesters wer...\n",
       "6     south koreas first known transgender soldier w...\n",
       "7     a man has been killed by a rooster with a blad...\n",
       "8     the country is the only in europe to avoid som...\n",
       "9     an iceberg larger than new york city has broke...\n",
       "10    a japanese billionaire is searching for eight ...\n",
       "11    recent satellite imagery indicate north korea ...\n",
       "12    hong kong and london  myanmars ousted de facto...\n",
       "13    africa is on the rise and african people are a...\n",
       "14    tributes from journalists and politicians are ...\n",
       "15    nairobi kenya  civilians massacred journalists...\n",
       "16    turkeys defense ministry says an military heli...\n",
       "17    new polling from the pew research center shows...\n",
       "18    a shipment of a quarter million astrazeneca va...\n",
       "20    hundreds of nigerian girls abducted last week ...\n",
       "21    swedish authorities are investigating whether ...\n",
       "23    a spokesman for chinas ceremonial legislature ...\n",
       "24    a hong kong court has ordered all  prodemocrac...\n",
       "25    outlawed loyalist paramilitary groups in north...\n",
       "26    footage of a brutal crackdown on protests agai...\n",
       "27    a dutch court has ruled that a deeply religiou...\n",
       "28    officials in northeastern india say they have ...\n",
       "29    an inquiry into claims that the european union...\n",
       "30    kuwait says the countrys yearold ruling emir h...\n",
       "31    the european union executive wants to force em...\n",
       "32    israels environmental protection minister is s...\n",
       "33    the international organization for migration s...\n",
       "34    sao paulo and buenos aires are the two biggest...\n",
       "35    pakistans ruling party says the countrys prime...\n",
       "37    portugals government is reporting major progre...\n",
       "38    results from kosovos feb  early general electi...\n",
       "39    an afghan security official says at least seve...\n",
       "40    once a week for the last  weeks the lucky seni...\n",
       "42    dubai united arab emirates  abu dhabis nationa...\n",
       "43    a new zealand man is facing criminal charges a...\n",
       "45    a senior israeli justice ministry official say...\n",
       "46    hospital officials say three people injured in...\n",
       "47    nepals government has signed a peace agreement...\n",
       "49    louis climis was a church youth leader attendi...\n",
       "Name: Body, dtype: object"
      ]
     },
     "execution_count": 27,
     "metadata": {},
     "output_type": "execute_result"
    }
   ],
   "source": [
    "df[\"Body\"]"
   ]
  },
  {
   "cell_type": "code",
   "execution_count": 45,
   "id": "loving-brunswick",
   "metadata": {
    "ExecuteTime": {
     "end_time": "2021-03-09T09:14:18.717796Z",
     "start_time": "2021-03-09T09:09:25.552820Z"
    },
    "scrolled": false
   },
   "outputs": [
    {
     "name": "stderr",
     "output_type": "stream",
     "text": [
      "Token indices sequence length is longer than the specified maximum sequence length for this model (3286 > 512). Running this sequence through the model will result in indexing errors\n"
     ]
    },
    {
     "name": "stdout",
     "output_type": "stream",
     "text": [
      "summary added 1\n",
      "summary added 2\n",
      "summary added 3\n",
      "summary added 4\n",
      "summary added 5\n",
      "summary added 6\n",
      "summary added 7\n"
     ]
    }
   ],
   "source": [
    "df = Adder(df)"
   ]
  },
  {
   "cell_type": "code",
   "execution_count": 43,
   "id": "rolled-architect",
   "metadata": {
    "ExecuteTime": {
     "end_time": "2021-03-09T09:08:16.455250Z",
     "start_time": "2021-03-09T09:08:16.419525Z"
    }
   },
   "outputs": [
    {
     "data": {
      "text/html": [
       "<div>\n",
       "<style scoped>\n",
       "    .dataframe tbody tr th:only-of-type {\n",
       "        vertical-align: middle;\n",
       "    }\n",
       "\n",
       "    .dataframe tbody tr th {\n",
       "        vertical-align: top;\n",
       "    }\n",
       "\n",
       "    .dataframe thead th {\n",
       "        text-align: right;\n",
       "    }\n",
       "</style>\n",
       "<table border=\"1\" class=\"dataframe\">\n",
       "  <thead>\n",
       "    <tr style=\"text-align: right;\">\n",
       "      <th></th>\n",
       "      <th>Authors</th>\n",
       "      <th>Body</th>\n",
       "      <th>Keywords</th>\n",
       "      <th>Date</th>\n",
       "      <th>len</th>\n",
       "      <th>Summary</th>\n",
       "    </tr>\n",
       "  </thead>\n",
       "  <tbody>\n",
       "    <tr>\n",
       "      <th>0</th>\n",
       "      <td>nelson d schwartz</td>\n",
       "      <td>live updated march    pm et march    pm et job...</td>\n",
       "      <td>live rise pandemics claims disney showing jobl...</td>\n",
       "      <td>2021-03-04</td>\n",
       "      <td>14906</td>\n",
       "      <td>[{'summary_text': 'u.s. suspends retaliatory t...</td>\n",
       "    </tr>\n",
       "    <tr>\n",
       "      <th>1</th>\n",
       "      <td>dionne searcey benjamin rasmussen</td>\n",
       "      <td>the pandemic which has driven down the price o...</td>\n",
       "      <td>county coal wind desert knows state rawlins ya...</td>\n",
       "      <td>2021-03-03</td>\n",
       "      <td>1808</td>\n",
       "      <td>[{'summary_text': 'wyoming is one of only thre...</td>\n",
       "    </tr>\n",
       "    <tr>\n",
       "      <th>2</th>\n",
       "      <td>frank decaro</td>\n",
       "      <td>with names like vigor mortis spikey van dykey ...</td>\n",
       "      <td>rule ready thats takes york mr performers thin...</td>\n",
       "      <td>2021-03-04</td>\n",
       "      <td>2366</td>\n",
       "      <td>[{'summary_text': 'drag kings are being nurtur...</td>\n",
       "    </tr>\n",
       "    <tr>\n",
       "      <th>3</th>\n",
       "      <td>anthony tommasini</td>\n",
       "      <td>one of his tricks involved playing fishers hor...</td>\n",
       "      <td>bethune wonder born stardom yearsthough won wh...</td>\n",
       "      <td>2021-03-03</td>\n",
       "      <td>1310</td>\n",
       "      <td>[{'summary_text': 'norwegian violinist ole bul...</td>\n",
       "    </tr>\n",
       "    <tr>\n",
       "      <th>4</th>\n",
       "      <td>jessica winter</td>\n",
       "      <td>when grace hopper the trailblazing computer sc...</td>\n",
       "      <td>clock clocks wall grace alarm zoom bed mattres...</td>\n",
       "      <td>2021-03-03</td>\n",
       "      <td>1414</td>\n",
       "      <td>[{'summary_text': 'grace hopper the trailblazi...</td>\n",
       "    </tr>\n",
       "    <tr>\n",
       "      <th>5</th>\n",
       "      <td>joyce cohen</td>\n",
       "      <td>for a dozen years ryan michele woods and jeffr...</td>\n",
       "      <td>choose wanted ms house terrace mr growing opti...</td>\n",
       "      <td>2021-03-04</td>\n",
       "      <td>1656</td>\n",
       "      <td>[{'summary_text': 'ryan michele woods and jeff...</td>\n",
       "    </tr>\n",
       "    <tr>\n",
       "      <th>6</th>\n",
       "      <td>claire cain miller</td>\n",
       "      <td>the pandemic has been distinctly difficult for...</td>\n",
       "      <td>job burdens shouldering work mothers regaining...</td>\n",
       "      <td>2021-03-04</td>\n",
       "      <td>1535</td>\n",
       "      <td>[{'summary_text': 'the pandemic has been disti...</td>\n",
       "    </tr>\n",
       "  </tbody>\n",
       "</table>\n",
       "</div>"
      ],
      "text/plain": [
       "                             Authors  \\\n",
       "0                  nelson d schwartz   \n",
       "1  dionne searcey benjamin rasmussen   \n",
       "2                       frank decaro   \n",
       "3                  anthony tommasini   \n",
       "4                     jessica winter   \n",
       "5                        joyce cohen   \n",
       "6                 claire cain miller   \n",
       "\n",
       "                                                Body  \\\n",
       "0  live updated march    pm et march    pm et job...   \n",
       "1  the pandemic which has driven down the price o...   \n",
       "2  with names like vigor mortis spikey van dykey ...   \n",
       "3  one of his tricks involved playing fishers hor...   \n",
       "4  when grace hopper the trailblazing computer sc...   \n",
       "5  for a dozen years ryan michele woods and jeffr...   \n",
       "6  the pandemic has been distinctly difficult for...   \n",
       "\n",
       "                                            Keywords        Date    len  \\\n",
       "0  live rise pandemics claims disney showing jobl...  2021-03-04  14906   \n",
       "1  county coal wind desert knows state rawlins ya...  2021-03-03   1808   \n",
       "2  rule ready thats takes york mr performers thin...  2021-03-04   2366   \n",
       "3  bethune wonder born stardom yearsthough won wh...  2021-03-03   1310   \n",
       "4  clock clocks wall grace alarm zoom bed mattres...  2021-03-03   1414   \n",
       "5  choose wanted ms house terrace mr growing opti...  2021-03-04   1656   \n",
       "6  job burdens shouldering work mothers regaining...  2021-03-04   1535   \n",
       "\n",
       "                                             Summary  \n",
       "0  [{'summary_text': 'u.s. suspends retaliatory t...  \n",
       "1  [{'summary_text': 'wyoming is one of only thre...  \n",
       "2  [{'summary_text': 'drag kings are being nurtur...  \n",
       "3  [{'summary_text': 'norwegian violinist ole bul...  \n",
       "4  [{'summary_text': 'grace hopper the trailblazi...  \n",
       "5  [{'summary_text': 'ryan michele woods and jeff...  \n",
       "6  [{'summary_text': 'the pandemic has been disti...  "
      ]
     },
     "execution_count": 43,
     "metadata": {},
     "output_type": "execute_result"
    }
   ],
   "source": [
    "df"
   ]
  },
  {
   "cell_type": "code",
   "execution_count": 63,
   "id": "rubber-allowance",
   "metadata": {
    "ExecuteTime": {
     "end_time": "2021-03-06T18:05:39.340877Z",
     "start_time": "2021-03-06T18:05:39.336815Z"
    }
   },
   "outputs": [],
   "source": [
    "summary = df.Summary\n",
    "\n"
   ]
  },
  {
   "cell_type": "code",
   "execution_count": 73,
   "id": "surrounded-flour",
   "metadata": {
    "ExecuteTime": {
     "end_time": "2021-03-06T18:08:44.515091Z",
     "start_time": "2021-03-06T18:08:44.509195Z"
    }
   },
   "outputs": [
    {
     "data": {
      "text/plain": [
       "[{'summary_text': 'abc news live, abcnewscom goodmorningamericacom and fivethirtyeightcom encourage anyone to reach out to discuss potential news stories that may be in the public interest . no system is secure using one of the methods listed below can help protect the privacy of your communication to ussignalsignal is an app with endtoend encryption that allows you to send text voice video document and picture messages we cant read your messages or see your calls .'}]"
      ]
     },
     "execution_count": 73,
     "metadata": {},
     "output_type": "execute_result"
    }
   ],
   "source": [
    "summary"
   ]
  },
  {
   "cell_type": "code",
   "execution_count": 86,
   "id": "unauthorized-mandate",
   "metadata": {
    "ExecuteTime": {
     "end_time": "2021-03-06T18:10:14.063857Z",
     "start_time": "2021-03-06T18:10:14.060505Z"
    }
   },
   "outputs": [],
   "source": [
    "summary_1 = df.Summary[0]"
   ]
  },
  {
   "cell_type": "code",
   "execution_count": 91,
   "id": "african-forest",
   "metadata": {
    "ExecuteTime": {
     "end_time": "2021-03-06T18:11:04.481952Z",
     "start_time": "2021-03-06T18:11:04.475126Z"
    }
   },
   "outputs": [
    {
     "data": {
      "text/plain": [
       "{'summary_text': 'abc news live, abcnewscom goodmorningamericacom and fivethirtyeightcom encourage anyone to reach out to discuss potential news stories that may be in the public interest . no system is secure using one of the methods listed below can help protect the privacy of your communication to ussignalsignal is an app with endtoend encryption that allows you to send text voice video document and picture messages we cant read your messages or see your calls .'}"
      ]
     },
     "execution_count": 91,
     "metadata": {},
     "output_type": "execute_result"
    }
   ],
   "source": [
    "summary_1[0]"
   ]
  },
  {
   "cell_type": "code",
   "execution_count": 56,
   "id": "intellectual-munich",
   "metadata": {
    "ExecuteTime": {
     "end_time": "2021-03-06T18:00:22.184327Z",
     "start_time": "2021-03-06T18:00:22.177884Z"
    }
   },
   "outputs": [
    {
     "data": {
      "text/plain": [
       "dict"
      ]
     },
     "execution_count": 56,
     "metadata": {},
     "output_type": "execute_result"
    }
   ],
   "source": [
    "type(summary_1)"
   ]
  },
  {
   "cell_type": "code",
   "execution_count": 69,
   "id": "convenient-translator",
   "metadata": {
    "ExecuteTime": {
     "end_time": "2021-03-06T18:06:09.383177Z",
     "start_time": "2021-03-06T18:06:09.362544Z"
    }
   },
   "outputs": [
    {
     "ename": "TypeError",
     "evalue": "list indices must be integers or slices, not str",
     "output_type": "error",
     "traceback": [
      "\u001b[0;31m---------------------------------------------------------------------------\u001b[0m",
      "\u001b[0;31mTypeError\u001b[0m                                 Traceback (most recent call last)",
      "\u001b[0;32m<ipython-input-69-de5e515dac9d>\u001b[0m in \u001b[0;36m<module>\u001b[0;34m\u001b[0m\n\u001b[0;32m----> 1\u001b[0;31m \u001b[0msummary_1\u001b[0m\u001b[0;34m[\u001b[0m\u001b[0;34m\"summary_text\"\u001b[0m\u001b[0;34m]\u001b[0m\u001b[0;34m\u001b[0m\u001b[0;34m\u001b[0m\u001b[0m\n\u001b[0m",
      "\u001b[0;31mTypeError\u001b[0m: list indices must be integers or slices, not str"
     ]
    }
   ],
   "source": [
    "summary_1[\"summary_text\"]"
   ]
  },
  {
   "cell_type": "code",
   "execution_count": 100,
   "id": "serious-volleyball",
   "metadata": {
    "ExecuteTime": {
     "end_time": "2021-03-06T18:12:47.365297Z",
     "start_time": "2021-03-06T18:12:47.339129Z"
    },
    "scrolled": true
   },
   "outputs": [
    {
     "ename": "AttributeError",
     "evalue": "'DataFrame' object has no attribute 'Summary'",
     "output_type": "error",
     "traceback": [
      "\u001b[0;31m---------------------------------------------------------------------------\u001b[0m",
      "\u001b[0;31mAttributeError\u001b[0m                            Traceback (most recent call last)",
      "\u001b[0;32m<ipython-input-100-deb6ec151739>\u001b[0m in \u001b[0;36m<module>\u001b[0;34m\u001b[0m\n\u001b[1;32m      2\u001b[0m \u001b[0msummary_str\u001b[0m \u001b[0;34m=\u001b[0m \u001b[0;34m[\u001b[0m\u001b[0;34m]\u001b[0m\u001b[0;34m\u001b[0m\u001b[0;34m\u001b[0m\u001b[0m\n\u001b[1;32m      3\u001b[0m \u001b[0;34m\u001b[0m\u001b[0m\n\u001b[0;32m----> 4\u001b[0;31m \u001b[0;32mfor\u001b[0m \u001b[0msummary\u001b[0m \u001b[0;32min\u001b[0m \u001b[0mdf\u001b[0m\u001b[0;34m.\u001b[0m\u001b[0mSummary\u001b[0m\u001b[0;34m:\u001b[0m\u001b[0;34m\u001b[0m\u001b[0;34m\u001b[0m\u001b[0m\n\u001b[0m\u001b[1;32m      5\u001b[0m \u001b[0;34m\u001b[0m\u001b[0m\n\u001b[1;32m      6\u001b[0m     \u001b[0msumm\u001b[0m \u001b[0;34m=\u001b[0m \u001b[0msummary\u001b[0m\u001b[0;34m[\u001b[0m\u001b[0;36m0\u001b[0m\u001b[0;34m]\u001b[0m\u001b[0;34m\u001b[0m\u001b[0;34m\u001b[0m\u001b[0m\n",
      "\u001b[0;32m~/Ironhack/tensor/lib/python3.8/site-packages/pandas/core/generic.py\u001b[0m in \u001b[0;36m__getattr__\u001b[0;34m(self, name)\u001b[0m\n\u001b[1;32m   5460\u001b[0m             \u001b[0;32mif\u001b[0m \u001b[0mself\u001b[0m\u001b[0;34m.\u001b[0m\u001b[0m_info_axis\u001b[0m\u001b[0;34m.\u001b[0m\u001b[0m_can_hold_identifiers_and_holds_name\u001b[0m\u001b[0;34m(\u001b[0m\u001b[0mname\u001b[0m\u001b[0;34m)\u001b[0m\u001b[0;34m:\u001b[0m\u001b[0;34m\u001b[0m\u001b[0;34m\u001b[0m\u001b[0m\n\u001b[1;32m   5461\u001b[0m                 \u001b[0;32mreturn\u001b[0m \u001b[0mself\u001b[0m\u001b[0;34m[\u001b[0m\u001b[0mname\u001b[0m\u001b[0;34m]\u001b[0m\u001b[0;34m\u001b[0m\u001b[0;34m\u001b[0m\u001b[0m\n\u001b[0;32m-> 5462\u001b[0;31m             \u001b[0;32mreturn\u001b[0m \u001b[0mobject\u001b[0m\u001b[0;34m.\u001b[0m\u001b[0m__getattribute__\u001b[0m\u001b[0;34m(\u001b[0m\u001b[0mself\u001b[0m\u001b[0;34m,\u001b[0m \u001b[0mname\u001b[0m\u001b[0;34m)\u001b[0m\u001b[0;34m\u001b[0m\u001b[0;34m\u001b[0m\u001b[0m\n\u001b[0m\u001b[1;32m   5463\u001b[0m \u001b[0;34m\u001b[0m\u001b[0m\n\u001b[1;32m   5464\u001b[0m     \u001b[0;32mdef\u001b[0m \u001b[0m__setattr__\u001b[0m\u001b[0;34m(\u001b[0m\u001b[0mself\u001b[0m\u001b[0;34m,\u001b[0m \u001b[0mname\u001b[0m\u001b[0;34m:\u001b[0m \u001b[0mstr\u001b[0m\u001b[0;34m,\u001b[0m \u001b[0mvalue\u001b[0m\u001b[0;34m)\u001b[0m \u001b[0;34m->\u001b[0m \u001b[0;32mNone\u001b[0m\u001b[0;34m:\u001b[0m\u001b[0;34m\u001b[0m\u001b[0;34m\u001b[0m\u001b[0m\n",
      "\u001b[0;31mAttributeError\u001b[0m: 'DataFrame' object has no attribute 'Summary'"
     ]
    }
   ],
   "source": [
    "\n",
    "summary_str = []\n",
    "\n",
    "for summary in df.Summary:\n",
    "    \n",
    "    summ = summary[0]\n",
    "    \n",
    "    text_2 = summ[\"summary_text\"]\n",
    "    \n",
    "    summary_str.append(text_2)\n",
    "    \n",
    "   \n",
    "    \n",
    "df[\"Summaries\"] = summary_str"
   ]
  },
  {
   "cell_type": "code",
   "execution_count": 99,
   "id": "pharmaceutical-respondent",
   "metadata": {
    "ExecuteTime": {
     "end_time": "2021-03-06T18:12:41.680280Z",
     "start_time": "2021-03-06T18:12:41.636926Z"
    }
   },
   "outputs": [
    {
     "ename": "KeyError",
     "evalue": "\"['Summary'] not found in axis\"",
     "output_type": "error",
     "traceback": [
      "\u001b[0;31m---------------------------------------------------------------------------\u001b[0m",
      "\u001b[0;31mKeyError\u001b[0m                                  Traceback (most recent call last)",
      "\u001b[0;32m<ipython-input-99-1acd88a6756d>\u001b[0m in \u001b[0;36m<module>\u001b[0;34m\u001b[0m\n\u001b[0;32m----> 1\u001b[0;31m \u001b[0mdf\u001b[0m \u001b[0;34m=\u001b[0m \u001b[0mdf\u001b[0m\u001b[0;34m.\u001b[0m\u001b[0mdrop\u001b[0m\u001b[0;34m(\u001b[0m\u001b[0mcolumns\u001b[0m \u001b[0;34m=\u001b[0m \u001b[0;34m[\u001b[0m\u001b[0;34m\"Summary\"\u001b[0m\u001b[0;34m,\u001b[0m \u001b[0;34m\"len\"\u001b[0m\u001b[0;34m]\u001b[0m\u001b[0;34m)\u001b[0m\u001b[0;34m\u001b[0m\u001b[0;34m\u001b[0m\u001b[0m\n\u001b[0m",
      "\u001b[0;32m~/Ironhack/tensor/lib/python3.8/site-packages/pandas/core/frame.py\u001b[0m in \u001b[0;36mdrop\u001b[0;34m(self, labels, axis, index, columns, level, inplace, errors)\u001b[0m\n\u001b[1;32m   4303\u001b[0m                 \u001b[0mweight\u001b[0m  \u001b[0;36m1.0\u001b[0m     \u001b[0;36m0.8\u001b[0m\u001b[0;34m\u001b[0m\u001b[0;34m\u001b[0m\u001b[0m\n\u001b[1;32m   4304\u001b[0m         \"\"\"\n\u001b[0;32m-> 4305\u001b[0;31m         return super().drop(\n\u001b[0m\u001b[1;32m   4306\u001b[0m             \u001b[0mlabels\u001b[0m\u001b[0;34m=\u001b[0m\u001b[0mlabels\u001b[0m\u001b[0;34m,\u001b[0m\u001b[0;34m\u001b[0m\u001b[0;34m\u001b[0m\u001b[0m\n\u001b[1;32m   4307\u001b[0m             \u001b[0maxis\u001b[0m\u001b[0;34m=\u001b[0m\u001b[0maxis\u001b[0m\u001b[0;34m,\u001b[0m\u001b[0;34m\u001b[0m\u001b[0;34m\u001b[0m\u001b[0m\n",
      "\u001b[0;32m~/Ironhack/tensor/lib/python3.8/site-packages/pandas/core/generic.py\u001b[0m in \u001b[0;36mdrop\u001b[0;34m(self, labels, axis, index, columns, level, inplace, errors)\u001b[0m\n\u001b[1;32m   4150\u001b[0m         \u001b[0;32mfor\u001b[0m \u001b[0maxis\u001b[0m\u001b[0;34m,\u001b[0m \u001b[0mlabels\u001b[0m \u001b[0;32min\u001b[0m \u001b[0maxes\u001b[0m\u001b[0;34m.\u001b[0m\u001b[0mitems\u001b[0m\u001b[0;34m(\u001b[0m\u001b[0;34m)\u001b[0m\u001b[0;34m:\u001b[0m\u001b[0;34m\u001b[0m\u001b[0;34m\u001b[0m\u001b[0m\n\u001b[1;32m   4151\u001b[0m             \u001b[0;32mif\u001b[0m \u001b[0mlabels\u001b[0m \u001b[0;32mis\u001b[0m \u001b[0;32mnot\u001b[0m \u001b[0;32mNone\u001b[0m\u001b[0;34m:\u001b[0m\u001b[0;34m\u001b[0m\u001b[0;34m\u001b[0m\u001b[0m\n\u001b[0;32m-> 4152\u001b[0;31m                 \u001b[0mobj\u001b[0m \u001b[0;34m=\u001b[0m \u001b[0mobj\u001b[0m\u001b[0;34m.\u001b[0m\u001b[0m_drop_axis\u001b[0m\u001b[0;34m(\u001b[0m\u001b[0mlabels\u001b[0m\u001b[0;34m,\u001b[0m \u001b[0maxis\u001b[0m\u001b[0;34m,\u001b[0m \u001b[0mlevel\u001b[0m\u001b[0;34m=\u001b[0m\u001b[0mlevel\u001b[0m\u001b[0;34m,\u001b[0m \u001b[0merrors\u001b[0m\u001b[0;34m=\u001b[0m\u001b[0merrors\u001b[0m\u001b[0;34m)\u001b[0m\u001b[0;34m\u001b[0m\u001b[0;34m\u001b[0m\u001b[0m\n\u001b[0m\u001b[1;32m   4153\u001b[0m \u001b[0;34m\u001b[0m\u001b[0m\n\u001b[1;32m   4154\u001b[0m         \u001b[0;32mif\u001b[0m \u001b[0minplace\u001b[0m\u001b[0;34m:\u001b[0m\u001b[0;34m\u001b[0m\u001b[0;34m\u001b[0m\u001b[0m\n",
      "\u001b[0;32m~/Ironhack/tensor/lib/python3.8/site-packages/pandas/core/generic.py\u001b[0m in \u001b[0;36m_drop_axis\u001b[0;34m(self, labels, axis, level, errors)\u001b[0m\n\u001b[1;32m   4185\u001b[0m                 \u001b[0mnew_axis\u001b[0m \u001b[0;34m=\u001b[0m \u001b[0maxis\u001b[0m\u001b[0;34m.\u001b[0m\u001b[0mdrop\u001b[0m\u001b[0;34m(\u001b[0m\u001b[0mlabels\u001b[0m\u001b[0;34m,\u001b[0m \u001b[0mlevel\u001b[0m\u001b[0;34m=\u001b[0m\u001b[0mlevel\u001b[0m\u001b[0;34m,\u001b[0m \u001b[0merrors\u001b[0m\u001b[0;34m=\u001b[0m\u001b[0merrors\u001b[0m\u001b[0;34m)\u001b[0m\u001b[0;34m\u001b[0m\u001b[0;34m\u001b[0m\u001b[0m\n\u001b[1;32m   4186\u001b[0m             \u001b[0;32melse\u001b[0m\u001b[0;34m:\u001b[0m\u001b[0;34m\u001b[0m\u001b[0;34m\u001b[0m\u001b[0m\n\u001b[0;32m-> 4187\u001b[0;31m                 \u001b[0mnew_axis\u001b[0m \u001b[0;34m=\u001b[0m \u001b[0maxis\u001b[0m\u001b[0;34m.\u001b[0m\u001b[0mdrop\u001b[0m\u001b[0;34m(\u001b[0m\u001b[0mlabels\u001b[0m\u001b[0;34m,\u001b[0m \u001b[0merrors\u001b[0m\u001b[0;34m=\u001b[0m\u001b[0merrors\u001b[0m\u001b[0;34m)\u001b[0m\u001b[0;34m\u001b[0m\u001b[0;34m\u001b[0m\u001b[0m\n\u001b[0m\u001b[1;32m   4188\u001b[0m             \u001b[0mresult\u001b[0m \u001b[0;34m=\u001b[0m \u001b[0mself\u001b[0m\u001b[0;34m.\u001b[0m\u001b[0mreindex\u001b[0m\u001b[0;34m(\u001b[0m\u001b[0;34m**\u001b[0m\u001b[0;34m{\u001b[0m\u001b[0maxis_name\u001b[0m\u001b[0;34m:\u001b[0m \u001b[0mnew_axis\u001b[0m\u001b[0;34m}\u001b[0m\u001b[0;34m)\u001b[0m\u001b[0;34m\u001b[0m\u001b[0;34m\u001b[0m\u001b[0m\n\u001b[1;32m   4189\u001b[0m \u001b[0;34m\u001b[0m\u001b[0m\n",
      "\u001b[0;32m~/Ironhack/tensor/lib/python3.8/site-packages/pandas/core/indexes/base.py\u001b[0m in \u001b[0;36mdrop\u001b[0;34m(self, labels, errors)\u001b[0m\n\u001b[1;32m   5589\u001b[0m         \u001b[0;32mif\u001b[0m \u001b[0mmask\u001b[0m\u001b[0;34m.\u001b[0m\u001b[0many\u001b[0m\u001b[0;34m(\u001b[0m\u001b[0;34m)\u001b[0m\u001b[0;34m:\u001b[0m\u001b[0;34m\u001b[0m\u001b[0;34m\u001b[0m\u001b[0m\n\u001b[1;32m   5590\u001b[0m             \u001b[0;32mif\u001b[0m \u001b[0merrors\u001b[0m \u001b[0;34m!=\u001b[0m \u001b[0;34m\"ignore\"\u001b[0m\u001b[0;34m:\u001b[0m\u001b[0;34m\u001b[0m\u001b[0;34m\u001b[0m\u001b[0m\n\u001b[0;32m-> 5591\u001b[0;31m                 \u001b[0;32mraise\u001b[0m \u001b[0mKeyError\u001b[0m\u001b[0;34m(\u001b[0m\u001b[0;34mf\"{labels[mask]} not found in axis\"\u001b[0m\u001b[0;34m)\u001b[0m\u001b[0;34m\u001b[0m\u001b[0;34m\u001b[0m\u001b[0m\n\u001b[0m\u001b[1;32m   5592\u001b[0m             \u001b[0mindexer\u001b[0m \u001b[0;34m=\u001b[0m \u001b[0mindexer\u001b[0m\u001b[0;34m[\u001b[0m\u001b[0;34m~\u001b[0m\u001b[0mmask\u001b[0m\u001b[0;34m]\u001b[0m\u001b[0;34m\u001b[0m\u001b[0;34m\u001b[0m\u001b[0m\n\u001b[1;32m   5593\u001b[0m         \u001b[0;32mreturn\u001b[0m \u001b[0mself\u001b[0m\u001b[0;34m.\u001b[0m\u001b[0mdelete\u001b[0m\u001b[0;34m(\u001b[0m\u001b[0mindexer\u001b[0m\u001b[0;34m)\u001b[0m\u001b[0;34m\u001b[0m\u001b[0;34m\u001b[0m\u001b[0m\n",
      "\u001b[0;31mKeyError\u001b[0m: \"['Summary'] not found in axis\""
     ]
    }
   ],
   "source": [
    "df = df.drop(columns = [\"Summary\", \"len\"])"
   ]
  },
  {
   "cell_type": "code",
   "execution_count": 98,
   "id": "residential-solution",
   "metadata": {
    "ExecuteTime": {
     "end_time": "2021-03-06T18:12:33.696299Z",
     "start_time": "2021-03-06T18:12:33.664287Z"
    }
   },
   "outputs": [
    {
     "data": {
      "text/html": [
       "<div>\n",
       "<style scoped>\n",
       "    .dataframe tbody tr th:only-of-type {\n",
       "        vertical-align: middle;\n",
       "    }\n",
       "\n",
       "    .dataframe tbody tr th {\n",
       "        vertical-align: top;\n",
       "    }\n",
       "\n",
       "    .dataframe thead th {\n",
       "        text-align: right;\n",
       "    }\n",
       "</style>\n",
       "<table border=\"1\" class=\"dataframe\">\n",
       "  <thead>\n",
       "    <tr style=\"text-align: right;\">\n",
       "      <th></th>\n",
       "      <th>Authors</th>\n",
       "      <th>Body</th>\n",
       "      <th>Keywords</th>\n",
       "      <th>Date</th>\n",
       "      <th>len</th>\n",
       "      <th>Summaries</th>\n",
       "    </tr>\n",
       "  </thead>\n",
       "  <tbody>\n",
       "    <tr>\n",
       "      <th>0</th>\n",
       "      <td>abc news march</td>\n",
       "      <td>here are instructions for how to share your in...</td>\n",
       "      <td>abc read voice messages whatsapp secure text s...</td>\n",
       "      <td>NaN</td>\n",
       "      <td>1901</td>\n",
       "      <td>abc news live, abcnewscom goodmorningamericaco...</td>\n",
       "    </tr>\n",
       "    <tr>\n",
       "      <th>1</th>\n",
       "      <td>abc news rosa sanchez zoe magee march</td>\n",
       "      <td>he will remain in the hospital for treatment f...</td>\n",
       "      <td>underwent procedure prince hospitalized condit...</td>\n",
       "      <td>NaN</td>\n",
       "      <td>1719</td>\n",
       "      <td>prince philip was transferred to st bartholome...</td>\n",
       "    </tr>\n",
       "    <tr>\n",
       "      <th>2</th>\n",
       "      <td>abc news samya kullab associated press march</td>\n",
       "      <td>military officials say at least  rockets have ...</td>\n",
       "      <td>base iraq security attacks military housing tr...</td>\n",
       "      <td>NaN</td>\n",
       "      <td>3279</td>\n",
       "      <td>iraqi military says at least rockets have slam...</td>\n",
       "    </tr>\n",
       "    <tr>\n",
       "      <th>3</th>\n",
       "      <td>abc news clark bentson march</td>\n",
       "      <td>when the pontiff touches down in baghdad on fr...</td>\n",
       "      <td>popes trip iraq vatican pope visit forces sign...</td>\n",
       "      <td>NaN</td>\n",
       "      <td>3700</td>\n",
       "      <td>pope francis will be the first pope to visit t...</td>\n",
       "    </tr>\n",
       "    <tr>\n",
       "      <th>4</th>\n",
       "      <td>abc news rob gillies associated press march</td>\n",
       "      <td>a national panel of vaccine experts in canada ...</td>\n",
       "      <td>panel recommends covid canada interval months ...</td>\n",
       "      <td>NaN</td>\n",
       "      <td>4867</td>\n",
       "      <td>a national panel of vaccine experts in canada ...</td>\n",
       "    </tr>\n",
       "    <tr>\n",
       "      <th>5</th>\n",
       "      <td>abc news morgan winsor karson yiu march</td>\n",
       "      <td>london and hong kong  at least  protesters wer...</td>\n",
       "      <td>power coup myanmars authorities kyi state mili...</td>\n",
       "      <td>NaN</td>\n",
       "      <td>6643</td>\n",
       "      <td>u.n. special envoy for myanmar christine schra...</td>\n",
       "    </tr>\n",
       "    <tr>\n",
       "      <th>6</th>\n",
       "      <td>abc news the associated press march</td>\n",
       "      <td>south koreas first known transgender soldier w...</td>\n",
       "      <td>koreas soldier south undergoing surgery decisi...</td>\n",
       "      <td>NaN</td>\n",
       "      <td>1460</td>\n",
       "      <td>south koreas first known transgender soldier w...</td>\n",
       "    </tr>\n",
       "    <tr>\n",
       "      <th>7</th>\n",
       "      <td>abc news omer farooq associated press february</td>\n",
       "      <td>a man has been killed by a rooster with a blad...</td>\n",
       "      <td>indian leg cockfight satish tied kills man roo...</td>\n",
       "      <td>NaN</td>\n",
       "      <td>2302</td>\n",
       "      <td>a man was killed by a rooster with a blade tie...</td>\n",
       "    </tr>\n",
       "    <tr>\n",
       "      <th>8</th>\n",
       "      <td>abc news guy davies bruno roeber february</td>\n",
       "      <td>the country is the only in europe to avoid som...</td>\n",
       "      <td>lockdown care strategy far swedish deaths swed...</td>\n",
       "      <td>NaN</td>\n",
       "      <td>10417</td>\n",
       "      <td>sweden has resisted going into lockdown unlike...</td>\n",
       "    </tr>\n",
       "    <tr>\n",
       "      <th>9</th>\n",
       "      <td>abc news julia jacobo february</td>\n",
       "      <td>an iceberg larger than new york city has broke...</td>\n",
       "      <td>shelf breaks bas calving city station antarcti...</td>\n",
       "      <td>NaN</td>\n",
       "      <td>2448</td>\n",
       "      <td>scientists say the square mile glacier broke o...</td>\n",
       "    </tr>\n",
       "    <tr>\n",
       "      <th>10</th>\n",
       "      <td>abc news catherine thorbecke march</td>\n",
       "      <td>a japanese billionaire is searching for eight ...</td>\n",
       "      <td>join japanese private starship mission moon ma...</td>\n",
       "      <td>NaN</td>\n",
       "      <td>2487</td>\n",
       "      <td>japanese billionaire is searching for eight me...</td>\n",
       "    </tr>\n",
       "    <tr>\n",
       "      <th>11</th>\n",
       "      <td>abc news hyungjin kim associated press march</td>\n",
       "      <td>recent satellite imagery indicate north korea ...</td>\n",
       "      <td>return yongbyon kim korea weapons nuclear comp...</td>\n",
       "      <td>NaN</td>\n",
       "      <td>2965</td>\n",
       "      <td>satellite imagery indicates north korea may be...</td>\n",
       "    </tr>\n",
       "    <tr>\n",
       "      <th>12</th>\n",
       "      <td>abc news karson yiu morgan winsor march</td>\n",
       "      <td>hong kong and london  myanmars ousted de facto...</td>\n",
       "      <td>election kyi myanmars coup suu state deadliest...</td>\n",
       "      <td>NaN</td>\n",
       "      <td>6152</td>\n",
       "      <td>aung san suu kyi appeared healthy during her v...</td>\n",
       "    </tr>\n",
       "    <tr>\n",
       "      <th>13</th>\n",
       "      <td>abc news candace smith aude soichet jessica ho...</td>\n",
       "      <td>africa is on the rise and african people are a...</td>\n",
       "      <td>return africa ghana festival roots place recon...</td>\n",
       "      <td>NaN</td>\n",
       "      <td>8504</td>\n",
       "      <td>rabbi kohain halevi is a board member of the d...</td>\n",
       "    </tr>\n",
       "    <tr>\n",
       "      <th>14</th>\n",
       "      <td>abc news mogomotsi magome associated press march</td>\n",
       "      <td>tributes from journalists and politicians are ...</td>\n",
       "      <td>media south reporter prominent leading covid k...</td>\n",
       "      <td>NaN</td>\n",
       "      <td>2886</td>\n",
       "      <td>tributes from journalists and politicians are ...</td>\n",
       "    </tr>\n",
       "    <tr>\n",
       "      <th>15</th>\n",
       "      <td>abc news cara anna associated press march</td>\n",
       "      <td>nairobi kenya  civilians massacred journalists...</td>\n",
       "      <td>ethiopian witnesses week region crisis deadly ...</td>\n",
       "      <td>NaN</td>\n",
       "      <td>5549</td>\n",
       "      <td>ethiopian prime minister abiy ahmed has teamed...</td>\n",
       "    </tr>\n",
       "    <tr>\n",
       "      <th>16</th>\n",
       "      <td>abc news the associated press march</td>\n",
       "      <td>turkeys defense ministry says an military heli...</td>\n",
       "      <td>soldiers pkk helicopter eastern tatvan crashed...</td>\n",
       "      <td>NaN</td>\n",
       "      <td>1190</td>\n",
       "      <td>cougar type helicopter crashed in a rural area...</td>\n",
       "    </tr>\n",
       "    <tr>\n",
       "      <th>17</th>\n",
       "      <td>abc news the associated press march</td>\n",
       "      <td>new polling from the pew research center shows...</td>\n",
       "      <td>hardening american survey attitudes strong chi...</td>\n",
       "      <td>NaN</td>\n",
       "      <td>3921</td>\n",
       "      <td>pew poll shows strong negative attitudes among...</td>\n",
       "    </tr>\n",
       "    <tr>\n",
       "      <th>18</th>\n",
       "      <td>abc news raf casert associated press march</td>\n",
       "      <td>a shipment of a quarter million astrazeneca va...</td>\n",
       "      <td>eu stop million bloc italy australia productio...</td>\n",
       "      <td>NaN</td>\n",
       "      <td>2890</td>\n",
       "      <td>a shipment of a quarter million astrazeneca va...</td>\n",
       "    </tr>\n",
       "    <tr>\n",
       "      <th>20</th>\n",
       "      <td>abc news lekan oyekanmi associated press march</td>\n",
       "      <td>hundreds of nigerian girls abducted last week ...</td>\n",
       "      <td>opened schoolgirls nigerian girls state zamfar...</td>\n",
       "      <td>NaN</td>\n",
       "      <td>2483</td>\n",
       "      <td>hundreds of nigerian girls abducted last week ...</td>\n",
       "    </tr>\n",
       "    <tr>\n",
       "      <th>21</th>\n",
       "      <td>abc news jan molsen david keyton associated pr...</td>\n",
       "      <td>swedish authorities are investigating whether ...</td>\n",
       "      <td>victims knife probe man swedish terrorism swed...</td>\n",
       "      <td>NaN</td>\n",
       "      <td>2682</td>\n",
       "      <td>swedish authorities are investigating whether ...</td>\n",
       "    </tr>\n",
       "    <tr>\n",
       "      <th>23</th>\n",
       "      <td>abc news ken moritsugu associated press march</td>\n",
       "      <td>a spokesman for chinas ceremonial legislature ...</td>\n",
       "      <td>electoral country peoples chinas kongs deliber...</td>\n",
       "      <td>NaN</td>\n",
       "      <td>4623</td>\n",
       "      <td>china's ceremonial legislature will deliberate...</td>\n",
       "    </tr>\n",
       "    <tr>\n",
       "      <th>24</th>\n",
       "      <td>abc news zen soo nicole ko associated press march</td>\n",
       "      <td>a hong kong court has ordered all  prodemocrac...</td>\n",
       "      <td>custody activists security democracy court cha...</td>\n",
       "      <td>NaN</td>\n",
       "      <td>4037</td>\n",
       "      <td>a hong kong court has ordered all prodemocracy...</td>\n",
       "    </tr>\n",
       "    <tr>\n",
       "      <th>25</th>\n",
       "      <td>abc news jill lawless associated press march</td>\n",
       "      <td>outlawed loyalist paramilitary groups in north...</td>\n",
       "      <td>support eu pull uk checks loyalists peace ni r...</td>\n",
       "      <td>NaN</td>\n",
       "      <td>4246</td>\n",
       "      <td>paramilitary groups in northern ireland say th...</td>\n",
       "    </tr>\n",
       "    <tr>\n",
       "      <th>26</th>\n",
       "      <td>abc news the associated press march</td>\n",
       "      <td>footage of a brutal crackdown on protests agai...</td>\n",
       "      <td>coup widely outrage security crackdown protest...</td>\n",
       "      <td>NaN</td>\n",
       "      <td>6705</td>\n",
       "      <td>new: the united states calls for a stronger in...</td>\n",
       "    </tr>\n",
       "    <tr>\n",
       "      <th>27</th>\n",
       "      <td>abc news mike corder associated press march</td>\n",
       "      <td>a dutch court has ruled that a deeply religiou...</td>\n",
       "      <td>children religious dutch isolated court case s...</td>\n",
       "      <td>NaN</td>\n",
       "      <td>3114</td>\n",
       "      <td>a dutch court ruled that a stroke had so badly...</td>\n",
       "    </tr>\n",
       "    <tr>\n",
       "      <th>28</th>\n",
       "      <td>abc news the associated press march</td>\n",
       "      <td>officials in northeastern india say they have ...</td>\n",
       "      <td>state policemen military refuge states myanmar...</td>\n",
       "      <td>NaN</td>\n",
       "      <td>1476</td>\n",
       "      <td>officials in northeastern india say they have ...</td>\n",
       "    </tr>\n",
       "    <tr>\n",
       "      <th>29</th>\n",
       "      <td>abc news lorne cook associated press march</td>\n",
       "      <td>an inquiry into claims that the european union...</td>\n",
       "      <td>migrants eu involved european pushback border ...</td>\n",
       "      <td>NaN</td>\n",
       "      <td>4834</td>\n",
       "      <td>an inquiry into claims that the european union...</td>\n",
       "    </tr>\n",
       "    <tr>\n",
       "      <th>30</th>\n",
       "      <td>abc news the associated press march</td>\n",
       "      <td>kuwait says the countrys yearold ruling emir h...</td>\n",
       "      <td>sheikh medical al trip sabah checks flies stat...</td>\n",
       "      <td>NaN</td>\n",
       "      <td>1767</td>\n",
       "      <td>sheikh nawaf al ahmad al sabah has flown to th...</td>\n",
       "    </tr>\n",
       "    <tr>\n",
       "      <th>31</th>\n",
       "      <td>abc news raf casert associated press march</td>\n",
       "      <td>the european union executive wants to force em...</td>\n",
       "      <td>eu european companies levels pay union gender ...</td>\n",
       "      <td>NaN</td>\n",
       "      <td>3531</td>\n",
       "      <td>the european union executive wants to force em...</td>\n",
       "    </tr>\n",
       "    <tr>\n",
       "      <th>32</th>\n",
       "      <td>abc news ilan ben zion associated press march</td>\n",
       "      <td>israels environmental protection minister is s...</td>\n",
       "      <td>oil incident crude sticks syria terror ministe...</td>\n",
       "      <td>NaN</td>\n",
       "      <td>3529</td>\n",
       "      <td>israel's environmental protection minister sta...</td>\n",
       "    </tr>\n",
       "    <tr>\n",
       "      <th>33</th>\n",
       "      <td>abc news the associated press march</td>\n",
       "      <td>the international organization for migration s...</td>\n",
       "      <td>voyage migrants africa overboard survivors org...</td>\n",
       "      <td>NaN</td>\n",
       "      <td>1371</td>\n",
       "      <td>the international organization for migration s...</td>\n",
       "    </tr>\n",
       "    <tr>\n",
       "      <th>34</th>\n",
       "      <td>abc news mauricio savarese debora rey associat...</td>\n",
       "      <td>sao paulo and buenos aires are the two biggest...</td>\n",
       "      <td>buenos million week paulo movie surge aires fo...</td>\n",
       "      <td>NaN</td>\n",
       "      <td>4974</td>\n",
       "      <td>sao paulo and buenos aires are the two biggest...</td>\n",
       "    </tr>\n",
       "    <tr>\n",
       "      <th>35</th>\n",
       "      <td>abc news the associated press march</td>\n",
       "      <td>pakistans ruling party says the countrys prime...</td>\n",
       "      <td>vote trust week senate house parliament seek m...</td>\n",
       "      <td>NaN</td>\n",
       "      <td>1757</td>\n",
       "      <td>imran khan will seek a vote of confidence from...</td>\n",
       "    </tr>\n",
       "    <tr>\n",
       "      <th>37</th>\n",
       "      <td>abc news the associated press march</td>\n",
       "      <td>portugals government is reporting major progre...</td>\n",
       "      <td>number major reporting areas wildfires portuga...</td>\n",
       "      <td>NaN</td>\n",
       "      <td>1195</td>\n",
       "      <td>portugals government is reporting major progre...</td>\n",
       "    </tr>\n",
       "    <tr>\n",
       "      <th>38</th>\n",
       "      <td>abc news zenel zhinipotoku llazar semini assoc...</td>\n",
       "      <td>results from kosovos feb  early general electi...</td>\n",
       "      <td>election kosovo cabinet won serbia president w...</td>\n",
       "      <td>NaN</td>\n",
       "      <td>2429</td>\n",
       "      <td>results from kosovos feb early general electio...</td>\n",
       "    </tr>\n",
       "    <tr>\n",
       "      <th>39</th>\n",
       "      <td>abc news rahim faiez march</td>\n",
       "      <td>an afghan security official says at least seve...</td>\n",
       "      <td>bomb official afghan gunmen kills eastern grou...</td>\n",
       "      <td>NaN</td>\n",
       "      <td>2386</td>\n",
       "      <td>afghan security official says at least seven c...</td>\n",
       "    </tr>\n",
       "    <tr>\n",
       "      <th>40</th>\n",
       "      <td>abc news danica kirka associated press march</td>\n",
       "      <td>once a week for the last  weeks the lucky seni...</td>\n",
       "      <td>lockdown week soup good food easier thing wind...</td>\n",
       "      <td>NaN</td>\n",
       "      <td>4525</td>\n",
       "      <td>glenda andrews volunteers distribute hot meals...</td>\n",
       "    </tr>\n",
       "    <tr>\n",
       "      <th>42</th>\n",
       "      <td>abc news the associated press march</td>\n",
       "      <td>dubai united arab emirates  abu dhabis nationa...</td>\n",
       "      <td>million reports billion dhabis emirates etihad...</td>\n",
       "      <td>NaN</td>\n",
       "      <td>2341</td>\n",
       "      <td>etihad reported revenues of billion in compare...</td>\n",
       "    </tr>\n",
       "    <tr>\n",
       "      <th>43</th>\n",
       "      <td>abc news nick perry associated press march</td>\n",
       "      <td>a new zealand man is facing criminal charges a...</td>\n",
       "      <td>threat terrorist man christchurch white charge...</td>\n",
       "      <td>NaN</td>\n",
       "      <td>1736</td>\n",
       "      <td>a new zealand man is facing criminal charges a...</td>\n",
       "    </tr>\n",
       "    <tr>\n",
       "      <th>45</th>\n",
       "      <td>abc news the associated press march</td>\n",
       "      <td>a senior israeli justice ministry official say...</td>\n",
       "      <td>courts war schondorf investigation icc west pa...</td>\n",
       "      <td>NaN</td>\n",
       "      <td>1643</td>\n",
       "      <td>a senior israeli justice ministry official say...</td>\n",
       "    </tr>\n",
       "    <tr>\n",
       "      <th>46</th>\n",
       "      <td>abc news the associated press march</td>\n",
       "      <td>hospital officials say three people injured in...</td>\n",
       "      <td>lifethreatening hospital ax victims terrorist ...</td>\n",
       "      <td>NaN</td>\n",
       "      <td>1646</td>\n",
       "      <td>hospital officials say three people wounded in...</td>\n",
       "    </tr>\n",
       "    <tr>\n",
       "      <th>47</th>\n",
       "      <td>abc news the associated press march</td>\n",
       "      <td>nepals government has signed a peace agreement...</td>\n",
       "      <td>agreement signs nepal widely group party peace...</td>\n",
       "      <td>NaN</td>\n",
       "      <td>1486</td>\n",
       "      <td>nepals government signs peace agreement with a...</td>\n",
       "    </tr>\n",
       "    <tr>\n",
       "      <th>49</th>\n",
       "      <td>abc news samya kullab associated press march</td>\n",
       "      <td>louis climis was a church youth leader attendi...</td>\n",
       "      <td>iraq sacristy later ahead salvation church pop...</td>\n",
       "      <td>NaN</td>\n",
       "      <td>6683</td>\n",
       "      <td>louis climis was a youth leader attending mass...</td>\n",
       "    </tr>\n",
       "  </tbody>\n",
       "</table>\n",
       "</div>"
      ],
      "text/plain": [
       "                                              Authors  \\\n",
       "0                                      abc news march   \n",
       "1               abc news rosa sanchez zoe magee march   \n",
       "2        abc news samya kullab associated press march   \n",
       "3                        abc news clark bentson march   \n",
       "4         abc news rob gillies associated press march   \n",
       "5             abc news morgan winsor karson yiu march   \n",
       "6                 abc news the associated press march   \n",
       "7      abc news omer farooq associated press february   \n",
       "8           abc news guy davies bruno roeber february   \n",
       "9                      abc news julia jacobo february   \n",
       "10                 abc news catherine thorbecke march   \n",
       "11       abc news hyungjin kim associated press march   \n",
       "12            abc news karson yiu morgan winsor march   \n",
       "13  abc news candace smith aude soichet jessica ho...   \n",
       "14   abc news mogomotsi magome associated press march   \n",
       "15          abc news cara anna associated press march   \n",
       "16                abc news the associated press march   \n",
       "17                abc news the associated press march   \n",
       "18         abc news raf casert associated press march   \n",
       "20     abc news lekan oyekanmi associated press march   \n",
       "21  abc news jan molsen david keyton associated pr...   \n",
       "23      abc news ken moritsugu associated press march   \n",
       "24  abc news zen soo nicole ko associated press march   \n",
       "25       abc news jill lawless associated press march   \n",
       "26                abc news the associated press march   \n",
       "27        abc news mike corder associated press march   \n",
       "28                abc news the associated press march   \n",
       "29         abc news lorne cook associated press march   \n",
       "30                abc news the associated press march   \n",
       "31         abc news raf casert associated press march   \n",
       "32      abc news ilan ben zion associated press march   \n",
       "33                abc news the associated press march   \n",
       "34  abc news mauricio savarese debora rey associat...   \n",
       "35                abc news the associated press march   \n",
       "37                abc news the associated press march   \n",
       "38  abc news zenel zhinipotoku llazar semini assoc...   \n",
       "39                         abc news rahim faiez march   \n",
       "40       abc news danica kirka associated press march   \n",
       "42                abc news the associated press march   \n",
       "43         abc news nick perry associated press march   \n",
       "45                abc news the associated press march   \n",
       "46                abc news the associated press march   \n",
       "47                abc news the associated press march   \n",
       "49       abc news samya kullab associated press march   \n",
       "\n",
       "                                                 Body  \\\n",
       "0   here are instructions for how to share your in...   \n",
       "1   he will remain in the hospital for treatment f...   \n",
       "2   military officials say at least  rockets have ...   \n",
       "3   when the pontiff touches down in baghdad on fr...   \n",
       "4   a national panel of vaccine experts in canada ...   \n",
       "5   london and hong kong  at least  protesters wer...   \n",
       "6   south koreas first known transgender soldier w...   \n",
       "7   a man has been killed by a rooster with a blad...   \n",
       "8   the country is the only in europe to avoid som...   \n",
       "9   an iceberg larger than new york city has broke...   \n",
       "10  a japanese billionaire is searching for eight ...   \n",
       "11  recent satellite imagery indicate north korea ...   \n",
       "12  hong kong and london  myanmars ousted de facto...   \n",
       "13  africa is on the rise and african people are a...   \n",
       "14  tributes from journalists and politicians are ...   \n",
       "15  nairobi kenya  civilians massacred journalists...   \n",
       "16  turkeys defense ministry says an military heli...   \n",
       "17  new polling from the pew research center shows...   \n",
       "18  a shipment of a quarter million astrazeneca va...   \n",
       "20  hundreds of nigerian girls abducted last week ...   \n",
       "21  swedish authorities are investigating whether ...   \n",
       "23  a spokesman for chinas ceremonial legislature ...   \n",
       "24  a hong kong court has ordered all  prodemocrac...   \n",
       "25  outlawed loyalist paramilitary groups in north...   \n",
       "26  footage of a brutal crackdown on protests agai...   \n",
       "27  a dutch court has ruled that a deeply religiou...   \n",
       "28  officials in northeastern india say they have ...   \n",
       "29  an inquiry into claims that the european union...   \n",
       "30  kuwait says the countrys yearold ruling emir h...   \n",
       "31  the european union executive wants to force em...   \n",
       "32  israels environmental protection minister is s...   \n",
       "33  the international organization for migration s...   \n",
       "34  sao paulo and buenos aires are the two biggest...   \n",
       "35  pakistans ruling party says the countrys prime...   \n",
       "37  portugals government is reporting major progre...   \n",
       "38  results from kosovos feb  early general electi...   \n",
       "39  an afghan security official says at least seve...   \n",
       "40  once a week for the last  weeks the lucky seni...   \n",
       "42  dubai united arab emirates  abu dhabis nationa...   \n",
       "43  a new zealand man is facing criminal charges a...   \n",
       "45  a senior israeli justice ministry official say...   \n",
       "46  hospital officials say three people injured in...   \n",
       "47  nepals government has signed a peace agreement...   \n",
       "49  louis climis was a church youth leader attendi...   \n",
       "\n",
       "                                             Keywords  Date    len  \\\n",
       "0   abc read voice messages whatsapp secure text s...   NaN   1901   \n",
       "1   underwent procedure prince hospitalized condit...   NaN   1719   \n",
       "2   base iraq security attacks military housing tr...   NaN   3279   \n",
       "3   popes trip iraq vatican pope visit forces sign...   NaN   3700   \n",
       "4   panel recommends covid canada interval months ...   NaN   4867   \n",
       "5   power coup myanmars authorities kyi state mili...   NaN   6643   \n",
       "6   koreas soldier south undergoing surgery decisi...   NaN   1460   \n",
       "7   indian leg cockfight satish tied kills man roo...   NaN   2302   \n",
       "8   lockdown care strategy far swedish deaths swed...   NaN  10417   \n",
       "9   shelf breaks bas calving city station antarcti...   NaN   2448   \n",
       "10  join japanese private starship mission moon ma...   NaN   2487   \n",
       "11  return yongbyon kim korea weapons nuclear comp...   NaN   2965   \n",
       "12  election kyi myanmars coup suu state deadliest...   NaN   6152   \n",
       "13  return africa ghana festival roots place recon...   NaN   8504   \n",
       "14  media south reporter prominent leading covid k...   NaN   2886   \n",
       "15  ethiopian witnesses week region crisis deadly ...   NaN   5549   \n",
       "16  soldiers pkk helicopter eastern tatvan crashed...   NaN   1190   \n",
       "17  hardening american survey attitudes strong chi...   NaN   3921   \n",
       "18  eu stop million bloc italy australia productio...   NaN   2890   \n",
       "20  opened schoolgirls nigerian girls state zamfar...   NaN   2483   \n",
       "21  victims knife probe man swedish terrorism swed...   NaN   2682   \n",
       "23  electoral country peoples chinas kongs deliber...   NaN   4623   \n",
       "24  custody activists security democracy court cha...   NaN   4037   \n",
       "25  support eu pull uk checks loyalists peace ni r...   NaN   4246   \n",
       "26  coup widely outrage security crackdown protest...   NaN   6705   \n",
       "27  children religious dutch isolated court case s...   NaN   3114   \n",
       "28  state policemen military refuge states myanmar...   NaN   1476   \n",
       "29  migrants eu involved european pushback border ...   NaN   4834   \n",
       "30  sheikh medical al trip sabah checks flies stat...   NaN   1767   \n",
       "31  eu european companies levels pay union gender ...   NaN   3531   \n",
       "32  oil incident crude sticks syria terror ministe...   NaN   3529   \n",
       "33  voyage migrants africa overboard survivors org...   NaN   1371   \n",
       "34  buenos million week paulo movie surge aires fo...   NaN   4974   \n",
       "35  vote trust week senate house parliament seek m...   NaN   1757   \n",
       "37  number major reporting areas wildfires portuga...   NaN   1195   \n",
       "38  election kosovo cabinet won serbia president w...   NaN   2429   \n",
       "39  bomb official afghan gunmen kills eastern grou...   NaN   2386   \n",
       "40  lockdown week soup good food easier thing wind...   NaN   4525   \n",
       "42  million reports billion dhabis emirates etihad...   NaN   2341   \n",
       "43  threat terrorist man christchurch white charge...   NaN   1736   \n",
       "45  courts war schondorf investigation icc west pa...   NaN   1643   \n",
       "46  lifethreatening hospital ax victims terrorist ...   NaN   1646   \n",
       "47  agreement signs nepal widely group party peace...   NaN   1486   \n",
       "49  iraq sacristy later ahead salvation church pop...   NaN   6683   \n",
       "\n",
       "                                            Summaries  \n",
       "0   abc news live, abcnewscom goodmorningamericaco...  \n",
       "1   prince philip was transferred to st bartholome...  \n",
       "2   iraqi military says at least rockets have slam...  \n",
       "3   pope francis will be the first pope to visit t...  \n",
       "4   a national panel of vaccine experts in canada ...  \n",
       "5   u.n. special envoy for myanmar christine schra...  \n",
       "6   south koreas first known transgender soldier w...  \n",
       "7   a man was killed by a rooster with a blade tie...  \n",
       "8   sweden has resisted going into lockdown unlike...  \n",
       "9   scientists say the square mile glacier broke o...  \n",
       "10  japanese billionaire is searching for eight me...  \n",
       "11  satellite imagery indicates north korea may be...  \n",
       "12  aung san suu kyi appeared healthy during her v...  \n",
       "13  rabbi kohain halevi is a board member of the d...  \n",
       "14  tributes from journalists and politicians are ...  \n",
       "15  ethiopian prime minister abiy ahmed has teamed...  \n",
       "16  cougar type helicopter crashed in a rural area...  \n",
       "17  pew poll shows strong negative attitudes among...  \n",
       "18  a shipment of a quarter million astrazeneca va...  \n",
       "20  hundreds of nigerian girls abducted last week ...  \n",
       "21  swedish authorities are investigating whether ...  \n",
       "23  china's ceremonial legislature will deliberate...  \n",
       "24  a hong kong court has ordered all prodemocracy...  \n",
       "25  paramilitary groups in northern ireland say th...  \n",
       "26  new: the united states calls for a stronger in...  \n",
       "27  a dutch court ruled that a stroke had so badly...  \n",
       "28  officials in northeastern india say they have ...  \n",
       "29  an inquiry into claims that the european union...  \n",
       "30  sheikh nawaf al ahmad al sabah has flown to th...  \n",
       "31  the european union executive wants to force em...  \n",
       "32  israel's environmental protection minister sta...  \n",
       "33  the international organization for migration s...  \n",
       "34  sao paulo and buenos aires are the two biggest...  \n",
       "35  imran khan will seek a vote of confidence from...  \n",
       "37  portugals government is reporting major progre...  \n",
       "38  results from kosovos feb early general electio...  \n",
       "39  afghan security official says at least seven c...  \n",
       "40  glenda andrews volunteers distribute hot meals...  \n",
       "42  etihad reported revenues of billion in compare...  \n",
       "43  a new zealand man is facing criminal charges a...  \n",
       "45  a senior israeli justice ministry official say...  \n",
       "46  hospital officials say three people wounded in...  \n",
       "47  nepals government signs peace agreement with a...  \n",
       "49  louis climis was a youth leader attending mass...  "
      ]
     },
     "execution_count": 98,
     "metadata": {},
     "output_type": "execute_result"
    }
   ],
   "source": [
    "df"
   ]
  },
  {
   "cell_type": "code",
   "execution_count": null,
   "id": "elder-jones",
   "metadata": {},
   "outputs": [],
   "source": []
  }
 ],
 "metadata": {
  "kernelspec": {
   "display_name": "tensor",
   "language": "python",
   "name": "tensor"
  },
  "language_info": {
   "codemirror_mode": {
    "name": "ipython",
    "version": 3
   },
   "file_extension": ".py",
   "mimetype": "text/x-python",
   "name": "python",
   "nbconvert_exporter": "python",
   "pygments_lexer": "ipython3",
   "version": "3.8.2"
  },
  "toc": {
   "base_numbering": 1,
   "nav_menu": {},
   "number_sections": true,
   "sideBar": true,
   "skip_h1_title": false,
   "title_cell": "Table of Contents",
   "title_sidebar": "Contents",
   "toc_cell": false,
   "toc_position": {},
   "toc_section_display": true,
   "toc_window_display": false
  }
 },
 "nbformat": 4,
 "nbformat_minor": 5
}
