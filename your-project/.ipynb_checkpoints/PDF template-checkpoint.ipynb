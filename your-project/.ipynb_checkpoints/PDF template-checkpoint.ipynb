{
 "cells": [
  {
   "cell_type": "code",
   "execution_count": 9,
   "id": "joined-activity",
   "metadata": {
    "ExecuteTime": {
     "end_time": "2021-03-09T10:50:01.178215Z",
     "start_time": "2021-03-09T10:50:01.173573Z"
    }
   },
   "outputs": [],
   "source": [
    "from reportlab.pdfgen import canvas\n",
    "from reportlab.pdfbase.ttfonts import TTFont\n",
    "from reportlab.pdfbase import pdfmetrics\n",
    "\n",
    "#pdfmetrics.registerFont(TTFont('Times-Roman', 'Times-Roman.ttf'))"
   ]
  },
  {
   "cell_type": "code",
   "execution_count": 12,
   "id": "negative-apparel",
   "metadata": {
    "ExecuteTime": {
     "end_time": "2021-03-09T10:51:56.468212Z",
     "start_time": "2021-03-09T10:51:56.463972Z"
    }
   },
   "outputs": [],
   "source": [
    "from reportlab.pdfbase.pdfmetrics import registerFontFamily\n",
    "registerFontFamily('Times-Roman',normal='Times-Roman')"
   ]
  },
  {
   "cell_type": "code",
   "execution_count": 145,
   "id": "rental-coalition",
   "metadata": {
    "ExecuteTime": {
     "end_time": "2021-03-09T15:11:32.943445Z",
     "start_time": "2021-03-09T15:11:32.936444Z"
    }
   },
   "outputs": [],
   "source": [
    "fileName = \"test_template.pdf\"\n",
    "documentTitle = \"Daily Report\"\n",
    "\n",
    "NewspaperName = \"The Guardian\"\n",
    "\n",
    "Topics_title = \"These are todays most popular topics\"\n",
    "Wordclouds_title = \"Todays most mentioned words\"\n",
    "Summaries = \"Todays Summaries\"\n",
    "Sentiment = \"Todays sentiment per article or overall.\"\n",
    "image1 = \"clouds/words_test0.png\"\n",
    "image2 = \"clouds/words_test1.png\"\n",
    "image3 = \"clouds/words_test2.png\"\n",
    "image4 = \"clouds/words_test3.png\"\n",
    "\n",
    "title_article1 = \"Aticle title 1 but long lets see if it can handle it \"\n",
    "title_article2 = \"Aticle title 2 but long lets see if it can handle it \"\n",
    "title_article3 = \"Aticle title 3 but long lets see if it can handle it \"\n",
    "title_article4 = \"Aticle title 4 but long lets see if it can handle it \"\n",
    "\n",
    "Summary_title = \"Todays summaries: \"\n",
    "Summary1 = \"Block of text Block of text Block of text. Block of text Block of text. Block of text Block of text Block of text Block of text Block of text. Block of text Block of text Block of text Block of text .Block of text\"\n",
    "Summary2 = \"Block of text Block of text Block of text. Block of text Block of text. Block of text Block of text Block of text Block of text Block of text. Block of text Block of text Block of text Block of text .Block of text\"\n",
    "\n"
   ]
  },
  {
   "cell_type": "code",
   "execution_count": 140,
   "id": "psychological-phenomenon",
   "metadata": {
    "ExecuteTime": {
     "end_time": "2021-03-09T15:07:01.678638Z",
     "start_time": "2021-03-09T15:07:01.672065Z"
    }
   },
   "outputs": [
    {
     "data": {
      "text/plain": [
       "213"
      ]
     },
     "execution_count": 140,
     "metadata": {},
     "output_type": "execute_result"
    }
   ],
   "source": [
    "len(Summary1)"
   ]
  },
  {
   "cell_type": "code",
   "execution_count": 141,
   "id": "ignored-silence",
   "metadata": {
    "ExecuteTime": {
     "end_time": "2021-03-09T15:07:01.888942Z",
     "start_time": "2021-03-09T15:07:01.881159Z"
    }
   },
   "outputs": [
    {
     "data": {
      "text/plain": [
       "['Block of text Block of text Block of text',\n",
       " ' Block of text Block of text',\n",
       " ' Block of text Block of text Block of text Block of text Block of text',\n",
       " ' Block of text Block of text Block of text Block of text ',\n",
       " 'Block of text']"
      ]
     },
     "execution_count": 141,
     "metadata": {},
     "output_type": "execute_result"
    }
   ],
   "source": [
    "Summary1_ = Summary1.split(\".\")\n",
    "Summary1_\n",
    "Summary2_ = Summary2.split(\".\")\n",
    "Summary1_\n",
    "        "
   ]
  },
  {
   "cell_type": "code",
   "execution_count": 157,
   "id": "every-craft",
   "metadata": {
    "ExecuteTime": {
     "end_time": "2021-03-09T15:21:50.012900Z",
     "start_time": "2021-03-09T15:21:49.844871Z"
    }
   },
   "outputs": [],
   "source": [
    "pdf = canvas.Canvas(fileName)\n",
    "\n",
    "pdf.setTitle(documentTitle)\n",
    "\n",
    "#drawMyRuler(pdf)\n",
    "\n",
    "\n",
    "###We start \n",
    "# we set title font for each newspaper\n",
    "pdf.setFont(\"Times-Roman\", 32)\n",
    "# we create the main title \n",
    "pdf.drawCentredString(300, 780, NewspaperName)\n",
    "\n",
    "#now we want to create a place top right for the word clouds: \n",
    "# firts we set the font for the title \n",
    "pdf.setFont(\"Times-Roman\", 15)\n",
    "# we set the title and center it \n",
    "pdf.drawString(30, 755, Wordclouds_title)\n",
    "\n",
    "\n",
    "#We now place our image 1\n",
    "\n",
    "pdf.drawInlineImage(image1, 25, 633, 130, 100)\n",
    "#Title 1 \n",
    "\n",
    "pdf.setFont(\"Times-Roman\", 8)\n",
    "pdf.drawString(20, 735, title_article1)\n",
    "#We now place our image 2\n",
    "\n",
    "pdf.drawInlineImage(image2, 200, 633, 130, 100)\n",
    "#title 2 \n",
    "pdf.setFont(\"Times-Roman\", 8)\n",
    "pdf.drawString(185, 735, title_article2)\n",
    "\n",
    "#We now place our image 3\n",
    "pdf.drawInlineImage(image3, 25, 522, 130, 100)\n",
    "#title 3\n",
    "pdf.setFont(\"Times-Roman\", 8)\n",
    "pdf.drawString(20, 625, title_article3)\n",
    "\n",
    "#We now place our image 4\n",
    "pdf.drawInlineImage(image4, 200, 522, 130, 100)\n",
    "\n",
    "#title 4\n",
    "pdf.setFont(\"Times-Roman\", 8)\n",
    "pdf.drawString(185, 625, title_article4)\n",
    "\n",
    "#Drawing \n",
    "#\n",
    "\n",
    "\n",
    "# Summaries \n",
    "#Title \n",
    "\n",
    "\n",
    "\n",
    "pdf.setFont(\"Times-Roman\", 18)\n",
    "# we set the title and center it \n",
    "pdf.drawString(30, 480, Summary_title)\n",
    "\n",
    "#title for first summary \n",
    "\n",
    "pdf.setFont(\"Times-Roman\", 12)\n",
    "pdf.drawString(30, 460, title_article1)\n",
    "\n",
    "# sum1 \n",
    "\n",
    "text = pdf.beginText(30, 445) # coordinates\n",
    "pdf.setFont(\"Times-Roman\", 8)# new font\n",
    "for line in Summary1_:\n",
    "    text.textLine(line)\n",
    "    \n",
    "pdf.drawText(text)\n",
    "\n",
    "\n",
    "#Title for second summary: \n",
    "pdf.setFont(\"Times-Roman\", 12)\n",
    "pdf.drawString(300, 460, title_article2)\n",
    "\n",
    "#sum2 \n",
    "text = pdf.beginText(300, 445) # coordinates\n",
    "pdf.setFont(\"Times-Roman\", 8)# new font\n",
    "for line in Summary2_:\n",
    "    text.textLine(line)\n",
    "    \n",
    "pdf.drawText(text)\n",
    "\n",
    "\n",
    "#title for third summary \n",
    "\n",
    "pdf.setFont(\"Times-Roman\", 12)\n",
    "pdf.drawString(30, 360, title_article3)\n",
    "\n",
    "# sum3\n",
    "\n",
    "text = pdf.beginText(30, 347) # coordinates\n",
    "pdf.setFont(\"Times-Roman\", 8)# new font\n",
    "for line in Summary1_:\n",
    "    text.textLine(line)\n",
    "    \n",
    "pdf.drawText(text)\n",
    "\n",
    "\n",
    "#Title for second summary: \n",
    "pdf.setFont(\"Times-Roman\", 12)\n",
    "pdf.drawString(300, 360, title_article4)\n",
    "\n",
    "#sum2 \n",
    "text = pdf.beginText(300, 347) # coordinates\n",
    "pdf.setFont(\"Times-Roman\", 8)# new font\n",
    "for line in Summary2_:\n",
    "    text.textLine(line)\n",
    "    \n",
    "pdf.drawText(text)\n",
    "\n",
    "\n",
    "\n",
    "\n",
    "\n",
    "\n",
    "\n",
    "pdf.save()"
   ]
  },
  {
   "cell_type": "code",
   "execution_count": 10,
   "id": "ideal-principle",
   "metadata": {
    "ExecuteTime": {
     "end_time": "2021-03-09T10:50:42.011617Z",
     "start_time": "2021-03-09T10:50:42.004073Z"
    }
   },
   "outputs": [],
   "source": [
    "def drawMyRuler(pdf):\n",
    "    pdf.drawString(100,810, 'x100')\n",
    "    pdf.drawString(200,810, 'x200')\n",
    "    pdf.drawString(300,810, 'x300')\n",
    "    pdf.drawString(400,810, 'x400')\n",
    "    pdf.drawString(500,810, 'x500')\n",
    "\n",
    "    pdf.drawString(10,100, 'y100')\n",
    "    pdf.drawString(10,200, 'y200')\n",
    "    pdf.drawString(10,300, 'y300')\n",
    "    pdf.drawString(10,400, 'y400')\n",
    "    pdf.drawString(10,500, 'y500')\n",
    "    pdf.drawString(10,600, 'y600')\n",
    "    pdf.drawString(10,700, 'y700')\n",
    "    pdf.drawString(10,800, 'y800') "
   ]
  },
  {
   "cell_type": "code",
   "execution_count": null,
   "id": "written-slovak",
   "metadata": {},
   "outputs": [],
   "source": []
  },
  {
   "cell_type": "code",
   "execution_count": null,
   "id": "devoted-skiing",
   "metadata": {},
   "outputs": [],
   "source": []
  },
  {
   "cell_type": "code",
   "execution_count": null,
   "id": "connected-fountain",
   "metadata": {},
   "outputs": [],
   "source": []
  }
 ],
 "metadata": {
  "kernelspec": {
   "display_name": "tensor",
   "language": "python",
   "name": "tensor"
  },
  "language_info": {
   "codemirror_mode": {
    "name": "ipython",
    "version": 3
   },
   "file_extension": ".py",
   "mimetype": "text/x-python",
   "name": "python",
   "nbconvert_exporter": "python",
   "pygments_lexer": "ipython3",
   "version": "3.8.2"
  },
  "toc": {
   "base_numbering": 1,
   "nav_menu": {},
   "number_sections": true,
   "sideBar": true,
   "skip_h1_title": false,
   "title_cell": "Table of Contents",
   "title_sidebar": "Contents",
   "toc_cell": false,
   "toc_position": {},
   "toc_section_display": true,
   "toc_window_display": false
  }
 },
 "nbformat": 4,
 "nbformat_minor": 5
}
